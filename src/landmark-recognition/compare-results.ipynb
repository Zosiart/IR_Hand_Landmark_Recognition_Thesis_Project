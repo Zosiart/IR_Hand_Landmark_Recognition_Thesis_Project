{
 "cells": [
  {
   "cell_type": "code",
   "id": "initial_id",
   "metadata": {
    "collapsed": true,
    "ExecuteTime": {
     "end_time": "2024-12-27T09:11:47.413377Z",
     "start_time": "2024-12-27T09:11:35.147025Z"
    }
   },
   "source": [
    "import mediapipe as mp\n",
    "import matplotlib.pyplot as plt\n",
    "from mediapipe.tasks import python\n",
    "from mediapipe.tasks.python import vision\n",
    "from mediapipe import solutions\n",
    "from mediapipe.framework.formats import landmark_pb2\n",
    "from rembg import remove\n",
    "from PIL import Image\n",
    "import numpy as np"
   ],
   "outputs": [],
   "execution_count": 1
  },
  {
   "metadata": {},
   "cell_type": "markdown",
   "source": "## Parameters",
   "id": "1a49b1954276f7f"
  },
  {
   "metadata": {
    "ExecuteTime": {
     "end_time": "2024-12-27T09:11:47.444864Z",
     "start_time": "2024-12-27T09:11:47.429024Z"
    }
   },
   "cell_type": "code",
   "source": [
    "mediapipe_model_path = '../hand_landmarker.task'\n",
    "mediapipe_gesture_recognizer_model_path = '../gesture_recognizer.task'\n",
    "RGB_image_directory = '../../resources/evaluation_dataset/RGB'\n",
    "RGB_ground_truth_directory = '../../resources/evaluation_dataset/RGB_annotation'\n",
    "IR_image_directory = '../../resources/evaluation_dataset/IR'\n",
    "IR_ground_truth_directory = '../../resources/evaluation_dataset/IR_annotations'\n",
    "bad_score_penalty = 1\n",
    "distance_threshold = 0.05"
   ],
   "id": "3489d579e81a5cc9",
   "outputs": [],
   "execution_count": 2
  },
  {
   "metadata": {},
   "cell_type": "markdown",
   "source": "## Create Models",
   "id": "9ee8b2ca26ced1a4"
  },
  {
   "metadata": {
    "ExecuteTime": {
     "end_time": "2024-12-27T09:11:47.560002Z",
     "start_time": "2024-12-27T09:11:47.450499Z"
    }
   },
   "cell_type": "code",
   "source": [
    "base_options= python.BaseOptions(model_asset_path=mediapipe_model_path)\n",
    "options = vision.HandLandmarkerOptions(base_options=base_options,\n",
    "                                       num_hands=2)\n",
    "landmark_detector = vision.HandLandmarker.create_from_options(options)"
   ],
   "id": "76df8c6b8e5b4206",
   "outputs": [],
   "execution_count": 3
  },
  {
   "metadata": {
    "ExecuteTime": {
     "end_time": "2024-12-27T09:11:47.838883Z",
     "start_time": "2024-12-27T09:11:47.773073Z"
    }
   },
   "cell_type": "code",
   "source": [
    "base_options = python.BaseOptions(model_asset_path=mediapipe_gesture_recognizer_model_path)\n",
    "# classifier_options = vision.ImageClassifierOptions(category_allowlist=[\"Open_Palm\", \"None\"],\n",
    "#                                                    score_threshold=0.3,\n",
    "#                                                    max_results=2,)\n",
    "\n",
    "options = vision.GestureRecognizerOptions(base_options=base_options,\n",
    "                                          num_hands=2)\n",
    "\n",
    "options.canned_gesture_classifier_options.score_threshold = 0\n",
    "gesture_recognizer = vision.GestureRecognizer.create_from_options(options)"
   ],
   "id": "5b272bc566577fe5",
   "outputs": [],
   "execution_count": 4
  },
  {
   "metadata": {},
   "cell_type": "markdown",
   "source": "## Drawing Landmarks",
   "id": "10fd4b7d9e0fb4f8"
  },
  {
   "metadata": {
    "ExecuteTime": {
     "end_time": "2024-12-27T09:11:47.886183Z",
     "start_time": "2024-12-27T09:11:47.870589Z"
    }
   },
   "cell_type": "code",
   "source": [
    "MARGIN = 10  # pixels\n",
    "FONT_SIZE = 1\n",
    "FONT_THICKNESS = 1\n",
    "HANDEDNESS_TEXT_COLOR = (88, 205, 54) # vibrant green\n",
    "\n",
    "def draw_landmarks_on_image(rgb_image, detection_result):\n",
    "  hand_landmarks_list = detection_result.hand_landmarks\n",
    "  handedness_list = detection_result.handedness\n",
    "  annotated_image = np.copy(rgb_image)\n",
    "\n",
    "  # Loop through the detected hands to visualize.\n",
    "  for idx in range(len(hand_landmarks_list)):\n",
    "    hand_landmarks = hand_landmarks_list[idx]\n",
    "    handedness = handedness_list[idx]\n",
    "\n",
    "    # Draw the hand landmarks.\n",
    "    hand_landmarks_proto = landmark_pb2.NormalizedLandmarkList()\n",
    "    hand_landmarks_proto.landmark.extend([\n",
    "      landmark_pb2.NormalizedLandmark(x=landmark.x, y=landmark.y, z=landmark.z) for landmark in hand_landmarks\n",
    "    ])\n",
    "    solutions.drawing_utils.draw_landmarks(\n",
    "      annotated_image,\n",
    "      hand_landmarks_proto,\n",
    "      solutions.hands.HAND_CONNECTIONS,\n",
    "      solutions.drawing_styles.get_default_hand_landmarks_style(),\n",
    "      solutions.drawing_styles.get_default_hand_connections_style())\n",
    "\n",
    "    # Get the top left corner of the detected hand's bounding box.\n",
    "    height, width, _ = annotated_image.shape\n",
    "    x_coordinates = [landmark.x for landmark in hand_landmarks]\n",
    "    y_coordinates = [landmark.y for landmark in hand_landmarks]\n",
    "    text_x = int(min(x_coordinates) * width)\n",
    "    text_y = int(min(y_coordinates) * height) - MARGIN\n",
    "\n",
    "    # Draw handedness (left or right hand) on the image.\n",
    "    cv2.putText(annotated_image, f\"{handedness[0].category_name}\",\n",
    "                (text_x, text_y), cv2.FONT_HERSHEY_DUPLEX,\n",
    "                FONT_SIZE, HANDEDNESS_TEXT_COLOR, FONT_THICKNESS, cv2.LINE_AA)\n",
    "\n",
    "  return annotated_image"
   ],
   "id": "2427619c14560a50",
   "outputs": [],
   "execution_count": 5
  },
  {
   "metadata": {
    "ExecuteTime": {
     "end_time": "2024-12-27T09:11:47.933488Z",
     "start_time": "2024-12-27T09:11:47.901796Z"
    }
   },
   "cell_type": "code",
   "source": [
    "MARGIN = 10  # pixels\n",
    "FONT_SIZE = 1\n",
    "FONT_THICKNESS = 1\n",
    "HANDEDNESS_TEXT_COLOR = (88, 205, 54) # vibrant green\n",
    "\n",
    "def draw_landmarks_on_image_from_json(rgb_image, evaluation_result):\n",
    "  hand_landmarks_list = evaluation_result['landmarks']\n",
    "  # handedness_list = detection_result.handedness\n",
    "  annotated_image = np.copy(rgb_image)\n",
    "\n",
    "  # Loop through the detected hands to visualize.\n",
    "  for idx in range(len(hand_landmarks_list)):\n",
    "    hand_landmarks = hand_landmarks_list[idx]\n",
    "    # handedness = handedness_list[idx]\n",
    "    height, width, _ = annotated_image.shape\n",
    "    # Draw the hand landmarks.\n",
    "    hand_landmarks_proto = landmark_pb2.NormalizedLandmarkList()\n",
    "    hand_landmarks_proto.landmark.extend([\n",
    "      landmark_pb2.NormalizedLandmark(x=float(landmark['x']), y=float(landmark['y']), z=0.0) for landmark in hand_landmarks\n",
    "    ])\n",
    "    solutions.drawing_utils.draw_landmarks(\n",
    "      annotated_image,\n",
    "      hand_landmarks_proto,\n",
    "      solutions.hands.HAND_CONNECTIONS,\n",
    "      solutions.drawing_styles.get_default_hand_landmarks_style(),\n",
    "      solutions.drawing_styles.get_default_hand_connections_style())\n",
    "\n",
    "    # Get the top left corner of the detected hand's bounding box.\n",
    "   \n",
    "    x_coordinates = [landmark['x'] for landmark in hand_landmarks]\n",
    "    y_coordinates = [landmark['y'] for landmark in hand_landmarks]\n",
    "    text_x = int(min(x_coordinates) * width)\n",
    "    text_y = int(min(y_coordinates) * height) - MARGIN\n",
    "\n",
    "    # Draw handedness (left or right hand) on the image.\n",
    "    cv2.putText(annotated_image, f\"Left\",\n",
    "                (text_x, text_y), cv2.FONT_HERSHEY_DUPLEX,\n",
    "                FONT_SIZE, HANDEDNESS_TEXT_COLOR, FONT_THICKNESS, cv2.LINE_AA)\n",
    "\n",
    "  return annotated_image"
   ],
   "id": "8c59b8f6478c6ff9",
   "outputs": [],
   "execution_count": 6
  },
  {
   "metadata": {},
   "cell_type": "markdown",
   "source": "## Assessing the Accuracy",
   "id": "a89c5474010875a3"
  },
  {
   "metadata": {
    "ExecuteTime": {
     "end_time": "2024-12-27T09:11:47.964500Z",
     "start_time": "2024-12-27T09:11:47.949786Z"
    }
   },
   "cell_type": "code",
   "source": [
    "def calculate_accuracy(ground_truth, prediction, threshold):\n",
    "    if prediction is None:  # Missing landmark\n",
    "        return 0.0\n",
    "    distance = np.sqrt((float(ground_truth[\"x\"]) - prediction.x) ** 2 + \n",
    "                       (float(ground_truth[\"y\"]) - prediction.y) ** 2)\n",
    "    return max(0, 1 - distance / threshold) * 100"
   ],
   "id": "25bfd4e1071d2f8f",
   "outputs": [],
   "execution_count": 7
  },
  {
   "metadata": {
    "ExecuteTime": {
     "end_time": "2024-12-27T09:11:48.005983Z",
     "start_time": "2024-12-27T09:11:47.985955Z"
    }
   },
   "cell_type": "code",
   "source": [
    "from itertools import permutations\n",
    "\n",
    "def calculate_hand_accuracies(ground_truth_hands, predicted_hands, handedness_info, threshold):\n",
    "    accuracies = {\"Left\": [], \"Right\": []}\n",
    "\n",
    "    # If no hands detected, accuracy is 0% for both hands\n",
    "    if len(predicted_hands) == 0:\n",
    "        return {\"Left\": [0.0]*21, \"Right\": [0.0]*21}\n",
    "    \n",
    "\n",
    "    first_predicted_hand = predicted_hands[0]\n",
    "\n",
    "    hand_accuracy_1 = [\n",
    "        calculate_accuracy(gt_landmark, pred_landmark, threshold)\n",
    "        for gt_landmark, pred_landmark in zip(ground_truth_hands[0], first_predicted_hand)\n",
    "    ]\n",
    "\n",
    "    hand_accuracy_2 = [\n",
    "        calculate_accuracy(gt_landmark, pred_landmark, threshold)\n",
    "        for gt_landmark, pred_landmark in zip(ground_truth_hands[1], first_predicted_hand)\n",
    "    ]\n",
    "\n",
    "    if len(predicted_hands) == 1 and sum(hand_accuracy_1) > sum(hand_accuracy_2):\n",
    "        accuracies[\"Left\"] = hand_accuracy_1\n",
    "        accuracies[\"Right\"] = [0.0]*21\n",
    "        return accuracies\n",
    "    elif len(predicted_hands) == 1:\n",
    "        accuracies[\"Right\"] = hand_accuracy_2\n",
    "        accuracies[\"Left\"] = [0.0]*21\n",
    "        return accuracies\n",
    "    else:\n",
    "        second_predicted_hand = predicted_hands[1]\n",
    "        hand_accuracy_3 = [\n",
    "            calculate_accuracy(gt_landmark, pred_landmark, threshold)\n",
    "            for gt_landmark, pred_landmark in zip(ground_truth_hands[0], second_predicted_hand)\n",
    "        ]\n",
    "\n",
    "        hand_accuracy_4 = [\n",
    "            calculate_accuracy(gt_landmark, pred_landmark, threshold)\n",
    "            for gt_landmark, pred_landmark in zip(ground_truth_hands[1], second_predicted_hand)\n",
    "        ]\n",
    "\n",
    "        if sum(hand_accuracy_1) + sum(hand_accuracy_4) > sum(hand_accuracy_2) + sum(hand_accuracy_3):\n",
    "            accuracies[\"Left\"] = hand_accuracy_1\n",
    "            accuracies[\"Right\"] = hand_accuracy_4\n",
    "        else:\n",
    "            accuracies[\"Right\"] = hand_accuracy_2\n",
    "            accuracies[\"Left\"] = hand_accuracy_3\n",
    "\n",
    "    return accuracies"
   ],
   "id": "3e1e1b9685c123c5",
   "outputs": [],
   "execution_count": 8
  },
  {
   "metadata": {
    "ExecuteTime": {
     "end_time": "2024-12-27T09:11:48.037031Z",
     "start_time": "2024-12-27T09:11:48.021392Z"
    }
   },
   "cell_type": "code",
   "source": [
    "def assess_accuracy(image_path, ground_truth_hands):\n",
    "    \"\"\"\n",
    "    Assess accuracy of predictions for a given image.\n",
    "    \"\"\"\n",
    "    image = mp.Image.create_from_file(image_path)\n",
    "    \n",
    "    results = landmark_detector.detect(image)\n",
    "    \n",
    "    if not results.hand_landmarks or len(results.hand_landmarks) == 0:\n",
    "        print(f\"No hands detected for {image_path}\")\n",
    "        return {\"Left\": [0.0]*21, \"Right\": [0.0]*21}\n",
    "\n",
    "    return calculate_hand_accuracies(\n",
    "        ground_truth_hands,\n",
    "        results.hand_landmarks,\n",
    "        results.handedness,\n",
    "        distance_threshold\n",
    "    )"
   ],
   "id": "ba74de54791fbfe1",
   "outputs": [],
   "execution_count": 9
  },
  {
   "metadata": {},
   "cell_type": "markdown",
   "source": "## Calculating Distance and Average Sum of Distance for the Dataset",
   "id": "3b2cbb064e13dc48"
  },
  {
   "metadata": {
    "ExecuteTime": {
     "end_time": "2024-12-27T09:11:48.068491Z",
     "start_time": "2024-12-27T09:11:48.053058Z"
    }
   },
   "cell_type": "code",
   "source": [
    "def calculate_euclidean_distance(ground_truth, prediction):\n",
    "    distance = np.sqrt((float(ground_truth[\"x\"]) - prediction.x) ** 2 + \n",
    "                       (float(ground_truth[\"y\"]) - prediction.y) ** 2)\n",
    "    return distance"
   ],
   "id": "bd037d6f1070e035",
   "outputs": [],
   "execution_count": 10
  },
  {
   "metadata": {
    "ExecuteTime": {
     "end_time": "2024-12-27T09:11:48.117408Z",
     "start_time": "2024-12-27T09:11:48.088357Z"
    }
   },
   "cell_type": "code",
   "source": [
    "def calculate_sum_of_distances(ground_truth_hands, predicted_hands):\n",
    "    distances = {\"Left\": [], \"Right\": []}\n",
    "    if len(predicted_hands) == 0:\n",
    "        return sum([bad_score_penalty*21]) + sum([bad_score_penalty*21])\n",
    "    \n",
    "    if len(predicted_hands) == 1:\n",
    "        print(\"Only one hand detected\")\n",
    "\n",
    "    first_predicted_hand = predicted_hands[0]\n",
    "\n",
    "    hand_distances_1 = [\n",
    "        calculate_euclidean_distance(gt_landmark, pred_landmark)\n",
    "        for gt_landmark, pred_landmark in zip(ground_truth_hands[0], first_predicted_hand)\n",
    "    ]\n",
    "\n",
    "    hand_distances_2 = [\n",
    "        calculate_euclidean_distance(gt_landmark, pred_landmark)\n",
    "        for gt_landmark, pred_landmark in zip(ground_truth_hands[1], first_predicted_hand)\n",
    "    ]\n",
    "\n",
    "    if len(predicted_hands) == 1 and sum(hand_distances_1) < sum(hand_distances_2):\n",
    "        distances[\"Left\"] = sum(hand_distances_1)\n",
    "        distances[\"Right\"] = sum([bad_score_penalty*21])\n",
    "    elif len(predicted_hands) == 1:\n",
    "        distances[\"Right\"] = sum(hand_distances_2)\n",
    "        distances[\"Left\"] = sum([bad_score_penalty*21])\n",
    "    else:\n",
    "        second_predicted_hand = predicted_hands[1]\n",
    "        hand_distances_3 = [\n",
    "            calculate_euclidean_distance(gt_landmark, pred_landmark)\n",
    "            for gt_landmark, pred_landmark in zip(ground_truth_hands[0], second_predicted_hand)\n",
    "        ]\n",
    "\n",
    "        hand_distances_4 = [\n",
    "            calculate_euclidean_distance(gt_landmark, pred_landmark)\n",
    "            for gt_landmark, pred_landmark in zip(ground_truth_hands[1], second_predicted_hand)\n",
    "        ]\n",
    "\n",
    "        if sum(hand_distances_1) + sum(hand_distances_4) < sum(hand_distances_2) + sum(hand_distances_3):\n",
    "            distances[\"Left\"] = sum(hand_distances_1)\n",
    "            distances[\"Right\"] = sum(hand_distances_4)\n",
    "        else:\n",
    "            distances[\"Right\"] = sum(hand_distances_2)\n",
    "            distances[\"Left\"] = sum(hand_distances_3)\n",
    "            \n",
    "    \n",
    "\n",
    "    return distances[\"Left\"] + distances[\"Right\"]"
   ],
   "id": "6a0b299e0819002c",
   "outputs": [],
   "execution_count": 11
  },
  {
   "metadata": {
    "ExecuteTime": {
     "end_time": "2024-12-27T09:11:48.148459Z",
     "start_time": "2024-12-27T09:11:48.132814Z"
    }
   },
   "cell_type": "code",
   "source": [
    "def calculate_sum_of_distances_for_image(image_path, ground_truth_hands):\n",
    "    image = mp.Image.create_from_file(image_path)\n",
    "    results = landmark_detector.detect(image)\n",
    "    distance = calculate_sum_of_distances(ground_truth_hands, results.hand_landmarks)\n",
    "    \n",
    "    return distance"
   ],
   "id": "9b52478ced6d1e4f",
   "outputs": [],
   "execution_count": 12
  },
  {
   "metadata": {
    "ExecuteTime": {
     "end_time": "2024-12-27T09:11:48.186847Z",
     "start_time": "2024-12-27T09:11:48.166537Z"
    }
   },
   "cell_type": "code",
   "source": [
    "def calculate_distances(ground_truth_hands, predicted_hands):\n",
    "    distances = {\"Left\": [], \"Right\": []}\n",
    "    if len(predicted_hands) == 0:\n",
    "        return {\"Left\": [bad_score_penalty] * 21, \"Right\": [bad_score_penalty] * 21 }\n",
    "    \n",
    "    if len(predicted_hands) == 1:\n",
    "        print(\"Only one hand detected\")\n",
    "\n",
    "    first_predicted_hand = predicted_hands[0]\n",
    "\n",
    "    hand_distances_1 = [\n",
    "        calculate_euclidean_distance(gt_landmark, pred_landmark)\n",
    "        for gt_landmark, pred_landmark in zip(ground_truth_hands[0], first_predicted_hand)\n",
    "    ]\n",
    "\n",
    "    hand_distances_2 = [\n",
    "        calculate_euclidean_distance(gt_landmark, pred_landmark)\n",
    "        for gt_landmark, pred_landmark in zip(ground_truth_hands[1], first_predicted_hand)\n",
    "    ]\n",
    "\n",
    "    if len(predicted_hands) == 1 and sum(hand_distances_1) < sum(hand_distances_2):\n",
    "        distances[\"Left\"] = hand_distances_1\n",
    "        distances[\"Right\"] = [bad_score_penalty] * 21\n",
    "    elif len(predicted_hands) == 1:\n",
    "        distances[\"Right\"] = hand_distances_2\n",
    "        distances[\"Left\"] = [bad_score_penalty] * 21\n",
    "    else:\n",
    "        second_predicted_hand = predicted_hands[1]\n",
    "        hand_distances_3 = [\n",
    "            calculate_euclidean_distance(gt_landmark, pred_landmark)\n",
    "            for gt_landmark, pred_landmark in zip(ground_truth_hands[0], second_predicted_hand)\n",
    "        ]\n",
    "\n",
    "        hand_distances_4 = [\n",
    "            calculate_euclidean_distance(gt_landmark, pred_landmark)\n",
    "            for gt_landmark, pred_landmark in zip(ground_truth_hands[1], second_predicted_hand)\n",
    "        ]\n",
    "\n",
    "        if sum(hand_distances_1) + sum(hand_distances_4) < sum(hand_distances_2) + sum(hand_distances_3):\n",
    "            distances[\"Left\"] = hand_distances_1\n",
    "            distances[\"Right\"] = hand_distances_4\n",
    "        else:\n",
    "            distances[\"Right\"] = hand_distances_2\n",
    "            distances[\"Left\"] = hand_distances_3\n",
    "            \n",
    "    return distances"
   ],
   "id": "232c3da9a1202f3a",
   "outputs": [],
   "execution_count": 13
  },
  {
   "metadata": {
    "ExecuteTime": {
     "end_time": "2024-12-27T09:11:48.218996Z",
     "start_time": "2024-12-27T09:11:48.203479Z"
    }
   },
   "cell_type": "code",
   "source": [
    "# def calculate_avg_sum_of_distances(image_path, ground_truth_hands):\n",
    "#     image = mp.Image.create_from_file(image_path)\n",
    "#     \n",
    "#     results = landmark_detector.detect(image)\n",
    "# \n",
    "#     if not results.hand_landmarks or len(results.hand_landmarks) == 0:\n",
    "#         print(f\"No hands detected for {image_path}\")\n",
    "#         return {\"Left\": [bad_score_penalty]*21, \"Right\": [bad_score_penalty]*21}\n",
    "#     \n",
    "#     distances = calculate_sum_of_distances(ground_truth_hands, results.hand_landmarks)\n",
    "# \n",
    "#     return distances[\"Left\"] + distances[\"Right\"]/22.0"
   ],
   "id": "2e9183ea8259a9cb",
   "outputs": [],
   "execution_count": 14
  },
  {
   "metadata": {
    "ExecuteTime": {
     "end_time": "2024-12-27T09:11:48.250010Z",
     "start_time": "2024-12-27T09:11:48.236664Z"
    }
   },
   "cell_type": "code",
   "source": [
    "def calculate_avg_distance_for_image(image_path, ground_truth_hands):\n",
    "    image = mp.Image.create_from_file(image_path)\n",
    "    results = landmark_detector.detect(image)\n",
    "    distances = calculate_distances(ground_truth_hands, results.hand_landmarks)\n",
    "    \n",
    "    return sum(distances[\"Left\"] + distances[\"Right\"]) / len(distances[\"Left\"] + distances[\"Right\"])"
   ],
   "id": "17371f80dc4a2861",
   "outputs": [],
   "execution_count": 15
  },
  {
   "metadata": {
    "ExecuteTime": {
     "end_time": "2024-12-27T09:11:48.280923Z",
     "start_time": "2024-12-27T09:11:48.267923Z"
    }
   },
   "cell_type": "code",
   "source": [
    "def calculate_distances_for_image(image_path, ground_truth_hands):\n",
    "    image = mp.Image.create_from_file(image_path)\n",
    "    results = landmark_detector.detect(image)\n",
    "    distances = calculate_distances(ground_truth_hands, results.hand_landmarks)\n",
    "    \n",
    "    return distances[\"Left\"] + distances[\"Right\"]"
   ],
   "id": "f5e1728539b74ead",
   "outputs": [],
   "execution_count": 16
  },
  {
   "metadata": {},
   "cell_type": "markdown",
   "source": "## Creating Thresholds/Bounds\n",
   "id": "238d1ae0f27a83a2"
  },
  {
   "metadata": {
    "ExecuteTime": {
     "end_time": "2024-12-27T09:11:48.312627Z",
     "start_time": "2024-12-27T09:11:48.297477Z"
    }
   },
   "cell_type": "code",
   "source": [
    "def calculate_final_accuracy(scores):\n",
    "    all_scores = scores[\"Left\"] + scores[\"Right\"]\n",
    "    return sum(all_scores) / len(all_scores) if all_scores else 0.0"
   ],
   "id": "cb280ec4155ddba6",
   "outputs": [],
   "execution_count": 17
  },
  {
   "metadata": {
    "ExecuteTime": {
     "end_time": "2024-12-27T09:11:48.350193Z",
     "start_time": "2024-12-27T09:11:48.330564Z"
    }
   },
   "cell_type": "code",
   "source": [
    "import os\n",
    "import json\n",
    "\n",
    "def calculate_bound_accuracy(image_directory, ground_truth_directory):\n",
    "    total_bound = {\"Left\": [], \"Right\":[]}\n",
    "    for file_name in os.listdir(ground_truth_directory):\n",
    "        if file_name.endswith('.json'):\n",
    "            json_file_path = os.path.join(ground_truth_directory, file_name)\n",
    "            \n",
    "            with open(json_file_path, 'r') as f:\n",
    "                ground_truth_data = json.load(f)\n",
    "                \n",
    "            for entry in ground_truth_data:\n",
    "                image_name = entry[\"image\"]\n",
    "                ground_truth_landmarks = entry[\"landmarks\"]\n",
    "                image_path = os.path.join(image_directory, image_name)\n",
    "    \n",
    "                # Assess accuracy for RGB images (upper bound)\n",
    "                score = assess_accuracy(image_path, ground_truth_landmarks)\n",
    "                \n",
    "                for hand in [\"Left\", \"Right\"]:\n",
    "                    total_bound[hand].extend(score[hand])\n",
    "    return calculate_final_accuracy(total_bound)\n",
    "    "
   ],
   "id": "fd1d97cdedc6a2c5",
   "outputs": [],
   "execution_count": 18
  },
  {
   "metadata": {
    "ExecuteTime": {
     "end_time": "2024-12-27T09:12:02.622180Z",
     "start_time": "2024-12-27T09:11:48.384854Z"
    }
   },
   "cell_type": "code",
   "source": [
    "upper_bound_accuracy = calculate_bound_accuracy(RGB_image_directory, RGB_ground_truth_directory)\n",
    "lower_bound_accuracy = calculate_bound_accuracy(IR_image_directory ,IR_ground_truth_directory)"
   ],
   "id": "53d9cc0ef275495a",
   "outputs": [
    {
     "name": "stdout",
     "output_type": "stream",
     "text": [
      "No hands detected for ../../resources/evaluation_dataset/IR\\3_IMG20241127100408.jpg\n",
      "No hands detected for ../../resources/evaluation_dataset/IR\\5_IMG20241127100507.jpg\n",
      "No hands detected for ../../resources/evaluation_dataset/IR\\6_IMG20241127100515.jpg\n",
      "No hands detected for ../../resources/evaluation_dataset/IR\\10_IMG20241127100740.jpg\n",
      "No hands detected for ../../resources/evaluation_dataset/IR\\11_IMG20241127100906.jpg\n",
      "No hands detected for ../../resources/evaluation_dataset/IR\\12_IMG20241127100913.jpg\n",
      "No hands detected for ../../resources/evaluation_dataset/IR\\13_IMG20241127101012.jpg\n",
      "No hands detected for ../../resources/evaluation_dataset/IR\\14_IMG20241127101019.jpg\n",
      "No hands detected for ../../resources/evaluation_dataset/IR\\29_IMG20241127102051.jpg\n",
      "No hands detected for ../../resources/evaluation_dataset/IR\\38_IMG20241127102643.jpg\n",
      "No hands detected for ../../resources/evaluation_dataset/IR\\39_IMG20241127102649.jpg\n",
      "No hands detected for ../../resources/evaluation_dataset/IR\\40_IMG20241127102805.jpg\n",
      "No hands detected for ../../resources/evaluation_dataset/IR\\41_IMG20241127102811.jpg\n",
      "No hands detected for ../../resources/evaluation_dataset/IR\\42_IMG20241127102854.jpg\n",
      "No hands detected for ../../resources/evaluation_dataset/IR\\45_IMG20241127103113.jpg\n",
      "No hands detected for ../../resources/evaluation_dataset/IR\\49_IMG20241127103207.jpg\n",
      "No hands detected for ../../resources/evaluation_dataset/IR\\57_IMG20241127103455.jpg\n",
      "No hands detected for ../../resources/evaluation_dataset/IR\\59_IMG20241127103541.jpg\n",
      "No hands detected for ../../resources/evaluation_dataset/IR\\75_IMG20241127104020.jpg\n",
      "No hands detected for ../../resources/evaluation_dataset/IR\\75_IMG20241127104020.jpg\n",
      "No hands detected for ../../resources/evaluation_dataset/IR\\79_IMG20241127105256.jpg\n"
     ]
    }
   ],
   "execution_count": 19
  },
  {
   "metadata": {
    "ExecuteTime": {
     "end_time": "2024-12-27T09:12:02.659013Z",
     "start_time": "2024-12-27T09:12:02.643375Z"
    }
   },
   "cell_type": "code",
   "source": [
    "print(f\"Upper Bound Accuracy (RGB): {upper_bound_accuracy:.2f}%\")\n",
    "print(f\"Lower Bound Accuracy (Infrared): {lower_bound_accuracy:.2f}%\")"
   ],
   "id": "68bfde699ca4b2af",
   "outputs": [
    {
     "name": "stdout",
     "output_type": "stream",
     "text": [
      "Upper Bound Accuracy (RGB): 84.26%\n",
      "Lower Bound Accuracy (Infrared): 42.29%\n"
     ]
    }
   ],
   "execution_count": 20
  },
  {
   "metadata": {},
   "cell_type": "markdown",
   "source": "## Visualizing Thresholds",
   "id": "5a02e8544a65e6d3"
  },
  {
   "metadata": {
    "ExecuteTime": {
     "end_time": "2024-12-27T09:12:02.769598Z",
     "start_time": "2024-12-27T09:12:02.754032Z"
    }
   },
   "cell_type": "code",
   "source": [
    "def visualize_threshold_roi(image_path, ground_truth_landmarks, threshold, output_path):\n",
    "    \"\"\"\n",
    "    Visualizes regions of interest (ROIs) based on the threshold for accuracy.\n",
    "\n",
    "    Parameters:\n",
    "        image_path (str): Path to the image file.\n",
    "        ground_truth_landmarks (list of dict): Ground truth landmarks with 'x' and 'y' coordinates.\n",
    "        threshold (float): Distance threshold for accuracy calculation.\n",
    "        output_path (str): Path to save the output visualization image.\n",
    "    \"\"\"\n",
    "    # Load the image\n",
    "    image = cv2.imread(image_path)\n",
    "    overlay = image.copy()\n",
    "\n",
    "    height, width, _ = image.shape\n",
    "\n",
    "    # Draw circles around the ground truth landmarks\n",
    "    for hand in ground_truth_landmarks:\n",
    "        for landmark in hand:\n",
    "            center = (int(float(landmark['x']) * width), int(float(landmark['y']) * height))\n",
    "            radius = int(threshold*width)  # Scale threshold to image dimensions\n",
    "            color = (0, 255, 0)  # Green color for the circle\n",
    "            alpha = 0.4  # Transparency factor\n",
    "    \n",
    "            # Draw the circle on the overlay\n",
    "            cv2.circle(overlay, center, radius, color, -1)\n",
    "\n",
    "    # Blend the overlay with the original image\n",
    "    cv2.addWeighted(overlay, alpha, image, 1 - alpha, 0, image)\n",
    "\n",
    "    # Save the output image\n",
    "    cv2.imwrite(output_path, image)"
   ],
   "id": "8d34912e9f7d4ff0",
   "outputs": [],
   "execution_count": 21
  },
  {
   "metadata": {},
   "cell_type": "markdown",
   "source": "## Transforming Images",
   "id": "27b48a742b6daddb"
  },
  {
   "metadata": {
    "ExecuteTime": {
     "end_time": "2024-12-27T09:12:02.810896Z",
     "start_time": "2024-12-27T09:12:02.793134Z"
    }
   },
   "cell_type": "code",
   "source": [
    "import sys\n",
    "sys.path.append('../')\n",
    "sys.path.append('../colorization/zhang')"
   ],
   "id": "beffe87da273403a",
   "outputs": [],
   "execution_count": 22
  },
  {
   "metadata": {
    "ExecuteTime": {
     "end_time": "2024-12-27T09:12:05.145349Z",
     "start_time": "2024-12-27T09:12:02.826573Z"
    }
   },
   "cell_type": "code",
   "source": [
    "from src.colorization.Zhang import create_colorized_pictures\n",
    "def colorize_zhang_eccv16(image_path, image_name):\n",
    "    create_colorized_pictures(model='eccv16', img_path=image_path, save_prefix=image_name)  \n",
    "    return f'../../resources/stylized-pictures/eccv16/{image_name}_eccv16.png'"
   ],
   "id": "64d3a755aeb977dc",
   "outputs": [],
   "execution_count": 23
  },
  {
   "metadata": {
    "ExecuteTime": {
     "end_time": "2024-12-27T09:12:05.181882Z",
     "start_time": "2024-12-27T09:12:05.163956Z"
    }
   },
   "cell_type": "code",
   "source": [
    "def colorize_zhang_siggraph17(image_path, image_name):\n",
    "    create_colorized_pictures(model='siggraph17', img_path=image_path, save_prefix=image_name)  \n",
    "    return f'../../resources/stylized-pictures/siggraph17/{image_name}_siggraph17.png'\n",
    "    "
   ],
   "id": "fbd9306a4ef46991",
   "outputs": [],
   "execution_count": 24
  },
  {
   "metadata": {
    "ExecuteTime": {
     "end_time": "2024-12-27T09:12:05.219756Z",
     "start_time": "2024-12-27T09:12:05.197668Z"
    }
   },
   "cell_type": "code",
   "source": [
    "def clahe(image, clipLimit=2.0, tileGridSize=(8, 8), save_path=None, save_as_rgb=True):\n",
    "    \"\"\"\n",
    "    Applies Contrast Limited Adaptive Histogram Equalization (CLAHE) to an image.\n",
    "    \n",
    "    Parameters:\n",
    "    - image: Input image (grayscale or BGR/RGB).\n",
    "    - clipLimit: Threshold for contrast limiting.\n",
    "    - tileGridSize: Size of the grid for histogram equalization.\n",
    "    - save_path: Path to save the output image.\n",
    "    - save_as_rgb: Save the CLAHE-applied image in RGB format if True.\n",
    "    \n",
    "    Returns:\n",
    "    - Processed image in grayscale or RGB format.\n",
    "    \"\"\"\n",
    "    # Convert to grayscale if it's a color image\n",
    "    if len(image.shape) == 3:  # If RGB/BGR\n",
    "        gray = cv2.cvtColor(image, cv2.COLOR_BGR2GRAY)\n",
    "    else:\n",
    "        gray = image\n",
    "\n",
    "    # Apply CLAHE\n",
    "    clahe = cv2.createCLAHE(clipLimit=clipLimit, tileGridSize=tileGridSize)\n",
    "    clahe_image = clahe.apply(gray)\n",
    "\n",
    "    # Convert back to RGB if required\n",
    "    if save_as_rgb:\n",
    "        clahe_image_rgb = cv2.cvtColor(clahe_image, cv2.COLOR_GRAY2RGB)\n",
    "    else:\n",
    "        clahe_image_rgb = clahe_image\n",
    "\n",
    "    # Save the image if a save_path is provided\n",
    "    if save_path:\n",
    "        cv2.imwrite(save_path, clahe_image_rgb if save_as_rgb else clahe_image)\n",
    "        print(f\"CLAHE-applied image saved at {save_path}\")\n",
    "\n",
    "    return clahe_image_rgb if save_as_rgb else clahe_image\n"
   ],
   "id": "cb8da00b65162670",
   "outputs": [],
   "execution_count": 25
  },
  {
   "metadata": {
    "ExecuteTime": {
     "end_time": "2024-12-27T09:12:05.251542Z",
     "start_time": "2024-12-27T09:12:05.237933Z"
    }
   },
   "cell_type": "code",
   "source": [
    "def reduce_brightness(image_path, save_path, reduction_factor=0.5):\n",
    "    \"\"\"\n",
    "    Reads an image, reduces its brightness, and saves the result.\n",
    "    \n",
    "    Parameters:\n",
    "    - image_path: Path to the input image.\n",
    "    - save_path: Path to save the output image.\n",
    "    - reduction_factor: Factor by which to reduce brightness (0.0 to 1.0, where 1.0 is no change).\n",
    "    \n",
    "    Returns:\n",
    "    - The brightness-reduced image as a NumPy array.\n",
    "    \"\"\"\n",
    "    # Read the image\n",
    "    image = cv2.imread(image_path)\n",
    "\n",
    "    if image is None:\n",
    "        raise ValueError(f\"Image at path {image_path} could not be loaded.\")\n",
    "\n",
    "    # Convert to float to avoid clipping during multiplication\n",
    "    image = image.astype(np.float32)\n",
    "\n",
    "    # Reduce brightness\n",
    "    brightness_reduced = np.clip(image * reduction_factor, 0, 255).astype(np.uint8)\n",
    "\n",
    "    # Save the result\n",
    "    cv2.imwrite(save_path, brightness_reduced)\n",
    "    print(f\"Brightness-reduced image saved at {save_path}\")\n",
    "\n",
    "    return brightness_reduced\n"
   ],
   "id": "481263388286cb23",
   "outputs": [],
   "execution_count": 26
  },
  {
   "metadata": {
    "ExecuteTime": {
     "end_time": "2024-12-27T09:12:05.282927Z",
     "start_time": "2024-12-27T09:12:05.268999Z"
    }
   },
   "cell_type": "code",
   "source": [
    "def remove_background(image_path, save_path):\n",
    "    # Processing the image \n",
    "    input = Image.open(image_path)\n",
    "    \n",
    "    # Removing the background from the given Image \n",
    "    output = remove(input)\n",
    "    \n",
    "    # Saving the image in the given path\n",
    "    output.save(save_path)"
   ],
   "id": "f7ff38527823b67f",
   "outputs": [],
   "execution_count": 27
  },
  {
   "metadata": {
    "ExecuteTime": {
     "end_time": "2024-12-27T09:12:05.314422Z",
     "start_time": "2024-12-27T09:12:05.298778Z"
    }
   },
   "cell_type": "code",
   "source": [
    "def gaussian_smoothing(image, kernel_size=(5, 5), sigma=0):\n",
    "    \"\"\"\n",
    "    Applies Gaussian smoothing to an image.\n",
    "    \n",
    "    Parameters:\n",
    "    - image: Input image (grayscale or BGR/RGB).\n",
    "    - kernel_size: Size of the Gaussian kernel (height, width).\n",
    "    - sigma: Standard deviation of the Gaussian distribution.\n",
    "    \n",
    "    Returns:\n",
    "    - Smoothed image.\n",
    "    \"\"\"\n",
    "    image = cv2.imread(f\"../../resources/stylized-pictures/no_background/{image_name}_background_removed.png\")\n",
    "    # Apply median blur\n",
    "    median_blur = cv2.medianBlur(image, 5)\n",
    "    #smoothed = cv2.GaussianBlur(image, kernel_size, sigma)\n",
    "    # Save the smoothed image\n",
    "    cv2.imwrite(f\"../../resources/stylized-pictures/no_background/smoothed/{image_name}_smoothed.png\", median_blur)\n",
    "    return f\"../../resources/stylized-pictures/no_background/smoothed/{image_name}_smoothed.png\"\n",
    "    "
   ],
   "id": "28d5f43487d7f754",
   "outputs": [],
   "execution_count": 28
  },
  {
   "metadata": {
    "ExecuteTime": {
     "end_time": "2024-12-27T09:12:05.345673Z",
     "start_time": "2024-12-27T09:12:05.330047Z"
    }
   },
   "cell_type": "code",
   "source": [
    "import cv2\n",
    "import numpy as np\n",
    "\n",
    "def remove_temperature_boxes(image_path, image_name):\n",
    "    # Load the image using OpenCV\n",
    "    image_cv = cv2.imread(image_path)\n",
    "\n",
    "    # Convert to HSV to target specific colors (red and green boxes)\n",
    "    hsv_image = cv2.cvtColor(image_cv, cv2.COLOR_BGR2HSV)\n",
    "\n",
    "    # Define color ranges for red and green (in HSV space)\n",
    "    lower_red1 = np.array([0, 120, 70])\n",
    "    upper_red1 = np.array([10, 255, 255])\n",
    "    lower_red2 = np.array([170, 120, 70])\n",
    "    upper_red2 = np.array([180, 255, 255])\n",
    "    lower_green = np.array([35, 100, 100])\n",
    "    upper_green = np.array([85, 255, 255])\n",
    "\n",
    "    # Create masks for red and green\n",
    "    mask_red1 = cv2.inRange(hsv_image, lower_red1, upper_red1)\n",
    "    mask_red2 = cv2.inRange(hsv_image, lower_red2, upper_red2)\n",
    "    mask_green = cv2.inRange(hsv_image, lower_green, upper_green)\n",
    "    mask_red = mask_red1 | mask_red2\n",
    "\n",
    "    # Combine masks for both colors\n",
    "    mask_combined = mask_red | mask_green\n",
    "\n",
    "    # Dilate the mask slightly to cover edges of the red and green regions\n",
    "    kernel = np.ones((5, 5), np.uint8)\n",
    "    dilated_mask = cv2.dilate(mask_combined, kernel, iterations=1)\n",
    "\n",
    "    # Inpaint to remove red and green regions\n",
    "    image_no_boxes = cv2.inpaint(image_cv, dilated_mask, inpaintRadius=5, flags=cv2.INPAINT_TELEA)\n",
    "\n",
    "    # Apply Gaussian blur to smooth the entire image\n",
    "    smoothed_image = cv2.GaussianBlur(image_no_boxes, (5, 5), 0)\n",
    "\n",
    "    # Save the final image\n",
    "    smoothed_output_path = f\"../../resources/stylized-pictures/no_boxes/{image_name}_no_boxes.png\"\n",
    "    cv2.imwrite(smoothed_output_path, smoothed_image)\n",
    "\n",
    "    return smoothed_output_path\n",
    "\n"
   ],
   "id": "e971e56c123f0501",
   "outputs": [],
   "execution_count": 29
  },
  {
   "metadata": {
    "ExecuteTime": {
     "end_time": "2024-12-27T09:12:05.377012Z",
     "start_time": "2024-12-27T09:12:05.361708Z"
    }
   },
   "cell_type": "code",
   "source": [
    "def mask_temperature_scale(image_path, output_path):\n",
    "    \"\"\"\n",
    "    Masks the temperature scale on the left side of the image\n",
    "    by replacing it with the average background color.\n",
    "    \"\"\"\n",
    "    # Load the image\n",
    "    image = cv2.imread(image_path)\n",
    "\n",
    "    # Define the regions to mask\n",
    "    scale_width = 210  # Width of the scale region on the left\n",
    "    temp_box_width = 260  # Width of the temperature box in the top-right\n",
    "    temp_box_height = 90  # Height of the temperature box in the top-right\n",
    "\n",
    "    # Mask the left temperature scale\n",
    "    scale_region = image[:, :scale_width]\n",
    "    avg_color_scale = np.mean(image[:, scale_width:], axis=(0, 1), dtype=int)\n",
    "    image[:, :scale_width] = avg_color_scale\n",
    "\n",
    "    # Mask the temperature box in the upper-right corner\n",
    "    temp_box_region = image[:temp_box_height, -temp_box_width:]\n",
    "    avg_color_temp_box = np.mean(image[temp_box_height:, :-temp_box_width], axis=(0, 1), dtype=int)\n",
    "    image[:temp_box_height, -temp_box_width:] = avg_color_temp_box\n",
    "\n",
    "     # Save the masked image\n",
    "    cv2.imwrite(output_path, image)\n",
    "\n",
    "    return output_path"
   ],
   "id": "9074bbc0da338447",
   "outputs": [],
   "execution_count": 30
  },
  {
   "metadata": {
    "ExecuteTime": {
     "end_time": "2024-12-27T09:12:05.408279Z",
     "start_time": "2024-12-27T09:12:05.392655Z"
    }
   },
   "cell_type": "code",
   "source": [
    "# # try removing the temperature scale from the image\n",
    "# image_path = \"../../resources/stylized-pictures/inverted/12.jpg_inverted.png\"\n",
    "# output_path = \"../../resources/stylized-pictures/no_scale/12.jpg_no_scale.png\"\n",
    "# \n",
    "# mask_temperature_scale(image_path, output_path)"
   ],
   "id": "4eea919b7c5e9c1",
   "outputs": [],
   "execution_count": 31
  },
  {
   "metadata": {
    "ExecuteTime": {
     "end_time": "2024-12-27T09:12:05.444137Z",
     "start_time": "2024-12-27T09:12:05.428492Z"
    }
   },
   "cell_type": "code",
   "source": [
    "def detect_edges_sobelX(image):\n",
    "    \"\"\"Detects edges in an image using the Sobel edge detection algorithm\"\"\"\n",
    "    return cv2.Sobel(image,cv2.CV_64F,1,0,ksize=5)\n",
    "\n",
    "def detect_edges_sobelY(image):\n",
    "    \"\"\"Detects edges in an image using the Sobel edge detection algorithm\"\"\"\n",
    "    return cv2.Sobel(image,cv2.CV_64F,0,1,ksize=5)"
   ],
   "id": "84866f49999f39ca",
   "outputs": [],
   "execution_count": 32
  },
  {
   "metadata": {
    "ExecuteTime": {
     "end_time": "2024-12-27T09:12:05.479924Z",
     "start_time": "2024-12-27T09:12:05.460009Z"
    }
   },
   "cell_type": "code",
   "source": [
    "def canny_edge_detection(frame): \n",
    "    # Convert the frame to grayscale for edge detection \n",
    "    # gray = cv2.cvtColor(frame, cv2.COLOR_BGR2GRAY) \n",
    "      \n",
    "    # Apply Gaussian blur to reduce noise and smoothen edges \n",
    "    blurred = cv2.GaussianBlur(src=frame, ksize=(3, 5), sigmaX=0.5) \n",
    "      \n",
    "    # Perform Canny edge detection \n",
    "    edges = cv2.Canny(blurred, 70, 135) \n",
    "      \n",
    "    return blurred, edges"
   ],
   "id": "608c4352109ebf66",
   "outputs": [],
   "execution_count": 33
  },
  {
   "metadata": {
    "ExecuteTime": {
     "end_time": "2024-12-27T09:12:05.511619Z",
     "start_time": "2024-12-27T09:12:05.496945Z"
    }
   },
   "cell_type": "code",
   "source": [
    "# from pathlib import Path\n",
    "# \n",
    "# import cv2\n",
    "# from python_color_transfer.color_transfer import ColorTransfer\n",
    "# \n",
    "# # Using demo images\n",
    "# input_image = '../../resources/stylized-pictures/inverted/12.jpg_inverted.png'\n",
    "# ref_image = '../../resources/evaluation_dataset/RGB_JPG/12.jpg'\n",
    "# \n",
    "# # input image and reference image\n",
    "# img_arr_in = cv2.imread(input_image)\n",
    "# img_arr_ref = cv2.imread(ref_image)\n",
    "# \n",
    "# # Initialize the class\n",
    "# PT = ColorTransfer()\n",
    "# \n",
    "# # Pdf transfer\n",
    "# img_arr_pdf_reg = PT.pdf_transfer(img_arr_in=img_arr_in,\n",
    "#                                   img_arr_ref=img_arr_ref,\n",
    "#                                   regrain=True)\n",
    "# # Mean std transfer\n",
    "# img_arr_mt = PT.mean_std_transfer(img_arr_in=img_arr_in,\n",
    "#                                   img_arr_ref=img_arr_ref)\n",
    "# # Lab mean transfer\n",
    "# img_arr_lt = PT.lab_transfer(img_arr_in=img_arr_in, img_arr_ref=img_arr_ref)\n",
    "# \n",
    "# # Save the example results\n",
    "# img_name = Path(input_image).stem\n",
    "# for method, img in [('pdf-reg', img_arr_pdf_reg), ('mt', img_arr_mt),\n",
    "#                    ('lt', img_arr_lt)]:\n",
    "#     cv2.imwrite(f'{img_name}_{method}.jpg', img)"
   ],
   "id": "f1cce37b1d17442",
   "outputs": [],
   "execution_count": 34
  },
  {
   "metadata": {
    "ExecuteTime": {
     "end_time": "2024-12-27T09:12:05.543612Z",
     "start_time": "2024-12-27T09:12:05.529685Z"
    }
   },
   "cell_type": "code",
   "source": "",
   "id": "3fa8a90568299b51",
   "outputs": [],
   "execution_count": null
  },
  {
   "metadata": {},
   "cell_type": "markdown",
   "source": "## Load Data",
   "id": "4a58957232e564bd"
  },
  {
   "metadata": {
    "ExecuteTime": {
     "end_time": "2024-12-27T09:12:05.575009Z",
     "start_time": "2024-12-27T09:12:05.561490Z"
    }
   },
   "cell_type": "code",
   "source": "results = []",
   "id": "b47374467ec521f6",
   "outputs": [],
   "execution_count": 35
  },
  {
   "metadata": {},
   "cell_type": "markdown",
   "source": "## Processing Images",
   "id": "b60bd7a4774aa302"
  },
  {
   "metadata": {
    "ExecuteTime": {
     "end_time": "2024-12-27T09:12:05.673627Z",
     "start_time": "2024-12-27T09:12:05.657787Z"
    }
   },
   "cell_type": "code",
   "source": [
    "from rembg import remove \n",
    "from PIL import Image"
   ],
   "id": "3391c11d5b67060b",
   "outputs": [],
   "execution_count": 36
  },
  {
   "metadata": {
    "ExecuteTime": {
     "end_time": "2024-12-27T09:12:05.689329Z",
     "start_time": "2024-12-27T09:12:05.677817Z"
    }
   },
   "cell_type": "code",
   "source": [
    "def execute_transformation_pipeline(image_path, image_name, colorization_model='siggraph17'):\n",
    "    no_boxes_image_path = remove_temperature_boxes(image_path, image_name)\n",
    "    \n",
    "    # # Invert the colors\n",
    "    inverted_image = cv2.bitwise_not(cv2.imread(no_boxes_image_path))\n",
    "    # Save the inverted image\n",
    "    inverted_image_path = f\"../../resources/stylized-pictures/inverted/{image_name}_inverted.png\"\n",
    "    cv2.imwrite(inverted_image_path, inverted_image)\n",
    "\n",
    "    \n",
    "    # Generate colorized image using Zhang model\n",
    "    transformed_image_path = None\n",
    "\n",
    "    if colorization_model == 'eccv16':\n",
    "        transformed_image_path = colorize_zhang_eccv16(inverted_image_path, image_name)\n",
    "    elif colorization_model == 'siggraph17':\n",
    "        transformed_image_path = colorize_zhang_siggraph17(inverted_image_path, image_name)\n",
    "    \n",
    "    return transformed_image_path\n",
    "    "
   ],
   "id": "c1db65c787b519f2",
   "outputs": [],
   "execution_count": 37
  },
  {
   "metadata": {
    "ExecuteTime": {
     "end_time": "2024-12-27T09:12:05.720940Z",
     "start_time": "2024-12-27T09:12:05.705209Z"
    }
   },
   "cell_type": "code",
   "source": [
    "def execute_transformation_pipeline_with_no_visible_fingers(image_path, image_name, colorization_model='siggraph17'):\n",
    "    no_boxes_image_path = remove_temperature_boxes(image_path, image_name)\n",
    "    \n",
    "    image = cv2.imread(no_boxes_image_path, cv2.IMREAD_GRAYSCALE)\n",
    "    \n",
    "    # Step 3: Enhance contrast using CLAHE\n",
    "    clahe = cv2.createCLAHE(clipLimit=2.0, tileGridSize=(8, 8))\n",
    "    enhanced_image = clahe.apply(image)\n",
    "    \n",
    "    # Step 4: Sharpen edges to highlight fingers\n",
    "    kernel = np.array([[-1, -1, -1],\n",
    "                       [-1,  9, -1],\n",
    "                       [-1, -1, -1]])\n",
    "    sharpened_image = cv2.filter2D(enhanced_image, -1, kernel)\n",
    "    \n",
    "    # Change the image to RGB format\n",
    "    sharpened_image = cv2.cvtColor(sharpened_image, cv2.COLOR_GRAY2RGB)\n",
    "    \n",
    "    sharpened_image_path = f\"../../resources/stylized-pictures/not_detected/sharpened/{image_name}_sharpened.png\"\n",
    "    cv2.imwrite(sharpened_image_path, sharpened_image)\n",
    "    \n",
    "    # transformed_image_path = colorize_zhang_siggraph17(sharpened_image_path, image_name)\n",
    "    \n",
    "    return sharpened_image_path\n",
    "    "
   ],
   "id": "77c8625a2aac3113",
   "outputs": [],
   "execution_count": 38
  },
  {
   "metadata": {
    "ExecuteTime": {
     "end_time": "2024-12-27T09:12:05.752227Z",
     "start_time": "2024-12-27T09:12:05.736583Z"
    }
   },
   "cell_type": "code",
   "source": [
    "def two_hands_detected(image_path):\n",
    "    image = mp.Image.create_from_file(image_path)\n",
    "    \n",
    "    results = landmark_detector.detect(image)\n",
    "    \n",
    "    if not results.hand_landmarks or len(results.hand_landmarks) < 2:\n",
    "        return False\n",
    "    return True"
   ],
   "id": "a01c03a8ea31e254",
   "outputs": [],
   "execution_count": 39
  },
  {
   "metadata": {
    "ExecuteTime": {
     "end_time": "2024-12-27T09:12:05.783545Z",
     "start_time": "2024-12-27T09:12:05.768525Z"
    }
   },
   "cell_type": "code",
   "source": "",
   "id": "cacf2be0504d1539",
   "outputs": [],
   "execution_count": null
  },
  {
   "metadata": {
    "ExecuteTime": {
     "end_time": "2024-12-27T09:12:05.815256Z",
     "start_time": "2024-12-27T09:12:05.799183Z"
    }
   },
   "cell_type": "code",
   "source": [
    "original_distances = []\n",
    "transformed_distances = []"
   ],
   "id": "c5ed08489e2452f",
   "outputs": [],
   "execution_count": 40
  },
  {
   "metadata": {
    "ExecuteTime": {
     "end_time": "2024-12-27T09:12:05.862629Z",
     "start_time": "2024-12-27T09:12:05.856556Z"
    }
   },
   "cell_type": "code",
   "source": [
    "original_avg_distances = []\n",
    "transformed_avg_distances = []"
   ],
   "id": "4613b89b771292e3",
   "outputs": [],
   "execution_count": 41
  },
  {
   "metadata": {
    "ExecuteTime": {
     "end_time": "2024-12-27T09:12:05.893259Z",
     "start_time": "2024-12-27T09:12:05.881023Z"
    }
   },
   "cell_type": "code",
   "source": [
    " # \n",
    "            # image = mp.Image.create_from_file(image_path)\n",
    "            # annotated_image = draw_landmarks_on_image_from_json(image.numpy_view(), entry)\n",
    "            # cv2.imwrite(f\"../../resources/stylized-pictures/annotated/{image_name}_original.png\", annotated_image)\n",
    "            # visualize_threshold_roi(f\"../../resources/stylized-pictures/annotated/{image_name}_original.png\", ground_truth_landmarks, distance_threshold, f\"../../resources/stylized-pictures/roi/{image_name}_original_threshold_roi.png\")\n",
    "            #  "
   ],
   "id": "330688f1c7ce5c31",
   "outputs": [],
   "execution_count": 42
  },
  {
   "metadata": {
    "ExecuteTime": {
     "end_time": "2024-12-27T09:12:05.924229Z",
     "start_time": "2024-12-27T09:12:05.911043Z"
    }
   },
   "cell_type": "code",
   "source": [
    "# cv_mat = cv2.imread(transformed_image_path)\n",
    "            # rgb_frame = mp.Image(image_format=mp.ImageFormat.SRGB, data=cv_mat)\n",
    "            # detection_result = landmark_detector.detect(rgb_frame)\n",
    "            # annotated_image = draw_landmarks_on_image(rgb_frame.numpy_view(), detection_result)\n",
    "            # cv2.imwrite(f\"../../resources/stylized-pictures/annotated/{image_name}_transformed.png\", annotated_image)\n",
    "            # visualize_threshold_roi(f\"../../resources/stylized-pictures/annotated/{image_name}_transformed.png\", ground_truth_landmarks, distance_threshold, f\"../../resources/stylized-pictures/roi/{image_name}_transformed_threshold_roi.png\")\n",
    "\n"
   ],
   "id": "fb1fceb44de272bf",
   "outputs": [],
   "execution_count": 43
  },
  {
   "metadata": {
    "ExecuteTime": {
     "end_time": "2024-12-27T09:12:05.954803Z",
     "start_time": "2024-12-27T09:12:05.941349Z"
    }
   },
   "cell_type": "code",
   "source": [
    "total_transformed_siggraph17 = {\"Left\": [], \"Right\": []}\n",
    "total_transformed_eccv16 = {\"Left\": [], \"Right\": []}"
   ],
   "id": "654ccec865b177e5",
   "outputs": [],
   "execution_count": 44
  },
  {
   "metadata": {
    "ExecuteTime": {
     "end_time": "2024-12-27T09:12:05.985620Z",
     "start_time": "2024-12-27T09:12:05.970834Z"
    }
   },
   "cell_type": "code",
   "source": [
    "total_distances_siggaph17 = []\n",
    "total_distances_eccv16 = []"
   ],
   "id": "c37319ec0fa2f07",
   "outputs": [],
   "execution_count": 45
  },
  {
   "metadata": {
    "ExecuteTime": {
     "end_time": "2024-12-27T09:12:06.017465Z",
     "start_time": "2024-12-27T09:12:06.004977Z"
    }
   },
   "cell_type": "code",
   "source": [
    "zosia_results = {\n",
    "    \"accuracy_siggaph17\": {\n",
    "        \"Left\": [],\n",
    "        \"Right\": []\n",
    "    },\n",
    "    \"accuracy_eccv16\": {\n",
    "        \"Left\": [],\n",
    "        \"Right\": []\n",
    "    },\n",
    "    \"distance_siggaph17\": [],\n",
    "    \"distance_eccv16\": []\n",
    "}"
   ],
   "id": "4b82e3b07178ca8e",
   "outputs": [],
   "execution_count": 46
  },
  {
   "metadata": {
    "ExecuteTime": {
     "end_time": "2024-12-27T09:12:06.048913Z",
     "start_time": "2024-12-27T09:12:06.035237Z"
    }
   },
   "cell_type": "code",
   "source": [
    "daan_results = {\n",
    "   \"accuracy_siggaph17\": {\n",
    "        \"Left\": [],\n",
    "        \"Right\": []\n",
    "    },\n",
    "    \"accuracy_eccv16\": {\n",
    "        \"Left\": [],\n",
    "        \"Right\": []\n",
    "    },\n",
    "    \"distance_siggaph17\": [],\n",
    "    \"distance_eccv16\": []\n",
    "}"
   ],
   "id": "217de0ff65557fa0",
   "outputs": [],
   "execution_count": 47
  },
  {
   "metadata": {
    "ExecuteTime": {
     "end_time": "2024-12-27T09:12:06.073280Z",
     "start_time": "2024-12-27T09:12:06.059469Z"
    }
   },
   "cell_type": "code",
   "source": [
    "marek_results = {\n",
    "   \"accuracy_siggaph17\": {\n",
    "        \"Left\": [],\n",
    "        \"Right\": []\n",
    "    },\n",
    "    \"accuracy_eccv16\": {\n",
    "        \"Left\": [],\n",
    "        \"Right\": []\n",
    "    },\n",
    "    \"distance_siggaph17\": [],\n",
    "    \"distance_eccv16\": []\n",
    "}"
   ],
   "id": "cccdccf23ba20ceb",
   "outputs": [],
   "execution_count": 48
  },
  {
   "metadata": {
    "ExecuteTime": {
     "end_time": "2024-12-27T09:12:06.104598Z",
     "start_time": "2024-12-27T09:12:06.090870Z"
    }
   },
   "cell_type": "code",
   "source": "total_inverted = {\"Left\": [], \"Right\": []}",
   "id": "ab3ac9a1dc160729",
   "outputs": [],
   "execution_count": 49
  },
  {
   "metadata": {
    "ExecuteTime": {
     "end_time": "2024-12-27T09:12:06.140972Z",
     "start_time": "2024-12-27T09:12:06.125361Z"
    }
   },
   "cell_type": "code",
   "source": [
    "not_detected_both = []\n",
    "not_detected_left = []\n",
    "not_detected_right = []"
   ],
   "id": "25d796443ad7651e",
   "outputs": [],
   "execution_count": 50
  },
  {
   "metadata": {
    "ExecuteTime": {
     "end_time": "2024-12-27T09:12:06.178040Z",
     "start_time": "2024-12-27T09:12:06.162208Z"
    }
   },
   "cell_type": "code",
   "source": [
    "# # Process each image\n",
    "# for file_name in os.listdir(IR_ground_truth_directory):\n",
    "#     if file_name.endswith('.json'):\n",
    "#         json_file_path = os.path.join(IR_ground_truth_directory, file_name)\n",
    "#         \n",
    "#         with open(json_file_path, 'r') as f:\n",
    "#             ground_truth_data = json.load(f)\n",
    "#             \n",
    "#         for entry in ground_truth_data:\n",
    "#             image_name = entry[\"image\"]\n",
    "#             ground_truth_landmarks = entry[\"landmarks\"]\n",
    "#             image_path = f\"{IR_image_directory}/{image_name}\"\n",
    "#             \n",
    "#             # original_accuracy = assess_accuracy(image_path, ground_truth_landmarks)\n",
    "#             # original_distance = calculate_sum_of_distances_for_image(image_path, ground_truth_landmarks)\n",
    "#             # original_distances.append(original_distance)\n",
    "#             # \n",
    "#             # original_avg = calculate_avg_distance_for_image(image_path, ground_truth_landmarks)\n",
    "#             # original_avg_distances.append(original_avg)\n",
    "#            \n",
    "#             transformed_image_path = execute_transformation_pipeline(image_path, image_name)\n",
    "#             transformed_score = assess_accuracy(transformed_image_path, ground_truth_landmarks)\n",
    "#             #print(f'Transformed SIGGRAPH mean accuracy, Left: {np.mean(transformed_score[\"Left\"]):.2f}%, Right: {np.mean(transformed_score[\"Right\"]):.2f}%')\n",
    "#             \n",
    "#             if np.mean(transformed_score[\"Left\"]) <= 30.0 and np.mean(transformed_score[\"Right\"]) <= 30.0:\n",
    "#                 not_detected_both.append(image_name)\n",
    "#             elif np.mean(transformed_score[\"Left\"]) <= 30.0:\n",
    "#                 not_detected_left.append(image_name)\n",
    "#             elif np.mean(transformed_score[\"Right\"]) <= 30.0:    \n",
    "#                 not_detected_right.append(image_name)\n",
    "#             \n",
    "#             # transformed_image_path_eccv16 = execute_transformation_pipeline(image_path, image_name, colorization_model='eccv16')\n",
    "#             # transformed_score_eccv16 = assess_accuracy(transformed_image_path_eccv16, ground_truth_landmarks)\n",
    "#             # print(f'Transformed ECCV mean accuracy, Left: {np.mean(transformed_score_eccv16[\"Left\"]):.2f}%, Right: {np.mean(transformed_score_eccv16[\"Right\"]):.2f}%')\n",
    "#             \n",
    "#             # transformed_distance = calculate_sum_of_distances_for_image(transformed_image_path, ground_truth_landmarks)\n",
    "#             # transformed_distances.append(transformed_distance)\n",
    "#             # \n",
    "#             #transformed_avg = calculate_avg_distance_for_image(transformed_image_path, ground_truth_landmarks)\n",
    "#             # transformed_avg_distances.append(transformed_avg)\n",
    "#             # transformed_siggraph_distances = calculate_distances_for_image(transformed_image_path, ground_truth_landmarks)\n",
    "#             # transformed_eccv16_distances = calculate_distances_for_image(transformed_image_path_eccv16, ground_truth_landmarks)\n",
    "#             # \n",
    "#             # total_distances_siggaph17.append(transformed_siggraph_distances)\n",
    "#             # total_distances_eccv16.append(transformed_eccv16_distances)\n",
    "#             # \n",
    "#             for hand in [\"Left\", \"Right\"]:\n",
    "#                 total_transformed_siggraph17[hand].extend(transformed_score[hand])\n",
    "#                 # total_transformed_eccv16[hand].extend(transformed_score_eccv16[hand])\n",
    "# \n",
    "#             result_entry = {\n",
    "#                 \"image_name\": image_name,\n",
    "#                 \"transformed_scores\": transformed_score,\n",
    "#                 \"transformed_scores_eccv16\": None\n",
    "#             }\n",
    "#             results.append(result_entry)\n"
   ],
   "id": "39a3571746306fe5",
   "outputs": [],
   "execution_count": 51
  },
  {
   "metadata": {
    "ExecuteTime": {
     "end_time": "2024-12-27T09:12:06.217670Z",
     "start_time": "2024-12-27T09:12:06.198569Z"
    }
   },
   "cell_type": "code",
   "source": [
    "# # Process each image\n",
    "# for file_name in os.listdir(IR_ground_truth_directory):\n",
    "#     if file_name.endswith('.json'):\n",
    "#         json_file_path = os.path.join(IR_ground_truth_directory, file_name)\n",
    "#         \n",
    "#         with open(json_file_path, 'r') as f:\n",
    "#             ground_truth_data = json.load(f)\n",
    "#             \n",
    "#         for entry in ground_truth_data:\n",
    "#             image_name = entry[\"image\"]\n",
    "#             ground_truth_landmarks = entry[\"landmarks\"]\n",
    "#             image_path = f\"{IR_image_directory}/{image_name}\"\n",
    "#             \n",
    "#             # print(f\"Processing image: {image_name}\")\n",
    "#         \n",
    "#            \n",
    "#             first_pipeline_image_path = execute_transformation_pipeline(image_path, image_name)\n",
    "#             first_pipeline_score = assess_accuracy(first_pipeline_image_path, ground_truth_landmarks)\n",
    "#             print(f\"Results for original pipeline - Left: {np.mean(first_pipeline_score['Left']):.2f}%, Right: {np.mean(first_pipeline_score['Right']):.2f}%\")\n",
    "#             \n",
    "#             \n",
    "#             # print(np.mean(first_pipeline_score['Left']) <= 30.0 or np.mean(first_pipeline_score['Right']) <= 30.0)\n",
    "#             \n",
    "#             # print(not two_hands_detected(first_pipeline_image_path))\n",
    "#             \n",
    "#             final_score = first_pipeline_score\n",
    "#             \n",
    "#             #####################################################################################\n",
    "#             \n",
    "#             image_to_rotate = cv2.imread(first_pipeline_image_path)\n",
    "#             rotated_image = cv2.rotate(image_to_rotate, cv2.ROTATE_90_COUNTERCLOCKWISE)\n",
    "#             rotated_image_path = f\"../../resources/stylized-pictures/rotated/{image_name}_rotated.png\"\n",
    "#             cv2.imwrite(rotated_image_path, rotated_image)\n",
    "#             \n",
    "#             image = mp.Image.create_from_file(rotated_image_path)\n",
    "#             \n",
    "#             gesture_results = gesture_recognizer.recognize(image)\n",
    "#             \n",
    "#             # Assuming `gesture_results.gestures` is structured as a list of lists of Category objects.\n",
    "#             gesture_results_list = gesture_results.gestures\n",
    "#             \n",
    "#             # Extract the category_name from each Category object\n",
    "#             category_names = [[category.category_name for category in gesture_list] for gesture_list in gesture_results_list]\n",
    "#             \n",
    "#             # Print the result\n",
    "#             print(category_names)\n",
    "#             \n",
    "#             #######################################################################################\n",
    "#             \n",
    "#             if np.mean(first_pipeline_score['Left']) <= 30.0 or np.mean(first_pipeline_score['Right']) <= 30.0 or (not two_hands_detected(first_pipeline_image_path)):\n",
    "#                 second_pipeline_image_path = execute_transformation_pipeline_with_no_visible_fingers(image_path, image_name)\n",
    "#                 image = mp.Image.create_from_file(second_pipeline_image_path)\n",
    "#                 \n",
    "#                 # Perform landmark detection\n",
    "#                 results = landmark_detector.detect(image)\n",
    "#                 \n",
    "#                 if len(results.hand_landmarks) > 0:\n",
    "#                     accuracies = calculate_hand_accuracies(\n",
    "#                     ground_truth_landmarks,\n",
    "#                     results.hand_landmarks,\n",
    "#                     results.handedness,\n",
    "#                     distance_threshold\n",
    "#                     )\n",
    "#                     # print(f\"Results for new pipeline - Left: {np.mean(accuracies['Left']):.2f}%, Right: {np.mean(accuracies['Right']):.2f}%\")\n",
    "#                     \n",
    "#                     # If new pipeline result is missing left or right hand, use the original pipeline result for that hand\n",
    "#                     if len(results.hand_landmarks) == 1:\n",
    "#                         print(results.handedness[0][0].category_name)\n",
    "#                         if results.handedness[0][0].category_name == 'Left':\n",
    "#                             final_score[\"Left\"] = accuracies[\"Left\"]\n",
    "#                         else:\n",
    "#                             final_score[\"Right\"] = accuracies[\"Right\"]\n",
    "#                     else:\n",
    "#                         final_score = accuracies\n",
    "#                 \n",
    "#             # if np.mean(final_score[\"Left\"]) <= 30.0 or np.mean(final_score[\"Right\"]) <= 30.0:\n",
    "#             #     print(f\"Low score for : {image_name}\")\n",
    "#             # print(f\"Final results - Left: {np.mean(final_score['Left']):.2f}%, Right: {np.mean(final_score['Right']):.2f}%\")\n",
    "#             for hand in [\"Left\", \"Right\"]:\n",
    "#                 total_transformed_siggraph17[hand].extend(final_score[hand])\n",
    "# \n"
   ],
   "id": "bc8ccf462c7b0a25",
   "outputs": [],
   "execution_count": 52
  },
  {
   "metadata": {
    "ExecuteTime": {
     "end_time": "2024-12-27T09:23:37.184835Z",
     "start_time": "2024-12-27T09:23:37.169204Z"
    }
   },
   "cell_type": "code",
   "source": [
    "hand_landmarker_first = {\"Left\": [], \"Right\": []}\n",
    "hand_landmarker_second = {\"Left\": [], \"Right\": []}\n",
    "\n",
    "gesture_recognizer_first = {\"Left\": [], \"Right\": []}\n",
    "gesture_recognizer_second = {\"Left\": [], \"Right\": []}"
   ],
   "id": "e45e013960952490",
   "outputs": [],
   "execution_count": 57
  },
  {
   "metadata": {
    "ExecuteTime": {
     "end_time": "2024-12-27T09:27:21.488034Z",
     "start_time": "2024-12-27T09:23:37.509007Z"
    }
   },
   "cell_type": "code",
   "source": [
    "# Process each image\n",
    "for file_name in os.listdir(IR_ground_truth_directory):\n",
    "    if file_name.endswith('.json'):\n",
    "        json_file_path = os.path.join(IR_ground_truth_directory, file_name)\n",
    "        \n",
    "        with open(json_file_path, 'r') as f:\n",
    "            ground_truth_data = json.load(f)\n",
    "            \n",
    "        for entry in ground_truth_data:\n",
    "            image_name = entry[\"image\"]\n",
    "            ground_truth_landmarks = entry[\"landmarks\"]\n",
    "            image_path = f\"{IR_image_directory}/{image_name}\"\n",
    "            \n",
    "            print(f\"Processing image: {image_name}\")\n",
    "\n",
    "            first_pipeline_image_path = execute_transformation_pipeline(image_path, image_name)\n",
    "            first_pipeline_score = assess_accuracy(first_pipeline_image_path, ground_truth_landmarks)\n",
    "            print(f\"Results for original pipeline - Left: {np.mean(first_pipeline_score['Left']):.2f}%, Right: {np.mean(first_pipeline_score['Right']):.2f}%\")\n",
    "            \n",
    "            image = mp.Image.create_from_file(first_pipeline_image_path)\n",
    "            \n",
    "            recognizer_results = gesture_recognizer.recognize(image)\n",
    "\n",
    "            first_pipeline_score_recognizer = calculate_hand_accuracies(\n",
    "                ground_truth_landmarks,\n",
    "                recognizer_results.hand_landmarks,\n",
    "                recognizer_results.handedness,\n",
    "                distance_threshold\n",
    "            )\n",
    "            \n",
    "            for hand in [\"Left\", \"Right\"]:\n",
    "                hand_landmarker_first[hand].extend(first_pipeline_score[hand])\n",
    "                gesture_recognizer_first[hand].extend(first_pipeline_score_recognizer[hand])\n",
    "            \n",
    "            \n",
    "\n",
    "            \n",
    "            final_score = first_pipeline_score\n",
    "            \n",
    "            #####################################################################################\n",
    "            \n",
    "            image_to_rotate = cv2.imread(first_pipeline_image_path)\n",
    "            rotated_image = cv2.rotate(image_to_rotate, cv2.ROTATE_90_COUNTERCLOCKWISE)\n",
    "            rotated_image_path = f\"../../resources/stylized-pictures/rotated/{image_name}_rotated.png\"\n",
    "            cv2.imwrite(rotated_image_path, rotated_image)\n",
    "            \n",
    "            image = mp.Image.create_from_file(rotated_image_path)\n",
    "            \n",
    "            gesture_results = gesture_recognizer.recognize(image)\n",
    "            \n",
    "            # Assuming `gesture_results.gestures` is structured as a list of lists of Category objects.\n",
    "            gesture_results_list = gesture_results.gestures\n",
    "            \n",
    "            # Extract the category_name from each Category object\n",
    "            category_names = [[category.category_name for category in gesture_list] for gesture_list in gesture_results_list]\n",
    "            \n",
    "            # Print the result\n",
    "            print(category_names)\n",
    "            # print(f\"Gestures with scores for first pipeline: {gesture_results.gestures}\")\n",
    "            # \n",
    "            #######################################################################################\n",
    "            image = mp.Image.create_from_file(first_pipeline_image_path)\n",
    "            \n",
    "            landmarker_results = landmark_detector.detect(image)\n",
    "            \n",
    "            number_of_detected_hands = len(landmarker_results.hand_landmarks)\n",
    "\n",
    "            second_pipeline_image_path = execute_transformation_pipeline_with_no_visible_fingers(image_path, image_name)\n",
    "            image = mp.Image.create_from_file(second_pipeline_image_path)\n",
    "            results_second_pipeline = landmark_detector.detect(image)\n",
    "            accuracies_second_pipeline = calculate_hand_accuracies(\n",
    "                ground_truth_landmarks,\n",
    "                results_second_pipeline.hand_landmarks,\n",
    "                results_second_pipeline.handedness,\n",
    "                distance_threshold\n",
    "            )\n",
    "            \n",
    "            recognizer_results_second = gesture_recognizer.recognize(image)\n",
    "            results_second_recognizer = calculate_hand_accuracies(\n",
    "                ground_truth_landmarks,\n",
    "                recognizer_results_second.hand_landmarks,\n",
    "                recognizer_results_second.handedness,\n",
    "                distance_threshold\n",
    "            )\n",
    "            \n",
    "            for hand in [\"Left\", \"Right\"]:\n",
    "                hand_landmarker_second[hand].extend(accuracies_second_pipeline[hand])\n",
    "                gesture_recognizer_second[hand].extend(results_second_recognizer[hand])\n",
    "            \n",
    "            image_to_rotate = cv2.imread(second_pipeline_image_path)\n",
    "            rotated_image = cv2.rotate(image_to_rotate, cv2.ROTATE_90_COUNTERCLOCKWISE)\n",
    "            rotated_image_path = f\"../../resources/stylized-pictures/rotated/{image_name}_rotated2.png\"\n",
    "            cv2.imwrite(rotated_image_path, rotated_image)\n",
    "            \n",
    "            image = mp.Image.create_from_file(rotated_image_path)\n",
    "            \n",
    "            gesture_results_second_pipeline = gesture_recognizer.recognize(image)\n",
    "            \n",
    "            # print(f\"Gestures with scores for second pipeline: {gesture_results_second_pipeline.gestures}\")\n",
    "            \n",
    "            \n",
    "            print(f\"Results for second pipeline - Left: {np.mean(accuracies_second_pipeline['Left']):.2f}%, Right: {np.mean(accuracies_second_pipeline['Right']):.2f}%\")\n",
    "            \n",
    "            category_names_second_pipeline = [[category.category_name for category in gesture_list] for gesture_list in gesture_results_second_pipeline.gestures]\n",
    "            print(category_names_second_pipeline)\n",
    "            \n",
    "            \n",
    "            if len(category_names) == 2 and (category_names[0][0] == 'Open_Palm' and category_names[1][0] == 'Open_Palm') and len(category_names_second_pipeline)==2 and (category_names_second_pipeline[0][0] == 'Open_Palm' and category_names_second_pipeline[1][0] == 'Open_Palm'):\n",
    "                # NOTE FOR LATER annotate the image with the detected gestures and the same with hand landmarker results to compare if the points detected are the same\n",
    "                # Iterate throught the gesture results from first pipeline and check with the gesture results from the second pipeline (check the same hands) and print which one is more confident in detecting a hand gesture CHAT PLS DO\n",
    "                # Compare confidence scores for each hand and print which pipeline is more confident\n",
    "                for hand_index, hand_name in enumerate([\"Left\", \"Right\"]):\n",
    "                    print(\"Trying hand\")\n",
    "                    first_pipeline_confidence = gesture_results.gestures[hand_index][0].score\n",
    "                    second_pipeline_confidence = gesture_results_second_pipeline.gestures[hand_index][0].score\n",
    "                    print(f\"First pipeline confidence: {first_pipeline_confidence}, Second pipeline confidence: {second_pipeline_confidence}\")\n",
    "    \n",
    "            \n",
    "            \n",
    "            \n",
    "            if len(category_names) == 2 and (category_names[0][0] != 'Open_Palm' or category_names[1][0] != 'Open_Palm'):\n",
    "                for handedness, gesture in zip(gesture_results.handedness, gesture_results.gestures):\n",
    "                    if gesture[0].category_name != 'Open_Palm':\n",
    "                        missing_hand = handedness[0].category_name\n",
    "                        print(f\"Missing hand: {missing_hand}, by not detecting an open palm\")\n",
    "                        if missing_hand == 'Left':\n",
    "                            final_score[\"Left\"] = accuracies_second_pipeline[\"Left\"]\n",
    "                        else:\n",
    "                            final_score[\"Right\"] = accuracies_second_pipeline[\"Right\"]\n",
    "                            \n",
    "            if len(category_names) == 1 and number_of_detected_hands == 1:\n",
    "                possible_hands = ['Left', 'Right']\n",
    "                \n",
    "                # If handedness info category name is Left then Right is missing and vice versa\n",
    "                detected_hand = gesture_results.handedness[0][0].category_name\n",
    "    \n",
    "                # Find the missing hand\n",
    "                missing_hand = [hand for hand in possible_hands if hand != detected_hand][0]\n",
    "                print(f\"Missing hand: {missing_hand}, by not detecting a hand\")\n",
    "                \n",
    "                # Update final_score for the detected hand\n",
    "                if detected_hand == 'Left':\n",
    "                    final_score[\"Left\"] = accuracies_second_pipeline[\"Left\"]\n",
    "                else:\n",
    "                    final_score[\"Right\"] = accuracies_second_pipeline[\"Right\"]\n",
    "                    \n",
    "            if len(category_names) == 0 and number_of_detected_hands == 0:\n",
    "                print(f\"Missing both hands\")\n",
    "                final_score = accuracies_second_pipeline\n",
    "    \n",
    "                            \n",
    "                    \n",
    "\n",
    "                    \n",
    "                    \n",
    "            print(f\"Results for final score - Left: {np.mean(final_score['Left']):.2f}%, Right: {np.mean(final_score['Right']):.2f}%\")      \n",
    "                    \n",
    "                    \n",
    "                    \n",
    "                    \n",
    "            \n",
    "            \n",
    "            \n",
    "            \n",
    "            \n",
    "          \n",
    "            for hand in [\"Left\", \"Right\"]:\n",
    "                total_transformed_siggraph17[hand].extend(final_score[hand])\n",
    "\n"
   ],
   "id": "3071ab27f6f87b9c",
   "outputs": [
    {
     "name": "stdout",
     "output_type": "stream",
     "text": [
      "Processing image: 1_IMG20241127100244.jpg\n",
      "Results for original pipeline - Left: 72.83%, Right: 77.51%\n",
      "[['Open_Palm'], ['Open_Palm']]\n",
      "Results for second pipeline - Left: 69.04%, Right: 74.97%\n",
      "[['Open_Palm'], ['Open_Palm']]\n",
      "Trying hand\n",
      "First pipeline confidence: 0.620419442653656, Second pipeline confidence: 0.6572661399841309\n",
      "Trying hand\n",
      "First pipeline confidence: 0.5776448249816895, Second pipeline confidence: 0.6959646940231323\n",
      "Results for final score - Left: 72.83%, Right: 77.51%\n",
      "Processing image: 2_IMG20241127100252.jpg\n",
      "Results for original pipeline - Left: 75.81%, Right: 49.74%\n",
      "[['Open_Palm'], ['Open_Palm']]\n",
      "Results for second pipeline - Left: 67.18%, Right: 80.41%\n",
      "[['Open_Palm'], ['Open_Palm']]\n",
      "Trying hand\n",
      "First pipeline confidence: 0.6294962167739868, Second pipeline confidence: 0.667783796787262\n",
      "Trying hand\n",
      "First pipeline confidence: 0.6604284048080444, Second pipeline confidence: 0.6442767977714539\n",
      "Results for final score - Left: 75.81%, Right: 49.74%\n",
      "Processing image: 3_IMG20241127100408.jpg\n",
      "Results for original pipeline - Left: 68.08%, Right: 0.00%\n",
      "[['Open_Palm']]\n",
      "Results for second pipeline - Left: 76.61%, Right: 0.00%\n",
      "[['Open_Palm']]\n",
      "Missing hand: Right, by not detecting a hand\n",
      "Results for final score - Left: 76.61%, Right: 0.00%\n",
      "Processing image: 4_IMG20241127100414.jpg\n",
      "Results for original pipeline - Left: 75.18%, Right: 39.06%\n",
      "[['Open_Palm'], ['Open_Palm']]\n",
      "Results for second pipeline - Left: 72.80%, Right: 78.67%\n",
      "[['Open_Palm']]\n",
      "Results for final score - Left: 75.18%, Right: 39.06%\n",
      "Processing image: 5_IMG20241127100507.jpg\n",
      "Results for original pipeline - Left: 80.88%, Right: 69.38%\n",
      "[['Open_Palm'], ['Open_Palm']]\n",
      "Results for second pipeline - Left: 0.00%, Right: 0.00%\n",
      "[]\n",
      "Results for final score - Left: 80.88%, Right: 69.38%\n",
      "Processing image: 6_IMG20241127100515.jpg\n",
      "Results for original pipeline - Left: 80.97%, Right: 55.64%\n",
      "[['None'], ['Open_Palm']]\n",
      "Results for second pipeline - Left: 0.00%, Right: 0.00%\n",
      "[]\n",
      "Missing hand: Right, by not detecting an open palm\n",
      "Results for final score - Left: 80.97%, Right: 0.00%\n",
      "Processing image: 7_IMG20241127100610.jpg\n",
      "Results for original pipeline - Left: 80.40%, Right: 75.97%\n",
      "[['Open_Palm'], ['Open_Palm']]\n",
      "Results for second pipeline - Left: 0.00%, Right: 0.00%\n",
      "[]\n",
      "Results for final score - Left: 80.40%, Right: 75.97%\n",
      "Processing image: 8_IMG20241127100617.jpg\n",
      "Results for original pipeline - Left: 80.50%, Right: 58.06%\n",
      "[['Open_Palm'], ['None']]\n",
      "Results for second pipeline - Left: 0.00%, Right: 0.00%\n",
      "[]\n",
      "Missing hand: Left, by not detecting an open palm\n",
      "Results for final score - Left: 0.00%, Right: 58.06%\n",
      "Processing image: 9_IMG20241127100730.jpg\n",
      "Results for original pipeline - Left: 76.46%, Right: 80.03%\n",
      "[['Open_Palm'], ['Open_Palm']]\n",
      "Results for second pipeline - Left: 0.00%, Right: 0.00%\n",
      "[['Open_Palm'], ['Open_Palm']]\n",
      "Trying hand\n",
      "First pipeline confidence: 0.6734750866889954, Second pipeline confidence: 0.6058007478713989\n",
      "Trying hand\n",
      "First pipeline confidence: 0.7160981297492981, Second pipeline confidence: 0.6211879849433899\n",
      "Results for final score - Left: 76.46%, Right: 80.03%\n",
      "Processing image: 10_IMG20241127100740.jpg\n",
      "Results for original pipeline - Left: 80.23%, Right: 81.85%\n",
      "[['Open_Palm'], ['Open_Palm']]\n",
      "Results for second pipeline - Left: 0.00%, Right: 0.00%\n",
      "[]\n",
      "Results for final score - Left: 80.23%, Right: 81.85%\n",
      "Processing image: 11_IMG20241127100906.jpg\n",
      "Results for original pipeline - Left: 80.83%, Right: 77.41%\n",
      "[['Open_Palm'], ['Open_Palm']]\n",
      "Results for second pipeline - Left: 0.00%, Right: 0.00%\n",
      "[]\n",
      "Results for final score - Left: 80.83%, Right: 77.41%\n",
      "Processing image: 12_IMG20241127100913.jpg\n",
      "Results for original pipeline - Left: 79.98%, Right: 77.87%\n",
      "[['Open_Palm']]\n",
      "Results for second pipeline - Left: 0.00%, Right: 0.00%\n",
      "[]\n",
      "Results for final score - Left: 79.98%, Right: 77.87%\n",
      "Processing image: 13_IMG20241127101012.jpg\n",
      "Results for original pipeline - Left: 79.91%, Right: 78.99%\n",
      "[['Open_Palm'], ['Open_Palm']]\n",
      "Results for second pipeline - Left: 0.00%, Right: 0.00%\n",
      "[]\n",
      "Results for final score - Left: 79.91%, Right: 78.99%\n",
      "Processing image: 14_IMG20241127101019.jpg\n",
      "Results for original pipeline - Left: 73.07%, Right: 0.00%\n",
      "[['Open_Palm']]\n",
      "Results for second pipeline - Left: 0.00%, Right: 0.00%\n",
      "[]\n",
      "Missing hand: Right, by not detecting a hand\n",
      "Results for final score - Left: 0.00%, Right: 0.00%\n",
      "Processing image: 15_IMG20241127101422.jpg\n",
      "Results for original pipeline - Left: 69.61%, Right: 70.68%\n",
      "[['Open_Palm'], ['Open_Palm']]\n",
      "Results for second pipeline - Left: 62.68%, Right: 72.69%\n",
      "[['Open_Palm'], ['Open_Palm']]\n",
      "Trying hand\n",
      "First pipeline confidence: 0.7073318958282471, Second pipeline confidence: 0.7156273722648621\n",
      "Trying hand\n",
      "First pipeline confidence: 0.7245404720306396, Second pipeline confidence: 0.7226890325546265\n",
      "Results for final score - Left: 69.61%, Right: 70.68%\n",
      "Processing image: 16_IMG20241127101432.jpg\n",
      "Results for original pipeline - Left: 74.82%, Right: 70.18%\n",
      "[['Open_Palm'], ['Open_Palm']]\n",
      "Results for second pipeline - Left: 70.44%, Right: 70.57%\n",
      "[['Open_Palm']]\n",
      "Results for final score - Left: 74.82%, Right: 70.18%\n",
      "Processing image: 17_IMG20241127101442.jpg\n",
      "Results for original pipeline - Left: 65.07%, Right: 67.71%\n",
      "[['Open_Palm'], ['Open_Palm']]\n",
      "Results for second pipeline - Left: 62.29%, Right: 70.75%\n",
      "[['Open_Palm'], ['Open_Palm']]\n",
      "Trying hand\n",
      "First pipeline confidence: 0.7298133373260498, Second pipeline confidence: 0.7357823848724365\n",
      "Trying hand\n",
      "First pipeline confidence: 0.7438983917236328, Second pipeline confidence: 0.7647390961647034\n",
      "Results for final score - Left: 65.07%, Right: 67.71%\n",
      "Processing image: 18_IMG20241127101447.jpg\n",
      "Results for original pipeline - Left: 70.71%, Right: 66.13%\n",
      "[['Open_Palm'], ['Open_Palm']]\n",
      "Results for second pipeline - Left: 63.06%, Right: 67.45%\n",
      "[['Open_Palm'], ['Open_Palm']]\n",
      "Trying hand\n",
      "First pipeline confidence: 0.7404471039772034, Second pipeline confidence: 0.7229318618774414\n",
      "Trying hand\n",
      "First pipeline confidence: 0.7260417938232422, Second pipeline confidence: 0.7187052965164185\n",
      "Results for final score - Left: 70.71%, Right: 66.13%\n",
      "Processing image: 19_IMG20241127101600.jpg\n",
      "Results for original pipeline - Left: 65.41%, Right: 68.57%\n",
      "[['Open_Palm'], ['Open_Palm']]\n",
      "Results for second pipeline - Left: 61.21%, Right: 66.74%\n",
      "[['Open_Palm'], ['Open_Palm']]\n",
      "Trying hand\n",
      "First pipeline confidence: 0.6882811188697815, Second pipeline confidence: 0.6829900145530701\n",
      "Trying hand\n",
      "First pipeline confidence: 0.7871588468551636, Second pipeline confidence: 0.6717947125434875\n",
      "Results for final score - Left: 65.41%, Right: 68.57%\n",
      "Processing image: 20_IMG20241127101607.jpg\n",
      "Results for original pipeline - Left: 69.91%, Right: 67.86%\n",
      "[['Open_Palm'], ['Open_Palm']]\n",
      "Results for second pipeline - Left: 68.40%, Right: 71.61%\n",
      "[['Open_Palm'], ['Open_Palm']]\n",
      "Trying hand\n",
      "First pipeline confidence: 0.698201596736908, Second pipeline confidence: 0.6927996277809143\n",
      "Trying hand\n",
      "First pipeline confidence: 0.7776903510093689, Second pipeline confidence: 0.7149999737739563\n",
      "Results for final score - Left: 69.91%, Right: 67.86%\n",
      "Processing image: 21_IMG20241127101704.jpg\n",
      "Results for original pipeline - Left: 67.43%, Right: 73.10%\n",
      "[['Open_Palm'], ['Open_Palm']]\n",
      "Results for second pipeline - Left: 66.58%, Right: 75.14%\n",
      "[['Open_Palm'], ['Open_Palm']]\n",
      "Trying hand\n",
      "First pipeline confidence: 0.675891637802124, Second pipeline confidence: 0.7100054025650024\n",
      "Trying hand\n",
      "First pipeline confidence: 0.7792649269104004, Second pipeline confidence: 0.75714510679245\n",
      "Results for final score - Left: 67.43%, Right: 73.10%\n",
      "Processing image: 22_IMG20241127101709.jpg\n",
      "Results for original pipeline - Left: 69.55%, Right: 71.35%\n",
      "[['Open_Palm'], ['Open_Palm']]\n",
      "Results for second pipeline - Left: 69.34%, Right: 75.52%\n",
      "[['Open_Palm'], ['Open_Palm']]\n",
      "Trying hand\n",
      "First pipeline confidence: 0.69914311170578, Second pipeline confidence: 0.6869681477546692\n",
      "Trying hand\n",
      "First pipeline confidence: 0.8021420240402222, Second pipeline confidence: 0.7685518860816956\n",
      "Results for final score - Left: 69.55%, Right: 71.35%\n",
      "Processing image: 23_IMG20241127101749.jpg\n",
      "Results for original pipeline - Left: 66.06%, Right: 68.31%\n",
      "[['Open_Palm']]\n",
      "Results for second pipeline - Left: 0.00%, Right: 73.29%\n",
      "[['Open_Palm']]\n",
      "Results for final score - Left: 66.06%, Right: 68.31%\n",
      "Processing image: 24_IMG20241127101754.jpg\n",
      "Results for original pipeline - Left: 73.51%, Right: 70.79%\n",
      "[['Open_Palm'], ['Open_Palm']]\n",
      "Results for second pipeline - Left: 0.00%, Right: 69.07%\n",
      "[['Open_Palm']]\n",
      "Results for final score - Left: 73.51%, Right: 70.79%\n",
      "Processing image: 25_IMG20241127101835.jpg\n",
      "Results for original pipeline - Left: 57.43%, Right: 74.17%\n",
      "[['Open_Palm'], ['Open_Palm']]\n",
      "Results for second pipeline - Left: 67.38%, Right: 80.57%\n",
      "[['Open_Palm'], ['Open_Palm']]\n",
      "Trying hand\n",
      "First pipeline confidence: 0.6775193214416504, Second pipeline confidence: 0.7445566654205322\n",
      "Trying hand\n",
      "First pipeline confidence: 0.7777502536773682, Second pipeline confidence: 0.6444709300994873\n",
      "Results for final score - Left: 57.43%, Right: 74.17%\n",
      "Processing image: 26_IMG20241127101840.jpg\n",
      "Results for original pipeline - Left: 59.12%, Right: 65.10%\n",
      "[['Open_Palm'], ['Open_Palm']]\n",
      "Results for second pipeline - Left: 0.00%, Right: 78.22%\n",
      "[['Open_Palm'], ['Open_Palm']]\n",
      "Trying hand\n",
      "First pipeline confidence: 0.6890299916267395, Second pipeline confidence: 0.752415120601654\n",
      "Trying hand\n",
      "First pipeline confidence: 0.6922768950462341, Second pipeline confidence: 0.7195590734481812\n",
      "Results for final score - Left: 59.12%, Right: 65.10%\n",
      "Processing image: 27_IMG20241127101939.jpg\n",
      "Results for original pipeline - Left: 60.46%, Right: 57.91%\n",
      "[['Open_Palm'], ['Open_Palm']]\n",
      "Results for second pipeline - Left: 58.64%, Right: 77.62%\n",
      "[['Open_Palm']]\n",
      "Results for final score - Left: 60.46%, Right: 57.91%\n",
      "Processing image: 28_IMG20241127101946.jpg\n",
      "Results for original pipeline - Left: 59.00%, Right: 70.88%\n",
      "[['Open_Palm'], ['Open_Palm']]\n",
      "Results for second pipeline - Left: 0.00%, Right: 69.43%\n",
      "[]\n",
      "Results for final score - Left: 59.00%, Right: 70.88%\n",
      "Processing image: 29_IMG20241127102051.jpg\n",
      "Results for original pipeline - Left: 0.00%, Right: 48.22%\n",
      "[['None']]\n",
      "Results for second pipeline - Left: 67.20%, Right: 38.72%\n",
      "[['Open_Palm']]\n",
      "Missing hand: Left, by not detecting a hand\n",
      "Results for final score - Left: 0.00%, Right: 38.72%\n",
      "Processing image: 30_IMG20241127102058.jpg\n",
      "Results for original pipeline - Left: 0.00%, Right: 55.05%\n",
      "[['None']]\n",
      "Results for second pipeline - Left: 0.00%, Right: 0.00%\n",
      "[]\n",
      "Missing hand: Left, by not detecting a hand\n",
      "Results for final score - Left: 0.00%, Right: 0.00%\n",
      "Processing image: 31_IMG20241127102205.jpg\n",
      "Results for original pipeline - Left: 71.17%, Right: 80.17%\n",
      "[['Open_Palm'], ['Open_Palm']]\n",
      "Results for second pipeline - Left: 73.49%, Right: 82.80%\n",
      "[['Open_Palm'], ['Open_Palm']]\n",
      "Trying hand\n",
      "First pipeline confidence: 0.6665674448013306, Second pipeline confidence: 0.7778945565223694\n",
      "Trying hand\n",
      "First pipeline confidence: 0.8058725595474243, Second pipeline confidence: 0.7184156775474548\n",
      "Results for final score - Left: 71.17%, Right: 80.17%\n",
      "Processing image: 32_IMG20241127102216.jpg\n",
      "Results for original pipeline - Left: 73.87%, Right: 77.49%\n",
      "[['Open_Palm'], ['Open_Palm']]\n",
      "Results for second pipeline - Left: 77.80%, Right: 76.50%\n",
      "[['Open_Palm'], ['Open_Palm']]\n",
      "Trying hand\n",
      "First pipeline confidence: 0.8573872447013855, Second pipeline confidence: 0.8252617120742798\n",
      "Trying hand\n",
      "First pipeline confidence: 0.6252583861351013, Second pipeline confidence: 0.6858320832252502\n",
      "Results for final score - Left: 73.87%, Right: 77.49%\n",
      "Processing image: 33_IMG20241127102317.jpg\n",
      "Results for original pipeline - Left: 53.95%, Right: 65.55%\n",
      "[['Open_Palm'], ['Open_Palm']]\n",
      "Results for second pipeline - Left: 64.96%, Right: 73.15%\n",
      "[['Open_Palm'], ['Open_Palm']]\n",
      "Trying hand\n",
      "First pipeline confidence: 0.6633153557777405, Second pipeline confidence: 0.7010447382926941\n",
      "Trying hand\n",
      "First pipeline confidence: 0.7542814612388611, Second pipeline confidence: 0.6057229042053223\n",
      "Results for final score - Left: 53.95%, Right: 65.55%\n",
      "Processing image: 34_IMG20241127102423.jpg\n",
      "Results for original pipeline - Left: 71.50%, Right: 66.99%\n",
      "[['Open_Palm'], ['Open_Palm']]\n",
      "Results for second pipeline - Left: 0.00%, Right: 76.82%\n",
      "[['Open_Palm']]\n",
      "Results for final score - Left: 71.50%, Right: 66.99%\n",
      "Processing image: 35_IMG20241127102430.jpg\n",
      "Results for original pipeline - Left: 60.80%, Right: 66.93%\n",
      "[['None'], ['None']]\n",
      "Results for second pipeline - Left: 70.20%, Right: 78.51%\n",
      "[['Open_Palm'], ['Open_Palm']]\n",
      "Missing hand: Left, by not detecting an open palm\n",
      "Missing hand: Right, by not detecting an open palm\n",
      "Results for final score - Left: 70.20%, Right: 78.51%\n",
      "Processing image: 36_IMG20241127102532.jpg\n",
      "Results for original pipeline - Left: 79.93%, Right: 48.18%\n",
      "[['Open_Palm'], ['None']]\n",
      "Results for second pipeline - Left: 0.00%, Right: 75.54%\n",
      "[['Open_Palm']]\n",
      "Missing hand: Right, by not detecting an open palm\n",
      "Results for final score - Left: 79.93%, Right: 75.54%\n",
      "Processing image: 37_IMG20241127102538.jpg\n",
      "Results for original pipeline - Left: 71.77%, Right: 68.58%\n",
      "[['None'], ['None']]\n",
      "Results for second pipeline - Left: 0.00%, Right: 77.38%\n",
      "[['Open_Palm']]\n",
      "Missing hand: Left, by not detecting an open palm\n",
      "Missing hand: Right, by not detecting an open palm\n",
      "Results for final score - Left: 0.00%, Right: 77.38%\n",
      "Processing image: 38_IMG20241127102643.jpg\n",
      "Results for original pipeline - Left: 39.51%, Right: 0.00%\n",
      "[['None']]\n",
      "Results for second pipeline - Left: 0.00%, Right: 76.52%\n",
      "[]\n",
      "Missing hand: Right, by not detecting a hand\n",
      "Results for final score - Left: 0.00%, Right: 0.00%\n",
      "Processing image: 39_IMG20241127102649.jpg\n",
      "Results for original pipeline - Left: 64.57%, Right: 49.16%\n",
      "[['None'], ['None']]\n",
      "Results for second pipeline - Left: 0.00%, Right: 0.00%\n",
      "[]\n",
      "Missing hand: Left, by not detecting an open palm\n",
      "Missing hand: Right, by not detecting an open palm\n",
      "Results for final score - Left: 0.00%, Right: 0.00%\n",
      "Processing image: 40_IMG20241127102805.jpg\n",
      "Results for original pipeline - Left: 39.47%, Right: 0.00%\n",
      "[]\n",
      "Results for second pipeline - Left: 0.00%, Right: 75.95%\n",
      "[['Open_Palm']]\n",
      "Results for final score - Left: 39.47%, Right: 0.00%\n",
      "Processing image: 41_IMG20241127102811.jpg\n",
      "Results for original pipeline - Left: 52.23%, Right: 22.80%\n",
      "[['None'], ['None']]\n",
      "Results for second pipeline - Left: 0.00%, Right: 0.00%\n",
      "[]\n",
      "Missing hand: Left, by not detecting an open palm\n",
      "Missing hand: Right, by not detecting an open palm\n",
      "Results for final score - Left: 0.00%, Right: 0.00%\n",
      "Processing image: 42_IMG20241127102854.jpg\n",
      "Results for original pipeline - Left: 0.00%, Right: 17.84%\n",
      "[]\n",
      "Results for second pipeline - Left: 0.00%, Right: 80.57%\n",
      "[]\n",
      "Results for final score - Left: 0.00%, Right: 17.84%\n",
      "Processing image: 43_IMG20241127102901.jpg\n",
      "Results for original pipeline - Left: 81.39%, Right: 67.40%\n",
      "[['Open_Palm'], ['Open_Palm']]\n",
      "Results for second pipeline - Left: 70.48%, Right: 0.00%\n",
      "[['Open_Palm']]\n",
      "Results for final score - Left: 81.39%, Right: 67.40%\n",
      "Processing image: 44_IMG20241127103107.jpg\n",
      "Results for original pipeline - Left: 72.88%, Right: 77.50%\n",
      "[['Open_Palm'], ['Open_Palm']]\n",
      "Results for second pipeline - Left: 0.00%, Right: 62.72%\n",
      "[['Open_Palm'], ['Open_Palm']]\n",
      "Trying hand\n",
      "First pipeline confidence: 0.685375452041626, Second pipeline confidence: 0.6686477661132812\n",
      "Trying hand\n",
      "First pipeline confidence: 0.6827675104141235, Second pipeline confidence: 0.5888058543205261\n",
      "Results for final score - Left: 72.88%, Right: 77.50%\n",
      "Processing image: 45_IMG20241127103113.jpg\n",
      "Results for original pipeline - Left: 82.47%, Right: 82.06%\n",
      "[['Open_Palm'], ['Open_Palm']]\n",
      "Results for second pipeline - Left: 0.00%, Right: 0.00%\n",
      "[]\n",
      "Results for final score - Left: 82.47%, Right: 82.06%\n",
      "Processing image: 46_IMG20241127103125.jpg\n",
      "Results for original pipeline - Left: 80.19%, Right: 82.47%\n",
      "[['Open_Palm'], ['Open_Palm']]\n",
      "Results for second pipeline - Left: 86.32%, Right: 80.61%\n",
      "[['Open_Palm']]\n",
      "Results for final score - Left: 80.19%, Right: 82.47%\n",
      "Processing image: 47_IMG20241127103130.jpg\n",
      "Results for original pipeline - Left: 80.12%, Right: 82.36%\n",
      "[['Open_Palm'], ['Open_Palm']]\n",
      "Results for second pipeline - Left: 0.00%, Right: 0.00%\n",
      "[]\n",
      "Results for final score - Left: 80.12%, Right: 82.36%\n",
      "Processing image: 48_IMG20241127103201.jpg\n",
      "Results for original pipeline - Left: 82.58%, Right: 82.63%\n",
      "[['Open_Palm'], ['Open_Palm']]\n",
      "Results for second pipeline - Left: 0.00%, Right: 81.22%\n",
      "[['Open_Palm']]\n",
      "Results for final score - Left: 82.58%, Right: 82.63%\n",
      "Processing image: 49_IMG20241127103207.jpg\n",
      "Results for original pipeline - Left: 80.61%, Right: 77.85%\n",
      "[['Open_Palm'], ['Open_Palm']]\n",
      "Results for second pipeline - Left: 0.00%, Right: 0.00%\n",
      "[]\n",
      "Results for final score - Left: 80.61%, Right: 77.85%\n",
      "Processing image: 50_IMG20241127103243.jpg\n",
      "Results for original pipeline - Left: 77.71%, Right: 80.75%\n",
      "[['Open_Palm'], ['Open_Palm']]\n",
      "Results for second pipeline - Left: 0.00%, Right: 0.00%\n",
      "[['Open_Palm']]\n",
      "Results for final score - Left: 77.71%, Right: 80.75%\n",
      "Processing image: 51_IMG20241127103250.jpg\n",
      "Results for original pipeline - Left: 77.41%, Right: 78.46%\n",
      "[['Open_Palm'], ['Open_Palm']]\n",
      "Results for second pipeline - Left: 0.00%, Right: 0.00%\n",
      "[]\n",
      "Results for final score - Left: 77.41%, Right: 78.46%\n",
      "Processing image: 52_IMG20241127103332.jpg\n",
      "Results for original pipeline - Left: 74.44%, Right: 77.20%\n",
      "[['Open_Palm'], ['Open_Palm']]\n",
      "Results for second pipeline - Left: 0.00%, Right: 79.59%\n",
      "[['Open_Palm'], ['Open_Palm']]\n",
      "Trying hand\n",
      "First pipeline confidence: 0.5843053460121155, Second pipeline confidence: 0.791031002998352\n",
      "Trying hand\n",
      "First pipeline confidence: 0.7707769274711609, Second pipeline confidence: 0.6237108707427979\n",
      "Results for final score - Left: 74.44%, Right: 77.20%\n",
      "Processing image: 53_IMG20241127103337.jpg\n",
      "Results for original pipeline - Left: 72.61%, Right: 76.39%\n",
      "[['Open_Palm'], ['Open_Palm']]\n",
      "Results for second pipeline - Left: 0.00%, Right: 78.98%\n",
      "[['Open_Palm'], ['Open_Palm']]\n",
      "Trying hand\n",
      "First pipeline confidence: 0.722516655921936, Second pipeline confidence: 0.7339164018630981\n",
      "Trying hand\n",
      "First pipeline confidence: 0.6737141013145447, Second pipeline confidence: 0.6719328761100769\n",
      "Results for final score - Left: 72.61%, Right: 76.39%\n",
      "Processing image: 54_IMG20241127103409.jpg\n",
      "Results for original pipeline - Left: 50.10%, Right: 61.42%\n",
      "[['None'], ['None']]\n",
      "Results for second pipeline - Left: 69.70%, Right: 75.99%\n",
      "[['Open_Palm']]\n",
      "Missing hand: Left, by not detecting an open palm\n",
      "Missing hand: Right, by not detecting an open palm\n",
      "Results for final score - Left: 69.70%, Right: 75.99%\n",
      "Processing image: 55_IMG20241127103413.jpg\n",
      "Results for original pipeline - Left: 67.67%, Right: 65.66%\n",
      "[['None'], ['None']]\n",
      "Results for second pipeline - Left: 0.00%, Right: 0.00%\n",
      "[]\n",
      "Missing hand: Left, by not detecting an open palm\n",
      "Missing hand: Right, by not detecting an open palm\n",
      "Results for final score - Left: 0.00%, Right: 0.00%\n",
      "Processing image: 56_IMG20241127103449.jpg\n",
      "Results for original pipeline - Left: 71.91%, Right: 50.91%\n",
      "[['None'], ['Open_Palm']]\n",
      "Results for second pipeline - Left: 68.89%, Right: 71.01%\n",
      "[['Open_Palm']]\n",
      "Missing hand: Right, by not detecting an open palm\n",
      "Results for final score - Left: 71.91%, Right: 71.01%\n",
      "Processing image: 57_IMG20241127103455.jpg\n",
      "Results for original pipeline - Left: 0.00%, Right: 31.51%\n",
      "[]\n",
      "Results for second pipeline - Left: 63.75%, Right: 70.25%\n",
      "[['Open_Palm'], ['Open_Palm']]\n",
      "Results for final score - Left: 0.00%, Right: 31.51%\n",
      "Processing image: 58_IMG20241127103532.jpg\n",
      "Results for original pipeline - Left: 39.12%, Right: 62.44%\n",
      "[['Open_Palm'], ['None']]\n",
      "Results for second pipeline - Left: 51.30%, Right: 43.82%\n",
      "[['None'], ['Open_Palm']]\n",
      "Missing hand: Left, by not detecting an open palm\n",
      "Results for final score - Left: 51.30%, Right: 62.44%\n",
      "Processing image: 59_IMG20241127103541.jpg\n",
      "Results for original pipeline - Left: 36.24%, Right: 46.25%\n",
      "[['None'], ['None']]\n",
      "Results for second pipeline - Left: 0.00%, Right: 0.00%\n",
      "[]\n",
      "Missing hand: Right, by not detecting an open palm\n",
      "Missing hand: Left, by not detecting an open palm\n",
      "Results for final score - Left: 0.00%, Right: 0.00%\n",
      "Processing image: 60_IMG20241127103613.jpg\n",
      "Results for original pipeline - Left: 78.34%, Right: 80.75%\n",
      "[['Open_Palm'], ['Open_Palm']]\n",
      "Results for second pipeline - Left: 83.88%, Right: 84.93%\n",
      "[['Open_Palm'], ['Open_Palm']]\n",
      "Trying hand\n",
      "First pipeline confidence: 0.6670041680335999, Second pipeline confidence: 0.6699389815330505\n",
      "Trying hand\n",
      "First pipeline confidence: 0.7486324906349182, Second pipeline confidence: 0.7652455568313599\n",
      "Results for final score - Left: 78.34%, Right: 80.75%\n",
      "Processing image: 61_IMG20241127103622.jpg\n",
      "Results for original pipeline - Left: 73.28%, Right: 80.91%\n",
      "[['None'], ['Open_Palm']]\n",
      "Results for second pipeline - Left: 71.93%, Right: 82.14%\n",
      "[['Open_Palm'], ['Open_Palm']]\n",
      "Missing hand: Left, by not detecting an open palm\n",
      "Results for final score - Left: 71.93%, Right: 80.91%\n",
      "Processing image: 62_IMG20241127103640.jpg\n",
      "Results for original pipeline - Left: 78.99%, Right: 81.49%\n",
      "[['Open_Palm'], ['Open_Palm']]\n",
      "Results for second pipeline - Left: 82.02%, Right: 87.03%\n",
      "[['Open_Palm'], ['None']]\n",
      "Results for final score - Left: 78.99%, Right: 81.49%\n",
      "Processing image: 63_IMG20241127103645.jpg\n",
      "Results for original pipeline - Left: 75.33%, Right: 80.72%\n",
      "[['Open_Palm'], ['Open_Palm']]\n",
      "Results for second pipeline - Left: 5.74%, Right: 80.34%\n",
      "[['Open_Palm'], ['Open_Palm']]\n",
      "Trying hand\n",
      "First pipeline confidence: 0.6724271178245544, Second pipeline confidence: 0.7234516739845276\n",
      "Trying hand\n",
      "First pipeline confidence: 0.7270461916923523, Second pipeline confidence: 0.6661140322685242\n",
      "Results for final score - Left: 75.33%, Right: 80.72%\n",
      "Processing image: 64_IMG20241127103711.jpg\n",
      "Results for original pipeline - Left: 80.63%, Right: 83.17%\n",
      "[['Open_Palm'], ['Open_Palm']]\n",
      "Results for second pipeline - Left: 77.22%, Right: 84.79%\n",
      "[['Open_Palm'], ['Open_Palm']]\n",
      "Trying hand\n",
      "First pipeline confidence: 0.6317945122718811, Second pipeline confidence: 0.6699494123458862\n",
      "Trying hand\n",
      "First pipeline confidence: 0.658372700214386, Second pipeline confidence: 0.5110581517219543\n",
      "Results for final score - Left: 80.63%, Right: 83.17%\n",
      "Processing image: 65_IMG20241127103717.jpg\n",
      "Results for original pipeline - Left: 78.04%, Right: 76.71%\n",
      "[['Open_Palm'], ['Open_Palm']]\n",
      "Results for second pipeline - Left: 71.02%, Right: 80.07%\n",
      "[['Open_Palm']]\n",
      "Results for final score - Left: 78.04%, Right: 76.71%\n",
      "Processing image: 66_IMG20241127103745.jpg\n",
      "Results for original pipeline - Left: 56.09%, Right: 72.71%\n",
      "[['None'], ['Open_Palm']]\n",
      "Results for second pipeline - Left: 82.54%, Right: 75.37%\n",
      "[['Open_Palm']]\n",
      "Missing hand: Left, by not detecting an open palm\n",
      "Results for final score - Left: 82.54%, Right: 72.71%\n",
      "Processing image: 67_IMG20241127103751.jpg\n",
      "Results for original pipeline - Left: 80.73%, Right: 83.62%\n",
      "[['Open_Palm'], ['Open_Palm']]\n",
      "Results for second pipeline - Left: 81.69%, Right: 85.37%\n",
      "[['Open_Palm'], ['Open_Palm']]\n",
      "Trying hand\n",
      "First pipeline confidence: 0.5931816697120667, Second pipeline confidence: 0.6279548406600952\n",
      "Trying hand\n",
      "First pipeline confidence: 0.7355251908302307, Second pipeline confidence: 0.7149087190628052\n",
      "Results for final score - Left: 80.73%, Right: 83.62%\n",
      "Processing image: 68_IMG20241127103819.jpg\n",
      "Results for original pipeline - Left: 46.86%, Right: 66.67%\n",
      "[['None'], ['Open_Palm']]\n",
      "Results for second pipeline - Left: 52.64%, Right: 74.33%\n",
      "[['Open_Palm'], ['Open_Palm']]\n",
      "Missing hand: Left, by not detecting an open palm\n",
      "Results for final score - Left: 52.64%, Right: 66.67%\n",
      "Processing image: 69_IMG20241127103825.jpg\n",
      "Results for original pipeline - Left: 51.30%, Right: 76.27%\n",
      "[['Open_Palm'], ['Open_Palm']]\n",
      "Results for second pipeline - Left: 69.44%, Right: 79.58%\n",
      "[['Open_Palm'], ['Open_Palm']]\n",
      "Trying hand\n",
      "First pipeline confidence: 0.7623909711837769, Second pipeline confidence: 0.7550281882286072\n",
      "Trying hand\n",
      "First pipeline confidence: 0.5514070391654968, Second pipeline confidence: 0.6106529235839844\n",
      "Results for final score - Left: 51.30%, Right: 76.27%\n",
      "Processing image: 70_IMG20241127103904.jpg\n",
      "Results for original pipeline - Left: 16.05%, Right: 0.00%\n",
      "[['None']]\n",
      "Results for second pipeline - Left: 9.70%, Right: 70.87%\n",
      "[['Open_Palm']]\n",
      "Missing hand: Left, by not detecting a hand\n",
      "Results for final score - Left: 16.05%, Right: 70.87%\n",
      "Processing image: 71_IMG20241127103908.jpg\n",
      "Results for original pipeline - Left: 3.27%, Right: 49.56%\n",
      "[['None'], ['None']]\n",
      "Results for second pipeline - Left: 52.26%, Right: 69.89%\n",
      "[['Open_Palm'], ['None']]\n",
      "Missing hand: Left, by not detecting an open palm\n",
      "Missing hand: Right, by not detecting an open palm\n",
      "Results for final score - Left: 52.26%, Right: 69.89%\n",
      "Processing image: 72_IMG20241127103941.jpg\n",
      "Results for original pipeline - Left: 40.55%, Right: 69.33%\n",
      "[['None'], ['Open_Palm']]\n",
      "Results for second pipeline - Left: 54.86%, Right: 81.29%\n",
      "[['Open_Palm']]\n",
      "Missing hand: Left, by not detecting an open palm\n",
      "Results for final score - Left: 54.86%, Right: 69.33%\n",
      "Processing image: 73_IMG20241127103945.jpg\n",
      "Results for original pipeline - Left: 9.26%, Right: 13.22%\n",
      "[['None'], ['None']]\n",
      "Results for second pipeline - Left: 0.00%, Right: 44.09%\n",
      "[['Open_Palm']]\n",
      "Missing hand: Left, by not detecting an open palm\n",
      "Missing hand: Right, by not detecting an open palm\n",
      "Results for final score - Left: 0.00%, Right: 44.09%\n",
      "Processing image: 74_IMG20241127104014.jpg\n",
      "Results for original pipeline - Left: 10.36%, Right: 77.29%\n",
      "[['Open_Palm']]\n",
      "Results for second pipeline - Left: 71.25%, Right: 0.00%\n",
      "[['Open_Palm']]\n",
      "Results for final score - Left: 10.36%, Right: 77.29%\n",
      "Processing image: 75_IMG20241127104020.jpg\n",
      "Results for original pipeline - Left: 0.00%, Right: 16.13%\n",
      "[['None']]\n",
      "Results for second pipeline - Left: 0.00%, Right: 0.00%\n",
      "[]\n",
      "Missing hand: Left, by not detecting a hand\n",
      "Results for final score - Left: 0.00%, Right: 0.00%\n",
      "Processing image: 75_IMG20241127104020.jpg\n",
      "Results for original pipeline - Left: 0.00%, Right: 22.18%\n",
      "[['None']]\n",
      "Results for second pipeline - Left: 0.00%, Right: 0.00%\n",
      "[]\n",
      "Missing hand: Left, by not detecting a hand\n",
      "Results for final score - Left: 0.00%, Right: 0.00%\n",
      "Processing image: 76_IMG20241127104628.jpg\n",
      "Results for original pipeline - Left: 80.46%, Right: 78.25%\n",
      "[['Open_Palm'], ['Open_Palm']]\n",
      "Results for second pipeline - Left: 81.70%, Right: 79.91%\n",
      "[['Open_Palm'], ['Open_Palm']]\n",
      "Trying hand\n",
      "First pipeline confidence: 0.6237305998802185, Second pipeline confidence: 0.7229076623916626\n",
      "Trying hand\n",
      "First pipeline confidence: 0.7413807511329651, Second pipeline confidence: 0.5763012170791626\n",
      "Results for final score - Left: 80.46%, Right: 78.25%\n",
      "Processing image: 77_IMG20241127104637.jpg\n",
      "Results for original pipeline - Left: 81.46%, Right: 78.32%\n",
      "[['Open_Palm']]\n",
      "Results for second pipeline - Left: 58.75%, Right: 75.21%\n",
      "[['Open_Palm'], ['Open_Palm']]\n",
      "Results for final score - Left: 81.46%, Right: 78.32%\n",
      "Processing image: 78_IMG20241127105250.jpg\n",
      "Results for original pipeline - Left: 12.29%, Right: 0.00%\n",
      "[['None']]\n",
      "Results for second pipeline - Left: 0.00%, Right: 74.78%\n",
      "[['Open_Palm'], ['Open_Palm']]\n",
      "Missing hand: Right, by not detecting a hand\n",
      "Results for final score - Left: 0.00%, Right: 0.00%\n",
      "Processing image: 79_IMG20241127105256.jpg\n",
      "Results for original pipeline - Left: 57.98%, Right: 0.00%\n",
      "[['Open_Palm']]\n",
      "Results for second pipeline - Left: 0.00%, Right: 0.00%\n",
      "[]\n",
      "Missing hand: Right, by not detecting a hand\n",
      "Results for final score - Left: 0.00%, Right: 0.00%\n",
      "Processing image: 80_IMG20241127105346.jpg\n",
      "Results for original pipeline - Left: 41.47%, Right: 0.00%\n",
      "[['Open_Palm'], ['Open_Palm']]\n",
      "Results for second pipeline - Left: 9.09%, Right: 74.42%\n",
      "[['Open_Palm'], ['Open_Palm']]\n",
      "Trying hand\n",
      "First pipeline confidence: 0.644947350025177, Second pipeline confidence: 0.8045812249183655\n",
      "Trying hand\n",
      "First pipeline confidence: 0.5074925422668457, Second pipeline confidence: 0.8702828884124756\n",
      "Results for final score - Left: 41.47%, Right: 0.00%\n"
     ]
    }
   ],
   "execution_count": 58
  },
  {
   "metadata": {
    "ExecuteTime": {
     "end_time": "2024-12-25T15:58:29.996876Z",
     "start_time": "2024-12-25T15:58:29.965405Z"
    }
   },
   "cell_type": "code",
   "source": [
    "transformed_accuracy_siggraph17 = calculate_final_accuracy(total_transformed_siggraph17)\n",
    "# transformed_accuracy_eccv16 = calculate_final_accuracy(total_transformed_eccv16)"
   ],
   "id": "e65a45a34689ca5a",
   "outputs": [],
   "execution_count": 71
  },
  {
   "metadata": {
    "ExecuteTime": {
     "end_time": "2024-12-27T10:23:16.995190Z",
     "start_time": "2024-12-27T10:23:14.529812Z"
    }
   },
   "cell_type": "code",
   "source": [
    "IR_rotated_directory = '../../resources/evaluation_dataset/IR_rotated'\n",
    "\n",
    "for file_name in os.listdir(IR_image_directory):\n",
    "    file_path = os.path.join(IR_image_directory, file_name)\n",
    "\n",
    "    # Read the image\n",
    "    image = cv2.imread(file_path)\n",
    "\n",
    "    # Rotate the image\n",
    "    rotated_image = cv2.rotate(image, cv2.ROTATE_90_COUNTERCLOCKWISE)\n",
    "\n",
    "    # Save the rotated image\n",
    "    rotated_file_path = os.path.join(IR_rotated_directory, file_name)\n",
    "    cv2.imwrite(rotated_file_path, rotated_image)"
   ],
   "id": "d932c6e80373f87c",
   "outputs": [],
   "execution_count": 78
  },
  {
   "metadata": {
    "ExecuteTime": {
     "end_time": "2024-12-27T10:03:55.110358Z",
     "start_time": "2024-12-27T10:03:55.086278Z"
    }
   },
   "cell_type": "code",
   "source": [
    "def rotate_landmarks(landmarks, image_width, image_height, rotation_angle):\n",
    "    \"\"\"\n",
    "    Rotates landmarks for a given angle and adjusts for aspect ratio changes.\n",
    "\n",
    "    Parameters:\n",
    "        landmarks (list): List of dictionaries with 'x' and 'y' normalized coordinates.\n",
    "        image_width (int): Width of the original image.\n",
    "        image_height (int): Height of the original image.\n",
    "        rotation_angle (float): Angle of rotation in degrees (positive is counterclockwise, negative is clockwise).\n",
    "\n",
    "    Returns:\n",
    "        list: Rotated landmarks with normalized 'x' and 'y' coordinates.\n",
    "    \"\"\"\n",
    "    # Convert angle to radians\n",
    "    angle_rad = np.radians(rotation_angle)\n",
    "\n",
    "    # Calculate the center of the image\n",
    "    cx, cy = image_width / 2, image_height / 2\n",
    "\n",
    "    # Create rotation matrix\n",
    "    rotation_matrix = np.array([\n",
    "        [np.cos(angle_rad), -np.sin(angle_rad)],\n",
    "        [np.sin(angle_rad), np.cos(angle_rad)]\n",
    "    ])\n",
    "\n",
    "    # Denormalize the coordinates\n",
    "    denormalized_landmarks = [\n",
    "        (landmark['x'] * image_width, landmark['y'] * image_height)\n",
    "        for landmark in landmarks\n",
    "    ]\n",
    "\n",
    "    # Rotate landmarks\n",
    "    rotated_landmarks = []\n",
    "    for x, y in denormalized_landmarks:\n",
    "        # Translate point to origin\n",
    "        translated_point = np.array([x - cx, y - cy])\n",
    "        # Apply rotation\n",
    "        rotated_point = np.dot(rotation_matrix, translated_point)\n",
    "        # Translate back\n",
    "        final_point = rotated_point + np.array([cx, cy])\n",
    "\n",
    "        # Normalize coordinates considering swapped width and height\n",
    "        new_x, new_y = final_point\n",
    "        rotated_landmarks.append({\n",
    "            'x': new_y / image_height,  # Swap coordinates\n",
    "            'y': new_x / image_width    # Swap coordinates\n",
    "        })\n",
    "\n",
    "    return rotated_landmarks"
   ],
   "id": "9bd4617c80acd41b",
   "outputs": [],
   "execution_count": 72
  },
  {
   "metadata": {
    "ExecuteTime": {
     "end_time": "2024-12-27T10:05:35.530043Z",
     "start_time": "2024-12-27T10:05:33.190849Z"
    }
   },
   "cell_type": "code",
   "source": [
    "image_path = f\"../../resources/evaluation_dataset/IR/12_IMG20241127100913.jpg\"\n",
    "image_name = '12_IMG20241127100913.jpg'\n",
    "\n",
    "with open(json_file_path, 'r') as f:\n",
    "    ground_truth_data = json.load(f)\n",
    "    \n",
    "ground_truth_landmarks = ground_truth_data[11]['landmarks']\n",
    "\n",
    "first_pipeline_image_path = execute_transformation_pipeline(image_path, image_name)\n",
    "first_pipeline_score = assess_accuracy(first_pipeline_image_path, ground_truth_landmarks)\n",
    "print(f\"Results for original pipeline - Left: {np.mean(first_pipeline_score['Left']):.2f}%, Right: {np.mean(first_pipeline_score['Right']):.2f}%\")\n",
    "\n",
    "\n",
    "image_to_rotate = cv2.imread(first_pipeline_image_path)\n",
    "rotated_image = cv2.rotate(image_to_rotate, cv2.ROTATE_90_COUNTERCLOCKWISE)\n",
    "rotated_image_path = f\"../../resources/stylized-pictures/rotated/{image_name}_rotated.png\"\n",
    "cv2.imwrite(rotated_image_path, rotated_image)\n",
    "\n",
    "\n",
    "# Annotate rotated image with rotated ground truth landmarks\n",
    "image_width = image_to_rotate.shape[1]\n",
    "image_height = image_to_rotate.shape[0]\n",
    "rotation_angle = 180  # Rotation in degrees\n",
    "\n",
    "rotated_ground_truth_landmarks = [\n",
    "    rotate_landmarks(hand, image_width, image_height, rotation_angle)\n",
    "    for hand in ground_truth_landmarks\n",
    "]\n",
    "\n",
    "results = {\"landmarks\": rotated_ground_truth_landmarks}\n",
    "\n",
    "\n",
    "annotated_image = draw_landmarks_on_image_from_json(rotated_image, results)\n",
    "\n",
    "cv2.imwrite('./12_rotated_annotated.jpg', annotated_image)\n"
   ],
   "id": "cec0c778444eadf3",
   "outputs": [
    {
     "name": "stdout",
     "output_type": "stream",
     "text": [
      "Results for original pipeline - Left: 79.98%, Right: 77.87%\n"
     ]
    },
    {
     "data": {
      "text/plain": [
       "True"
      ]
     },
     "execution_count": 77,
     "metadata": {},
     "output_type": "execute_result"
    }
   ],
   "execution_count": 77
  },
  {
   "metadata": {
    "ExecuteTime": {
     "end_time": "2024-12-27T10:05:16.329521Z",
     "start_time": "2024-12-27T10:05:14.284011Z"
    }
   },
   "cell_type": "code",
   "source": [
    "image_path = f\"../../resources/evaluation_dataset/IR/12_IMG20241127100913.jpg\"\n",
    "image_name = '12_IMG20241127100913.jpg'\n",
    "\n",
    "with open(json_file_path, 'r') as f:\n",
    "    ground_truth_data = json.load(f)\n",
    "    \n",
    "ground_truth_landmarks = ground_truth_data[11]['landmarks']\n",
    "\n",
    "first_pipeline_image_path = execute_transformation_pipeline(image_path, image_name)\n",
    "first_pipeline_score = assess_accuracy(first_pipeline_image_path, ground_truth_landmarks)\n",
    "print(f\"Results for original pipeline - Left: {np.mean(first_pipeline_score['Left']):.2f}%, Right: {np.mean(first_pipeline_score['Right']):.2f}%\")\n",
    "\n",
    "\n",
    "image_to_rotate = cv2.imread(first_pipeline_image_path)\n",
    "rotated_image = cv2.rotate(image_to_rotate, cv2.ROTATE_90_COUNTERCLOCKWISE)\n",
    "rotated_image_path = f\"./{image_name}_rotated.png\"\n",
    "cv2.imwrite(rotated_image_path, rotated_image)\n",
    "\n",
    "image = mp.Image.create_from_file(rotated_image_path)\n",
    "\n",
    "gesture_results = gesture_recognizer.recognize(image)\n",
    "\n",
    "first_pipeline_rotated_score = calculate_hand_accuracies(\n",
    "    ground_truth_landmarks,\n",
    "    gesture_results.hand_landmarks,\n",
    "    gesture_results.handedness,\n",
    "    distance_threshold\n",
    ")\n",
    "\n",
    "print(f\"Results for original pipeline - Left: {np.mean(first_pipeline_rotated_score['Left']):.2f}%, Right: {np.mean(first_pipeline_rotated_score['Right']):.2f}%\")\n",
    "\n",
    "print(ground_truth_landmarks)\n",
    "\n",
    "\n",
    "\n"
   ],
   "id": "5ed4f7a0acdbbff1",
   "outputs": [
    {
     "name": "stdout",
     "output_type": "stream",
     "text": [
      "Results for original pipeline - Left: 79.98%, Right: 77.87%\n",
      "Results for original pipeline - Left: 0.00%, Right: 2.66%\n",
      "[[{'x': 0.40555555555555556, 'y': 0.37916666666666665}, {'x': 0.4203703703703704, 'y': 0.34444444444444444}, {'x': 0.48518518518518516, 'y': 0.30277777777777776}, {'x': 0.5425925925925926, 'y': 0.28888888888888886}, {'x': 0.5796296296296296, 'y': 0.275}, {'x': 0.5722222222222222, 'y': 0.3597222222222222}, {'x': 0.6259259259259259, 'y': 0.3597222222222222}, {'x': 0.6703703703703704, 'y': 0.3597222222222222}, {'x': 0.7185185185185186, 'y': 0.3638888888888889}, {'x': 0.5685185185185185, 'y': 0.3902777777777778}, {'x': 0.6222222222222222, 'y': 0.3888888888888889}, {'x': 0.6722222222222223, 'y': 0.3888888888888889}, {'x': 0.725925925925926, 'y': 0.39305555555555555}, {'x': 0.5592592592592592, 'y': 0.4152777777777778}, {'x': 0.6185185185185185, 'y': 0.4166666666666667}, {'x': 0.662962962962963, 'y': 0.41805555555555557}, {'x': 0.7129629629629629, 'y': 0.41805555555555557}, {'x': 0.5370370370370371, 'y': 0.4305555555555556}, {'x': 0.5814814814814815, 'y': 0.44166666666666665}, {'x': 0.6185185185185185, 'y': 0.44583333333333336}, {'x': 0.6611111111111111, 'y': 0.4444444444444444}], [{'x': 0.3888888888888889, 'y': 0.6083333333333333}, {'x': 0.43333333333333335, 'y': 0.6430555555555556}, {'x': 0.48333333333333334, 'y': 0.6722222222222223}, {'x': 0.5351851851851852, 'y': 0.6833333333333333}, {'x': 0.5814814814814815, 'y': 0.7083333333333334}, {'x': 0.562962962962963, 'y': 0.6097222222222223}, {'x': 0.6222222222222222, 'y': 0.6125}, {'x': 0.6703703703703704, 'y': 0.6138888888888889}, {'x': 0.7222222222222222, 'y': 0.6055555555555555}, {'x': 0.5703703703703704, 'y': 0.5833333333333334}, {'x': 0.6277777777777778, 'y': 0.5805555555555556}, {'x': 0.6777777777777778, 'y': 0.5805555555555556}, {'x': 0.725925925925926, 'y': 0.5722222222222222}, {'x': 0.562962962962963, 'y': 0.5569444444444445}, {'x': 0.6092592592592593, 'y': 0.5513888888888889}, {'x': 0.65, 'y': 0.5513888888888889}, {'x': 0.7018518518518518, 'y': 0.55}, {'x': 0.5351851851851852, 'y': 0.5375}, {'x': 0.5740740740740741, 'y': 0.5277777777777778}, {'x': 0.6055555555555555, 'y': 0.5222222222222223}, {'x': 0.6425925925925926, 'y': 0.5180555555555556}]]\n"
     ]
    }
   ],
   "execution_count": 76
  },
  {
   "metadata": {
    "ExecuteTime": {
     "end_time": "2024-12-27T09:27:21.503654Z",
     "start_time": "2024-12-27T09:27:21.488034Z"
    }
   },
   "cell_type": "code",
   "source": [
    "landmarker_first_accuracy = calculate_final_accuracy(hand_landmarker_first)\n",
    "landmarker_second_accuracy = calculate_final_accuracy(hand_landmarker_second)\n",
    "\n",
    "recognizer_first_acc = calculate_final_accuracy(gesture_recognizer_first)\n",
    "recognizer_second_acc = calculate_final_accuracy(gesture_recognizer_second)"
   ],
   "id": "68515fa6f88d0a2c",
   "outputs": [],
   "execution_count": 59
  },
  {
   "metadata": {
    "ExecuteTime": {
     "end_time": "2024-12-27T09:27:21.535358Z",
     "start_time": "2024-12-27T09:27:21.519699Z"
    }
   },
   "cell_type": "code",
   "source": [
    "print(f\"Landmarker results first pipeline: {landmarker_first_accuracy}\")\n",
    "print(f\"Recognizer results first pipeline: {recognizer_first_acc}\")\n",
    "\n",
    "print(f\"Landmarker results second pipeline: {landmarker_second_accuracy}\")\n",
    "print(f\"Recognizer results second pipeline: {recognizer_second_acc}\")"
   ],
   "id": "a81b2d11599c4d4b",
   "outputs": [
    {
     "name": "stdout",
     "output_type": "stream",
     "text": [
      "Landmarker results first pipeline: 59.83906712263452\n",
      "Recognizer results first pipeline: 59.83906712263452\n",
      "Landmarker results second pipeline: 42.03249857357762\n",
      "Recognizer results second pipeline: 42.03249857357762\n"
     ]
    }
   ],
   "execution_count": 60
  },
  {
   "metadata": {
    "ExecuteTime": {
     "end_time": "2024-12-25T15:58:30.755178Z",
     "start_time": "2024-12-25T15:58:30.739399Z"
    }
   },
   "cell_type": "code",
   "source": [
    "print(f\"Transformed Accuracy (SIGGRAPH17): {transformed_accuracy_siggraph17:.2f}%\")\n",
    "# print(f\"Transformed Accuracy (ECCV16): {transformed_accuracy_eccv16:.2f}%\")"
   ],
   "id": "86606982b26d0755",
   "outputs": [
    {
     "name": "stdout",
     "output_type": "stream",
     "text": [
      "Transformed Accuracy (SIGGRAPH17): 56.57%\n"
     ]
    }
   ],
   "execution_count": 72
  },
  {
   "metadata": {
    "ExecuteTime": {
     "end_time": "2024-12-25T13:12:25.601266Z",
     "start_time": "2024-12-25T13:12:25.014271Z"
    }
   },
   "cell_type": "code",
   "source": [
    "# image_path = '../../resources/evaluation_dataset/RGB/12_IMG_4565.jpg'\n",
    "# image = cv2.imread(image_path)\n",
    "# rotated = cv2.rotate(image, cv2.ROTATE_90_CLOCKWISE)\n",
    "# rotated_path = f'../../resources/stylized-pictures/rotated/12.jpg'\n",
    "# cv2.imwrite(rotated_path, rotated)\n",
    "# \n",
    "# \n",
    "# image = mp.Image.create_from_file(rotated_path)\n",
    "# gesture_results = gesture_recognizer.recognize(image)\n",
    "# print(gesture_results.handedness)\n",
    "# print(gesture_results.gestures)\n",
    "# print(gesture_results.hand_landmarks)"
   ],
   "id": "5f6c425341e7380f",
   "outputs": [
    {
     "name": "stdout",
     "output_type": "stream",
     "text": [
      "[[Category(index=1, score=0.8702114820480347, display_name='Left', category_name='Left')], [Category(index=0, score=0.8943758010864258, display_name='Right', category_name='Right')]]\n",
      "[[Category(index=-1, score=0.6289042234420776, display_name='', category_name='Open_Palm')], [Category(index=-1, score=0.6001392602920532, display_name='', category_name='Open_Palm')]]\n",
      "[[NormalizedLandmark(x=0.38355064392089844, y=0.6685888767242432, z=8.486312452760103e-08, visibility=0.0, presence=0.0), NormalizedLandmark(x=0.3511018455028534, y=0.6377497911453247, z=-0.01722746342420578, visibility=0.0, presence=0.0), NormalizedLandmark(x=0.32757508754730225, y=0.597452700138092, z=-0.027925806120038033, visibility=0.0, presence=0.0), NormalizedLandmark(x=0.314053475856781, y=0.5614382028579712, z=-0.03767886757850647, visibility=0.0, presence=0.0), NormalizedLandmark(x=0.3022347092628479, y=0.5332910418510437, z=-0.04728086665272713, visibility=0.0, presence=0.0), NormalizedLandmark(x=0.3718462586402893, y=0.537994384765625, z=-0.014308487996459007, visibility=0.0, presence=0.0), NormalizedLandmark(x=0.3685775399208069, y=0.4847858250141144, z=-0.025026174262166023, visibility=0.0, presence=0.0), NormalizedLandmark(x=0.36894291639328003, y=0.45341014862060547, z=-0.035172637552022934, visibility=0.0, presence=0.0), NormalizedLandmark(x=0.3714450001716614, y=0.426278293132782, z=-0.043043386191129684, visibility=0.0, presence=0.0), NormalizedLandmark(x=0.3913271129131317, y=0.535994291305542, z=-0.01378385815769434, visibility=0.0, presence=0.0), NormalizedLandmark(x=0.3919491767883301, y=0.47907647490501404, z=-0.022781487554311752, visibility=0.0, presence=0.0), NormalizedLandmark(x=0.39285808801651, y=0.44358572363853455, z=-0.03148028999567032, visibility=0.0, presence=0.0), NormalizedLandmark(x=0.39465826749801636, y=0.41523218154907227, z=-0.03871981427073479, visibility=0.0, presence=0.0), NormalizedLandmark(x=0.40766772627830505, y=0.5455631613731384, z=-0.015578869730234146, visibility=0.0, presence=0.0), NormalizedLandmark(x=0.41224411129951477, y=0.4948786497116089, z=-0.023334288969635963, visibility=0.0, presence=0.0), NormalizedLandmark(x=0.4127062261104584, y=0.46205994486808777, z=-0.03073507361114025, visibility=0.0, presence=0.0), NormalizedLandmark(x=0.4121362864971161, y=0.43535327911376953, z=-0.03670121729373932, visibility=0.0, presence=0.0), NormalizedLandmark(x=0.42358800768852234, y=0.5637841820716858, z=-0.01938134990632534, visibility=0.0, presence=0.0), NormalizedLandmark(x=0.4318637251853943, y=0.5246686935424805, z=-0.02614007703959942, visibility=0.0, presence=0.0), NormalizedLandmark(x=0.43336957693099976, y=0.498568058013916, z=-0.030652480199933052, visibility=0.0, presence=0.0), NormalizedLandmark(x=0.4335254728794098, y=0.4752652049064636, z=-0.034196123480796814, visibility=0.0, presence=0.0)], [NormalizedLandmark(x=0.5475301146507263, y=0.6663952469825745, z=2.438429476114834e-07, visibility=0.0, presence=0.0), NormalizedLandmark(x=0.5802446603775024, y=0.6320828199386597, z=-0.021937616169452667, visibility=0.0, presence=0.0), NormalizedLandmark(x=0.6005068421363831, y=0.5950072407722473, z=-0.029772505164146423, visibility=0.0, presence=0.0), NormalizedLandmark(x=0.6128506660461426, y=0.5580204129219055, z=-0.03566982224583626, visibility=0.0, presence=0.0), NormalizedLandmark(x=0.6283194422721863, y=0.5291085243225098, z=-0.04124940559267998, visibility=0.0, presence=0.0), NormalizedLandmark(x=0.5557641983032227, y=0.5408913493156433, z=-0.007474374026060104, visibility=0.0, presence=0.0), NormalizedLandmark(x=0.5557798743247986, y=0.489709734916687, z=-0.014866645447909832, visibility=0.0, presence=0.0), NormalizedLandmark(x=0.5546325445175171, y=0.45946642756462097, z=-0.023960435763001442, visibility=0.0, presence=0.0), NormalizedLandmark(x=0.5519636273384094, y=0.4325169324874878, z=-0.03147740289568901, visibility=0.0, presence=0.0), NormalizedLandmark(x=0.5356894731521606, y=0.543647050857544, z=-0.003469804534688592, visibility=0.0, presence=0.0), NormalizedLandmark(x=0.5314958095550537, y=0.4889135956764221, z=-0.009937767870724201, visibility=0.0, presence=0.0), NormalizedLandmark(x=0.5297039747238159, y=0.45304566621780396, z=-0.020159296691417694, visibility=0.0, presence=0.0), NormalizedLandmark(x=0.5270264744758606, y=0.42398756742477417, z=-0.0287384744733572, visibility=0.0, presence=0.0), NormalizedLandmark(x=0.5186312794685364, y=0.5549716949462891, z=-0.0026029772125184536, visibility=0.0, presence=0.0), NormalizedLandmark(x=0.5113584995269775, y=0.5043914318084717, z=-0.010605904273688793, visibility=0.0, presence=0.0), NormalizedLandmark(x=0.5097240209579468, y=0.4724712371826172, z=-0.019907664507627487, visibility=0.0, presence=0.0), NormalizedLandmark(x=0.5088217854499817, y=0.4451206922531128, z=-0.02701452374458313, visibility=0.0, presence=0.0), NormalizedLandmark(x=0.5037781000137329, y=0.5715082883834839, z=-0.004048213828355074, visibility=0.0, presence=0.0), NormalizedLandmark(x=0.49488502740859985, y=0.5349647998809814, z=-0.012740608304738998, visibility=0.0, presence=0.0), NormalizedLandmark(x=0.490829199552536, y=0.5102802515029907, z=-0.019068410620093346, visibility=0.0, presence=0.0), NormalizedLandmark(x=0.48939287662506104, y=0.4866068959236145, z=-0.02384793385863304, visibility=0.0, presence=0.0)]]\n"
     ]
    }
   ],
   "execution_count": 55
  },
  {
   "metadata": {},
   "cell_type": "markdown",
   "source": "## Choosing which pipeline should be executed first?",
   "id": "f5e71f4fd2285d1a"
  },
  {
   "metadata": {
    "ExecuteTime": {
     "end_time": "2024-12-24T09:04:43.633148Z",
     "start_time": "2024-12-24T09:04:43.617335Z"
    }
   },
   "cell_type": "code",
   "source": [
    "first_pipeline_better = []\n",
    "second_pipeline_better = []\n",
    "the_same = []"
   ],
   "id": "364486d0303e45f9",
   "outputs": [],
   "execution_count": 99
  },
  {
   "metadata": {
    "ExecuteTime": {
     "end_time": "2024-12-24T09:08:29.528602Z",
     "start_time": "2024-12-24T09:04:44.052808Z"
    }
   },
   "cell_type": "code",
   "source": [
    "for file_name in os.listdir(IR_ground_truth_directory):\n",
    "    if file_name.endswith('.json'):\n",
    "        json_file_path = os.path.join(IR_ground_truth_directory, file_name)\n",
    "        \n",
    "        with open(json_file_path, 'r') as f:\n",
    "            ground_truth_data = json.load(f)\n",
    "            \n",
    "        for entry in ground_truth_data:\n",
    "            image_name = entry[\"image\"]\n",
    "            ground_truth_landmarks = entry[\"landmarks\"]\n",
    "            image_path = f\"{IR_image_directory}/{image_name}\"\n",
    "            original_image = cv2.imread(image_path)\n",
    "            first_pipeline_image_path = execute_transformation_pipeline(image_path, image_name)\n",
    "            first_pipeline_score = assess_accuracy(first_pipeline_image_path, ground_truth_landmarks)\n",
    "            \n",
    "            second_pipeline_image_path = execute_transformation_pipeline_with_no_visible_fingers(image_path, image_name)\n",
    "            image = mp.Image.create_from_file(second_pipeline_image_path)\n",
    "            \n",
    "            # Perform landmark detection\n",
    "            results = landmark_detector.detect(image)\n",
    "            \n",
    "            second_pipeline_score = calculate_hand_accuracies(\n",
    "            ground_truth_landmarks,\n",
    "            results.hand_landmarks,\n",
    "            results.handedness,\n",
    "            distance_threshold\n",
    "            )\n",
    "            \n",
    "            first_pipeline_total = np.mean(first_pipeline_score[\"Left\"]) + np.mean(first_pipeline_score[\"Right\"])\n",
    "            second_pipeline_total = np.mean(second_pipeline_score[\"Left\"]) + np.mean(second_pipeline_score[\"Right\"])\n",
    "            \n",
    "            difference = abs(first_pipeline_total - second_pipeline_total)\n",
    "            \n",
    "            print(first_pipeline_total)\n",
    "            print(second_pipeline_total)\n",
    "            print(difference)\n",
    "            print(\"###############\")\n",
    "            \n",
    "            # If cumulative score of pipeline 1 is better than cumulative score of pipeline 2 then pipeline 1 is better\n",
    "            if first_pipeline_total > second_pipeline_total and difference > 10:\n",
    "                first_pipeline_better.append(image_name)\n",
    "                cv2.imwrite(f\"../../resources/stylized-pictures/first_pipeline_better/{image_name}\", original_image)\n",
    "            elif second_pipeline_total > first_pipeline_total and difference > 10:\n",
    "                second_pipeline_better.append(image_name)\n",
    "                cv2.imwrite(f\"../../resources/stylized-pictures/second_pipeline_better/{image_name}\", original_image)\n",
    "            else:\n",
    "                the_same.append(image_name)"
   ],
   "id": "35d4608f96640d94",
   "outputs": [
    {
     "name": "stdout",
     "output_type": "stream",
     "text": [
      "150.33659044247116\n",
      "144.0087140730888\n",
      "6.327876369382352\n",
      "###############\n",
      "125.55859902544202\n",
      "147.59122276319334\n",
      "22.032623737751322\n",
      "###############\n",
      "68.08360181323549\n",
      "76.61492537154425\n",
      "8.531323558308756\n",
      "###############\n",
      "114.23991576949754\n",
      "151.4745703828046\n",
      "37.23465461330704\n",
      "###############\n",
      "150.26046047751714\n",
      "0.0\n",
      "150.26046047751714\n",
      "###############\n",
      "136.6076417605309\n",
      "0.0\n",
      "136.6076417605309\n",
      "###############\n",
      "156.36709317511924\n",
      "0.0\n",
      "156.36709317511924\n",
      "###############\n",
      "138.55454741638258\n",
      "0.0\n",
      "138.55454741638258\n",
      "###############\n",
      "156.48154493762559\n",
      "0.0\n",
      "156.48154493762559\n",
      "###############\n",
      "162.0791936325387\n",
      "0.0\n",
      "162.0791936325387\n",
      "###############\n",
      "158.23611548659625\n",
      "0.0\n",
      "158.23611548659625\n",
      "###############\n",
      "157.85036372045175\n",
      "0.0\n",
      "157.85036372045175\n",
      "###############\n",
      "158.8989765155226\n",
      "0.0\n",
      "158.8989765155226\n",
      "###############\n",
      "73.06938597590967\n",
      "0.0\n",
      "73.06938597590967\n",
      "###############\n",
      "140.2853175795947\n",
      "135.3631666775092\n",
      "4.922150902085491\n",
      "###############\n",
      "144.99821429106953\n",
      "141.01861343242345\n",
      "3.97960085864608\n",
      "###############\n",
      "132.78760776684422\n",
      "133.03173065688233\n",
      "0.24412289003811338\n",
      "###############\n",
      "136.83911579662623\n",
      "130.5059557354577\n",
      "6.333160061168542\n",
      "###############\n",
      "133.98081258573825\n",
      "127.94687720166705\n",
      "6.033935384071199\n",
      "###############\n",
      "137.76515607761453\n",
      "140.00340917436247\n",
      "2.2382530967479397\n",
      "###############\n",
      "140.5350968013051\n",
      "141.71677689042457\n",
      "1.1816800891194816\n",
      "###############\n",
      "140.90438683465047\n",
      "144.85775360235294\n",
      "3.9533667677024766\n",
      "###############\n",
      "134.37254850325982\n",
      "73.2914599888534\n",
      "61.08108851440642\n",
      "###############\n",
      "144.29706845963656\n",
      "69.07192579644953\n",
      "75.22514266318703\n",
      "###############\n",
      "131.59894820635887\n",
      "147.94864350444442\n",
      "16.34969529808555\n",
      "###############\n",
      "124.2197866372569\n",
      "78.22390924733725\n",
      "45.995877389919656\n",
      "###############\n",
      "118.37051189472476\n",
      "136.26665987106315\n",
      "17.896147976338398\n",
      "###############\n",
      "129.8791025746968\n",
      "69.42669544307746\n",
      "60.452407131619324\n",
      "###############\n",
      "48.223631837003936\n",
      "105.92597560239567\n",
      "57.70234376539173\n",
      "###############\n",
      "55.04605692386957\n",
      "0.0\n",
      "55.04605692386957\n",
      "###############\n",
      "151.34089189509507\n",
      "156.2873524779578\n",
      "4.946460582862727\n",
      "###############\n",
      "151.3534166670337\n",
      "154.30005559631178\n",
      "2.946638929278066\n",
      "###############\n",
      "119.49614263639194\n",
      "138.11707877669744\n",
      "18.620936140305503\n",
      "###############\n",
      "138.49178154782328\n",
      "76.81696120074758\n",
      "61.674820347075695\n",
      "###############\n",
      "127.72810816534204\n",
      "148.70530829005827\n",
      "20.977200124716234\n",
      "###############\n",
      "128.10443116162978\n",
      "75.53507088574767\n",
      "52.569360275882104\n",
      "###############\n",
      "140.35456270941017\n",
      "77.37670459043349\n",
      "62.977858118976684\n",
      "###############\n",
      "39.5133849418443\n",
      "76.52391764308173\n",
      "37.01053270123743\n",
      "###############\n",
      "113.73562434841958\n",
      "0.0\n",
      "113.73562434841958\n",
      "###############\n",
      "39.46622918744833\n",
      "75.95101643355464\n",
      "36.484787246106315\n",
      "###############\n",
      "75.02874059271221\n",
      "0.0\n",
      "75.02874059271221\n",
      "###############\n",
      "17.84368970167116\n",
      "80.57202808680302\n",
      "62.728338385131856\n",
      "###############\n",
      "148.79864883707864\n",
      "70.48498934350388\n",
      "78.31365949357476\n",
      "###############\n",
      "150.37237991762373\n",
      "62.724403093031015\n",
      "87.64797682459272\n",
      "###############\n",
      "164.52823614016063\n",
      "0.0\n",
      "164.52823614016063\n",
      "###############\n",
      "162.6560310504335\n",
      "166.93427885015117\n",
      "4.278247799717661\n",
      "###############\n",
      "162.47593676845634\n",
      "0.0\n",
      "162.47593676845634\n",
      "###############\n",
      "165.20685051841252\n",
      "81.22161472807656\n",
      "83.98523579033596\n",
      "###############\n",
      "158.4682998619165\n",
      "0.0\n",
      "158.4682998619165\n",
      "###############\n",
      "158.46676957804652\n",
      "0.0\n",
      "158.46676957804652\n",
      "###############\n",
      "155.8661570692804\n",
      "0.0\n",
      "155.8661570692804\n",
      "###############\n",
      "151.63595723649075\n",
      "79.59142585277976\n",
      "72.04453138371099\n",
      "###############\n",
      "148.99477402117913\n",
      "78.98431255198116\n",
      "70.01046146919796\n",
      "###############\n",
      "111.51954887703224\n",
      "145.68199962142074\n",
      "34.16245074438851\n",
      "###############\n",
      "133.32745769012212\n",
      "0.0\n",
      "133.32745769012212\n",
      "###############\n",
      "122.81810945529696\n",
      "139.90383797685428\n",
      "17.085728521557314\n",
      "###############\n",
      "31.507193404750183\n",
      "134.00508174065115\n",
      "102.49788833590097\n",
      "###############\n",
      "101.5615982259283\n",
      "95.12513888038723\n",
      "6.436459345541067\n",
      "###############\n",
      "82.49781017047455\n",
      "0.0\n",
      "82.49781017047455\n",
      "###############\n",
      "159.0901165796094\n",
      "168.808221416567\n",
      "9.718104836957593\n",
      "###############\n",
      "154.19050466422973\n",
      "154.07572858793554\n",
      "0.1147760762941914\n",
      "###############\n",
      "160.4770015977062\n",
      "169.0451156177017\n",
      "8.568114019995505\n",
      "###############\n",
      "156.054891763512\n",
      "86.07878954846964\n",
      "69.97610221504235\n",
      "###############\n",
      "163.79788566577116\n",
      "162.00909153693323\n",
      "1.7887941288379352\n",
      "###############\n",
      "154.74814309342742\n",
      "151.08361541497325\n",
      "3.6645276784541636\n",
      "###############\n",
      "128.79993086447465\n",
      "157.905881984495\n",
      "29.105951120020364\n",
      "###############\n",
      "164.3419020735072\n",
      "167.05921437207752\n",
      "2.717312298570306\n",
      "###############\n",
      "113.52968965500149\n",
      "126.97053720021646\n",
      "13.440847545214964\n",
      "###############\n",
      "127.57697071594217\n",
      "149.022528881298\n",
      "21.445558165355834\n",
      "###############\n",
      "16.04526196925128\n",
      "80.56870917733859\n",
      "64.5234472080873\n",
      "###############\n",
      "52.82801347787391\n",
      "122.14403910137023\n",
      "69.31602562349632\n",
      "###############\n",
      "109.88400276582678\n",
      "136.14328106612538\n",
      "26.259278300298604\n",
      "###############\n",
      "22.48213094671981\n",
      "44.09306202869895\n",
      "21.610931081979142\n",
      "###############\n",
      "87.65135620008161\n",
      "71.24990479371174\n",
      "16.401451406369873\n",
      "###############\n",
      "16.128402089581044\n",
      "0.0\n",
      "16.128402089581044\n",
      "###############\n",
      "22.182393400433224\n",
      "0.0\n",
      "22.182393400433224\n",
      "###############\n",
      "158.70785659166773\n",
      "161.61722041280763\n",
      "2.909363821139891\n",
      "###############\n",
      "159.7830822380314\n",
      "133.9597908737234\n",
      "25.823291364308005\n",
      "###############\n",
      "12.288824144266135\n",
      "74.78122965522158\n",
      "62.49240551095544\n",
      "###############\n",
      "57.98236204712498\n",
      "0.0\n",
      "57.98236204712498\n",
      "###############\n",
      "41.471996026162394\n",
      "83.51724521434555\n",
      "42.045249188183156\n",
      "###############\n"
     ]
    }
   ],
   "execution_count": 100
  },
  {
   "metadata": {
    "ExecuteTime": {
     "end_time": "2024-12-24T08:49:17.942749Z",
     "start_time": "2024-12-24T08:49:17.927120Z"
    }
   },
   "cell_type": "code",
   "source": [
    "print(f\"First Pipeline Better: {len(first_pipeline_better)}\")\n",
    "print(f\"Second Pipeline Better: {len(second_pipeline_better)}\")\n",
    "print(f\"The same result (more or less): {len(the_same)}\")"
   ],
   "id": "28b0d2e10ad9de88",
   "outputs": [
    {
     "name": "stdout",
     "output_type": "stream",
     "text": [
      "First Pipeline Better: 38\n",
      "Second Pipeline Better: 22\n",
      "The same result (more or less): 21\n"
     ]
    }
   ],
   "execution_count": 63
  },
  {
   "metadata": {
    "ExecuteTime": {
     "end_time": "2024-12-24T08:49:24.491709Z",
     "start_time": "2024-12-24T08:49:24.444656Z"
    }
   },
   "cell_type": "code",
   "source": [
    "def calculate_metrics(image_list):\n",
    "    mean_intensities = []\n",
    "    dark_pixel_ratios = []\n",
    "    \n",
    "    for filename in image_list:\n",
    "        image_path = f\"{IR_image_directory}/{filename}\"\n",
    "        image = cv2.imread(image_path, cv2.IMREAD_GRAYSCALE)\n",
    "        hist = cv2.calcHist([image], [0], None, [256], [0, 256])\n",
    "        hist = hist.flatten()\n",
    "        \n",
    "        # Mean Intensity\n",
    "        mean_intensity = np.sum(np.arange(256) * hist) / np.sum(hist)\n",
    "        mean_intensities.append(mean_intensity)\n",
    "        \n",
    "        # Dark Pixel Ratio\n",
    "        dark_pixel_ratio = np.sum(hist[:128]) / np.sum(hist)\n",
    "        dark_pixel_ratios.append(dark_pixel_ratio)\n",
    "    \n",
    "    # Calculate statistics\n",
    "    metrics = {\n",
    "        'mean_intensity': {\n",
    "            'mean': np.mean(mean_intensities),\n",
    "            'std': np.std(mean_intensities),\n",
    "            'min': np.min(mean_intensities),\n",
    "            'max': np.max(mean_intensities),\n",
    "            'values': mean_intensities\n",
    "        },\n",
    "        'dark_pixel_ratio': {\n",
    "            'mean': np.mean(dark_pixel_ratios),\n",
    "            'std': np.std(dark_pixel_ratios),\n",
    "            'min': np.min(dark_pixel_ratios),\n",
    "            'max': np.max(dark_pixel_ratios),\n",
    "            'values': dark_pixel_ratios\n",
    "        }\n",
    "    }\n",
    "    return metrics\n"
   ],
   "id": "15c6dc91e4ddba3a",
   "outputs": [],
   "execution_count": 64
  },
  {
   "metadata": {
    "ExecuteTime": {
     "end_time": "2024-12-24T08:49:26.443174Z",
     "start_time": "2024-12-24T08:49:25.732641Z"
    }
   },
   "cell_type": "code",
   "source": [
    "pipeline1_metrics = calculate_metrics(first_pipeline_better)\n",
    "pipeline2_metrics = calculate_metrics(second_pipeline_better)"
   ],
   "id": "304209209028b89e",
   "outputs": [],
   "execution_count": 65
  },
  {
   "metadata": {
    "ExecuteTime": {
     "end_time": "2024-12-24T08:49:29.106775Z",
     "start_time": "2024-12-24T08:49:29.075516Z"
    }
   },
   "cell_type": "code",
   "source": [
    "print(\"Pipeline 1 Metrics:\")\n",
    "print(f\"Mean Intensity: Mean={pipeline1_metrics['mean_intensity']['mean']:.2f}, \"\n",
    "      f\"Std={pipeline1_metrics['mean_intensity']['std']:.2f}, \"\n",
    "      f\"Min={pipeline1_metrics['mean_intensity']['min']:.2f}, \"\n",
    "      f\"Max={pipeline1_metrics['mean_intensity']['max']:.2f}\")\n",
    "\n",
    "print(f\"Dark Pixel Ratio: Mean={pipeline1_metrics['dark_pixel_ratio']['mean']:.2f}, \"\n",
    "      f\"Std={pipeline1_metrics['dark_pixel_ratio']['std']:.2f}, \"\n",
    "      f\"Min={pipeline1_metrics['dark_pixel_ratio']['min']:.2f}, \"\n",
    "      f\"Max={pipeline1_metrics['dark_pixel_ratio']['max']:.2f}\")\n"
   ],
   "id": "f90184cd0aae2ae3",
   "outputs": [
    {
     "name": "stdout",
     "output_type": "stream",
     "text": [
      "Pipeline 1 Metrics:\n",
      "Mean Intensity: Mean=84.73, Std=17.60, Min=58.39, Max=130.65\n",
      "Dark Pixel Ratio: Mean=0.81, Std=0.11, Min=0.36, Max=0.89\n"
     ]
    }
   ],
   "execution_count": 66
  },
  {
   "metadata": {
    "ExecuteTime": {
     "end_time": "2024-12-24T08:49:30.184049Z",
     "start_time": "2024-12-24T08:49:30.168147Z"
    }
   },
   "cell_type": "code",
   "source": [
    "print(\"Pipeline 2 Metrics:\")\n",
    "print(f\"Mean Intensity: Mean={pipeline2_metrics['mean_intensity']['mean']:.2f}, \"\n",
    "      f\"Std={pipeline2_metrics['mean_intensity']['std']:.2f}, \"\n",
    "      f\"Min={pipeline2_metrics['mean_intensity']['min']:.2f}, \"\n",
    "      f\"Max={pipeline2_metrics['mean_intensity']['max']:.2f}\")\n",
    "\n",
    "print(f\"Dark Pixel Ratio: Mean={pipeline2_metrics['dark_pixel_ratio']['mean']:.2f}, \"\n",
    "      f\"Std={pipeline2_metrics['dark_pixel_ratio']['std']:.2f}, \"\n",
    "      f\"Min={pipeline2_metrics['dark_pixel_ratio']['min']:.2f}, \"\n",
    "      f\"Max={pipeline2_metrics['dark_pixel_ratio']['max']:.2f}\")\n"
   ],
   "id": "7faf573a38611dcd",
   "outputs": [
    {
     "name": "stdout",
     "output_type": "stream",
     "text": [
      "Pipeline 2 Metrics:\n",
      "Mean Intensity: Mean=73.68, Std=9.93, Min=59.82, Max=96.01\n",
      "Dark Pixel Ratio: Mean=0.83, Std=0.03, Min=0.78, Max=0.88\n"
     ]
    }
   ],
   "execution_count": 67
  },
  {
   "metadata": {
    "ExecuteTime": {
     "end_time": "2024-12-24T08:49:50.711408Z",
     "start_time": "2024-12-24T08:49:50.694971Z"
    }
   },
   "cell_type": "code",
   "source": [
    "def calculate_contrast_metrics(image_list):\n",
    "    rms_contrasts = []\n",
    "    michelson_contrasts = []\n",
    "\n",
    "    for filename in image_list:\n",
    "        image_path = f\"{IR_image_directory}/{filename}\"\n",
    "        image = cv2.imread(image_path, cv2.IMREAD_GRAYSCALE)\n",
    "        \n",
    "        # RMS Contrast\n",
    "        mean_intensity = np.mean(image)\n",
    "        rms_contrast = np.sqrt(np.mean((image - mean_intensity) ** 2))\n",
    "        rms_contrasts.append(rms_contrast)\n",
    "        \n",
    "        # Michelson Contrast\n",
    "        I_max = np.max(image)\n",
    "        I_min = np.min(image)\n",
    "        michelson_contrast = (I_max - I_min) / (I_max + I_min) if (I_max + I_min) != 0 else 0\n",
    "        michelson_contrasts.append(michelson_contrast)\n",
    "    \n",
    "    # Calculate summary statistics\n",
    "    metrics = {\n",
    "        'rms_contrast': {\n",
    "            'mean': np.mean(rms_contrasts),\n",
    "            'std': np.std(rms_contrasts),\n",
    "            'min': np.min(rms_contrasts),\n",
    "            'max': np.max(rms_contrasts),\n",
    "            'values': rms_contrasts\n",
    "        },\n",
    "        'michelson_contrast': {\n",
    "            'mean': np.mean(michelson_contrasts),\n",
    "            'std': np.std(michelson_contrasts),\n",
    "            'min': np.min(michelson_contrasts),\n",
    "            'max': np.max(michelson_contrasts),\n",
    "            'values': michelson_contrasts\n",
    "        }\n",
    "    }\n",
    "    return metrics"
   ],
   "id": "ce90b84ca3fd5a",
   "outputs": [],
   "execution_count": 68
  },
  {
   "metadata": {
    "ExecuteTime": {
     "end_time": "2024-12-24T08:49:53.833899Z",
     "start_time": "2024-12-24T08:49:52.341682Z"
    }
   },
   "cell_type": "code",
   "source": [
    "\n",
    "pipeline1_contrast_metrics = calculate_contrast_metrics(first_pipeline_better)\n",
    "pipeline2_contrast_metrics = calculate_contrast_metrics(second_pipeline_better)"
   ],
   "id": "2660d76b5df8603e",
   "outputs": [
    {
     "name": "stderr",
     "output_type": "stream",
     "text": [
      "C:\\Users\\zosia\\AppData\\Local\\Temp\\ipykernel_24204\\4026806316.py:17: RuntimeWarning: overflow encountered in scalar add\n",
      "  michelson_contrast = (I_max - I_min) / (I_max + I_min) if (I_max + I_min) != 0 else 0\n"
     ]
    }
   ],
   "execution_count": 69
  },
  {
   "metadata": {
    "ExecuteTime": {
     "end_time": "2024-12-24T08:49:55.538593Z",
     "start_time": "2024-12-24T08:49:55.506566Z"
    }
   },
   "cell_type": "code",
   "source": [
    "print(\"Pipeline 1 Contrast Metrics:\")\n",
    "print(f\"RMS Contrast: Mean={pipeline1_contrast_metrics['rms_contrast']['mean']:.2f}, \"\n",
    "      f\"Std={pipeline1_contrast_metrics['rms_contrast']['std']:.2f}, \"\n",
    "      f\"Min={pipeline1_contrast_metrics['rms_contrast']['min']:.2f}, \"\n",
    "      f\"Max={pipeline1_contrast_metrics['rms_contrast']['max']:.2f}\")\n",
    "\n",
    "print(f\"Michelson Contrast: Mean={pipeline1_contrast_metrics['michelson_contrast']['mean']:.2f}, \"\n",
    "      f\"Std={pipeline1_contrast_metrics['michelson_contrast']['std']:.2f}, \"\n",
    "      f\"Min={pipeline1_contrast_metrics['michelson_contrast']['min']:.2f}, \"\n",
    "      f\"Max={pipeline1_contrast_metrics['michelson_contrast']['max']:.2f}\")\n"
   ],
   "id": "422f3d9c8bc00015",
   "outputs": [
    {
     "name": "stdout",
     "output_type": "stream",
     "text": [
      "Pipeline 1 Contrast Metrics:\n",
      "RMS Contrast: Mean=53.40, Std=11.77, Min=32.90, Max=74.84\n",
      "Michelson Contrast: Mean=0.68, Std=0.46, Min=0.00, Max=1.00\n"
     ]
    }
   ],
   "execution_count": 70
  },
  {
   "metadata": {
    "ExecuteTime": {
     "end_time": "2024-12-24T08:49:57.943249Z",
     "start_time": "2024-12-24T08:49:57.927626Z"
    }
   },
   "cell_type": "code",
   "source": [
    "print(\"Pipeline 2 Contrast Metrics:\")\n",
    "print(f\"RMS Contrast: Mean={pipeline2_contrast_metrics['rms_contrast']['mean']:.2f}, \"\n",
    "      f\"Std={pipeline2_contrast_metrics['rms_contrast']['std']:.2f}, \"\n",
    "      f\"Min={pipeline2_contrast_metrics['rms_contrast']['min']:.2f}, \"\n",
    "      f\"Max={pipeline2_contrast_metrics['rms_contrast']['max']:.2f}\")\n",
    "\n",
    "print(f\"Michelson Contrast: Mean={pipeline2_contrast_metrics['michelson_contrast']['mean']:.2f}, \"\n",
    "      f\"Std={pipeline2_contrast_metrics['michelson_contrast']['std']:.2f}, \"\n",
    "      f\"Min={pipeline2_contrast_metrics['michelson_contrast']['min']:.2f}, \"\n",
    "      f\"Max={pipeline2_contrast_metrics['michelson_contrast']['max']:.2f}\")\n"
   ],
   "id": "7b2968e8a409b78e",
   "outputs": [
    {
     "name": "stdout",
     "output_type": "stream",
     "text": [
      "Pipeline 2 Contrast Metrics:\n",
      "RMS Contrast: Mean=57.48, Std=7.42, Min=42.59, Max=70.82\n",
      "Michelson Contrast: Mean=11.91, Std=52.61, Min=0.00, Max=253.00\n"
     ]
    }
   ],
   "execution_count": 71
  },
  {
   "metadata": {
    "ExecuteTime": {
     "end_time": "2024-12-24T08:50:23.315567Z",
     "start_time": "2024-12-24T08:50:23.258440Z"
    }
   },
   "cell_type": "code",
   "source": "first_pipeline_better",
   "id": "b1442f733cb21c69",
   "outputs": [
    {
     "data": {
      "text/plain": [
       "['5_IMG20241127100507.jpg',\n",
       " '6_IMG20241127100515.jpg',\n",
       " '7_IMG20241127100610.jpg',\n",
       " '8_IMG20241127100617.jpg',\n",
       " '9_IMG20241127100730.jpg',\n",
       " '10_IMG20241127100740.jpg',\n",
       " '11_IMG20241127100906.jpg',\n",
       " '12_IMG20241127100913.jpg',\n",
       " '13_IMG20241127101012.jpg',\n",
       " '14_IMG20241127101019.jpg',\n",
       " '23_IMG20241127101749.jpg',\n",
       " '24_IMG20241127101754.jpg',\n",
       " '26_IMG20241127101840.jpg',\n",
       " '28_IMG20241127101946.jpg',\n",
       " '30_IMG20241127102058.jpg',\n",
       " '34_IMG20241127102423.jpg',\n",
       " '36_IMG20241127102532.jpg',\n",
       " '37_IMG20241127102538.jpg',\n",
       " '39_IMG20241127102649.jpg',\n",
       " '41_IMG20241127102811.jpg',\n",
       " '43_IMG20241127102901.jpg',\n",
       " '44_IMG20241127103107.jpg',\n",
       " '45_IMG20241127103113.jpg',\n",
       " '47_IMG20241127103130.jpg',\n",
       " '48_IMG20241127103201.jpg',\n",
       " '49_IMG20241127103207.jpg',\n",
       " '50_IMG20241127103243.jpg',\n",
       " '51_IMG20241127103250.jpg',\n",
       " '52_IMG20241127103332.jpg',\n",
       " '53_IMG20241127103337.jpg',\n",
       " '55_IMG20241127103413.jpg',\n",
       " '59_IMG20241127103541.jpg',\n",
       " '63_IMG20241127103645.jpg',\n",
       " '74_IMG20241127104014.jpg',\n",
       " '75_IMG20241127104020.jpg',\n",
       " '75_IMG20241127104020.jpg',\n",
       " '77_IMG20241127104637.jpg',\n",
       " '79_IMG20241127105256.jpg']"
      ]
     },
     "execution_count": 72,
     "metadata": {},
     "output_type": "execute_result"
    }
   ],
   "execution_count": 72
  },
  {
   "metadata": {
    "ExecuteTime": {
     "end_time": "2024-12-24T08:50:38.799566Z",
     "start_time": "2024-12-24T08:50:38.788673Z"
    }
   },
   "cell_type": "code",
   "source": "second_pipeline_better",
   "id": "f8d03a439b4c1f4f",
   "outputs": [
    {
     "data": {
      "text/plain": [
       "['2_IMG20241127100252.jpg',\n",
       " '4_IMG20241127100414.jpg',\n",
       " '25_IMG20241127101835.jpg',\n",
       " '27_IMG20241127101939.jpg',\n",
       " '29_IMG20241127102051.jpg',\n",
       " '33_IMG20241127102317.jpg',\n",
       " '35_IMG20241127102430.jpg',\n",
       " '38_IMG20241127102643.jpg',\n",
       " '40_IMG20241127102805.jpg',\n",
       " '42_IMG20241127102854.jpg',\n",
       " '54_IMG20241127103409.jpg',\n",
       " '56_IMG20241127103449.jpg',\n",
       " '57_IMG20241127103455.jpg',\n",
       " '66_IMG20241127103745.jpg',\n",
       " '68_IMG20241127103819.jpg',\n",
       " '69_IMG20241127103825.jpg',\n",
       " '70_IMG20241127103904.jpg',\n",
       " '71_IMG20241127103908.jpg',\n",
       " '72_IMG20241127103941.jpg',\n",
       " '73_IMG20241127103945.jpg',\n",
       " '78_IMG20241127105250.jpg',\n",
       " '80_IMG20241127105346.jpg']"
      ]
     },
     "execution_count": 73,
     "metadata": {},
     "output_type": "execute_result"
    }
   ],
   "execution_count": 73
  },
  {
   "metadata": {},
   "cell_type": "markdown",
   "source": "## Workiing on Improving the Pipeline based on Undetected Hands  - Creation of Pipeline 2",
   "id": "77118f6a23c611fb"
  },
  {
   "metadata": {
    "ExecuteTime": {
     "end_time": "2024-12-22T16:50:11.476860Z",
     "start_time": "2024-12-22T16:50:11.461559Z"
    }
   },
   "cell_type": "code",
   "source": "not_detected_both",
   "id": "cb421a00ce9bd",
   "outputs": [
    {
     "data": {
      "text/plain": [
       "['42_IMG20241127102854.jpg',\n",
       " '70_IMG20241127103904.jpg',\n",
       " '73_IMG20241127103945.jpg',\n",
       " '75_IMG20241127104020.jpg',\n",
       " '75_IMG20241127104020.jpg',\n",
       " '78_IMG20241127105250.jpg']"
      ]
     },
     "execution_count": 52,
     "metadata": {},
     "output_type": "execute_result"
    }
   ],
   "execution_count": 52
  },
  {
   "metadata": {
    "ExecuteTime": {
     "end_time": "2024-12-22T16:50:11.649212Z",
     "start_time": "2024-12-22T16:50:11.618125Z"
    }
   },
   "cell_type": "code",
   "source": "not_detected_left",
   "id": "4d98faa29f917e75",
   "outputs": [
    {
     "data": {
      "text/plain": [
       "['29_IMG20241127102051.jpg',\n",
       " '30_IMG20241127102058.jpg',\n",
       " '57_IMG20241127103455.jpg',\n",
       " '71_IMG20241127103908.jpg',\n",
       " '74_IMG20241127104014.jpg']"
      ]
     },
     "execution_count": 53,
     "metadata": {},
     "output_type": "execute_result"
    }
   ],
   "execution_count": 53
  },
  {
   "metadata": {
    "ExecuteTime": {
     "end_time": "2024-12-22T16:50:11.815125Z",
     "start_time": "2024-12-22T16:50:11.802786Z"
    }
   },
   "cell_type": "code",
   "source": "not_detected_right",
   "id": "fa82a2fdd97518db",
   "outputs": [
    {
     "data": {
      "text/plain": [
       "['3_IMG20241127100408.jpg',\n",
       " '14_IMG20241127101019.jpg',\n",
       " '38_IMG20241127102643.jpg',\n",
       " '40_IMG20241127102805.jpg',\n",
       " '41_IMG20241127102811.jpg',\n",
       " '79_IMG20241127105256.jpg',\n",
       " '80_IMG20241127105346.jpg']"
      ]
     },
     "execution_count": 54,
     "metadata": {},
     "output_type": "execute_result"
    }
   ],
   "execution_count": 54
  },
  {
   "metadata": {
    "ExecuteTime": {
     "end_time": "2024-12-22T18:05:20.737535Z",
     "start_time": "2024-12-22T18:04:28.746546Z"
    }
   },
   "cell_type": "code",
   "source": [
    "# Combine all categories into one list with category labels\n",
    "not_detected_images = [\n",
    "    (\"both\", not_detected_both),\n",
    "    (\"left\", not_detected_left),\n",
    "    (\"right\", not_detected_right)\n",
    "]\n",
    "\n",
    "accuracies_original_pipeline = {\"Left\": [], \"Right\": []}\n",
    "accuracies_new_pipeline = {\"Left\": [], \"Right\": []}\n",
    "accuracies_combined_when_missing = {\"Left\": [], \"Right\": []}\n",
    "\n",
    "with open(json_file_path, 'r') as f:\n",
    "    ground_truth_data = json.load(f)\n",
    "# Loop through all not-detected categories\n",
    "for category, image_list in not_detected_images:\n",
    "    for image_name in image_list:\n",
    "        # Generate the input path\n",
    "        image_path = f\"{IR_image_directory}/{image_name}\"\n",
    "        ground_truth_landmarks = [entry[\"landmarks\"] for entry in ground_truth_data if entry[\"image\"] == image_name][0]\n",
    "        \n",
    "        # Apply the transformation pipeline\n",
    "        transformed_original_pipeline_path = execute_transformation_pipeline(image_path, image_name)\n",
    "        \n",
    "        transformed_original_score = assess_accuracy(transformed_original_pipeline_path, ground_truth_landmarks)\n",
    "        accuracies_original_pipeline[\"Left\"].extend(transformed_original_score[\"Left\"])\n",
    "        accuracies_original_pipeline[\"Right\"].extend(transformed_original_score[\"Right\"])\n",
    "        \n",
    "        \n",
    "        \n",
    "        transformed_image_path = execute_transformation_pipeline_with_no_visible_fingers(image_path, image_name)\n",
    "        \n",
    "        # Read the transformed image as an RGB image\n",
    "        cv_mat = cv2.imread(transformed_image_path, cv2.IMREAD_COLOR)  # Read directly in color (BGR format)\n",
    "        rgb_frame_data = cv2.cvtColor(cv_mat, cv2.COLOR_BGR2RGB)       # Convert BGR to RGB        \n",
    "        rgb_frame = mp.Image(image_format=mp.ImageFormat.SRGB, data=rgb_frame_data)\n",
    "        \n",
    "        image = mp.Image.create_from_file(transformed_image_path)\n",
    "        \n",
    "        # Perform landmark detection\n",
    "        results = landmark_detector.detect(image)\n",
    "        \n",
    "        if not results.hand_landmarks or len(results.hand_landmarks) == 0:\n",
    "            print(f\"No hands detected for {transformed_image_path}\")\n",
    "            accuracies_new_pipeline[\"Left\"].extend([0.0]*21)\n",
    "            accuracies_new_pipeline[\"Right\"].extend([0.0]*21)\n",
    "        else:\n",
    "            accuracies = calculate_hand_accuracies(\n",
    "            ground_truth_landmarks,\n",
    "            results.hand_landmarks,\n",
    "            results.handedness,\n",
    "            distance_threshold\n",
    "            )\n",
    "            accuracies_new_pipeline[\"Left\"].extend(accuracies[\"Left\"])\n",
    "            accuracies_new_pipeline[\"Right\"].extend(accuracies[\"Right\"])\n",
    "            \n",
    "            # If new pipeline result is missing left or right hand, use the original pipeline result for that hand\n",
    "            if len(results.hand_landmarks) == 1:\n",
    "                print(results.handedness[0][0].category_name)\n",
    "                if results.handedness[0][0].category_name == 'Left':\n",
    "                    accuracies_combined_when_missing[\"Right\"].extend(transformed_original_score[\"Right\"])\n",
    "                    accuracies_combined_when_missing[\"Left\"].extend(accuracies[\"Left\"])\n",
    "                else:\n",
    "                    accuracies_combined_when_missing[\"Left\"].extend(transformed_original_score[\"Left\"])\n",
    "                    accuracies_combined_when_missing[\"Right\"].extend(accuracies[\"Right\"])\n",
    "                    \n",
    "                \n",
    "        \n",
    "        # # Annotate the landmarks on the image\n",
    "        # annotated_image = draw_landmarks_on_image(rgb_frame.numpy_view(), results)\n",
    "        # \n",
    "        # # Save the annotated image with the category as part of the filename\n",
    "        # output_path = f\"../../resources/stylized-pictures/not_detected/annotated/{category}/{image_name}_transformed.png\"\n",
    "        # cv2.imwrite(output_path, annotated_image)\n"
   ],
   "id": "14dee129785204c4",
   "outputs": [
    {
     "name": "stdout",
     "output_type": "stream",
     "text": [
      "Saved colorized image at ../../resources/stylized-pictures/siggraph17/42_IMG20241127102854.jpg_siggraph17.png\n",
      "Right\n",
      "Saved colorized image at ../../resources/stylized-pictures/siggraph17/70_IMG20241127103904.jpg_siggraph17.png\n",
      "Saved colorized image at ../../resources/stylized-pictures/siggraph17/73_IMG20241127103945.jpg_siggraph17.png\n",
      "Right\n",
      "Saved colorized image at ../../resources/stylized-pictures/siggraph17/75_IMG20241127104020.jpg_siggraph17.png\n",
      "No hands detected for ../../resources/stylized-pictures/not_detected/sharpened/75_IMG20241127104020.jpg_sharpened.png\n",
      "Saved colorized image at ../../resources/stylized-pictures/siggraph17/75_IMG20241127104020.jpg_siggraph17.png\n",
      "No hands detected for ../../resources/stylized-pictures/not_detected/sharpened/75_IMG20241127104020.jpg_sharpened.png\n",
      "Saved colorized image at ../../resources/stylized-pictures/siggraph17/78_IMG20241127105250.jpg_siggraph17.png\n",
      "Right\n",
      "Saved colorized image at ../../resources/stylized-pictures/siggraph17/29_IMG20241127102051.jpg_siggraph17.png\n",
      "Saved colorized image at ../../resources/stylized-pictures/siggraph17/30_IMG20241127102058.jpg_siggraph17.png\n",
      "No hands detected for ../../resources/stylized-pictures/not_detected/sharpened/30_IMG20241127102058.jpg_sharpened.png\n",
      "Saved colorized image at ../../resources/stylized-pictures/siggraph17/57_IMG20241127103455.jpg_siggraph17.png\n",
      "Saved colorized image at ../../resources/stylized-pictures/siggraph17/71_IMG20241127103908.jpg_siggraph17.png\n",
      "Saved colorized image at ../../resources/stylized-pictures/siggraph17/74_IMG20241127104014.jpg_siggraph17.png\n",
      "Left\n",
      "Saved colorized image at ../../resources/stylized-pictures/siggraph17/3_IMG20241127100408.jpg_siggraph17.png\n",
      "Left\n",
      "Saved colorized image at ../../resources/stylized-pictures/siggraph17/14_IMG20241127101019.jpg_siggraph17.png\n",
      "No hands detected for ../../resources/stylized-pictures/not_detected/sharpened/14_IMG20241127101019.jpg_sharpened.png\n",
      "Saved colorized image at ../../resources/stylized-pictures/siggraph17/38_IMG20241127102643.jpg_siggraph17.png\n",
      "Right\n",
      "Saved colorized image at ../../resources/stylized-pictures/siggraph17/40_IMG20241127102805.jpg_siggraph17.png\n",
      "Right\n",
      "Saved colorized image at ../../resources/stylized-pictures/siggraph17/41_IMG20241127102811.jpg_siggraph17.png\n",
      "No hands detected for ../../resources/stylized-pictures/not_detected/sharpened/41_IMG20241127102811.jpg_sharpened.png\n",
      "Saved colorized image at ../../resources/stylized-pictures/siggraph17/79_IMG20241127105256.jpg_siggraph17.png\n",
      "No hands detected for ../../resources/stylized-pictures/not_detected/sharpened/79_IMG20241127105256.jpg_sharpened.png\n",
      "Saved colorized image at ../../resources/stylized-pictures/siggraph17/80_IMG20241127105346.jpg_siggraph17.png\n"
     ]
    }
   ],
   "execution_count": 73
  },
  {
   "metadata": {
    "ExecuteTime": {
     "end_time": "2024-12-22T18:05:23.879492Z",
     "start_time": "2024-12-22T18:05:23.863460Z"
    }
   },
   "cell_type": "code",
   "source": [
    "# Calculate the average accuracy for the original pipeline\n",
    "average_accuracy_original_pipeline = calculate_final_accuracy(accuracies_original_pipeline)\n",
    "# Calculate the average accuracy for the new pipeline\n",
    "average_accuracy_new_pipeline = calculate_final_accuracy(accuracies_new_pipeline)\n",
    "average_accuracy_combined_when_missing = calculate_final_accuracy(accuracies_combined_when_missing)\n",
    "\n",
    "print(f\"Average Accuracy (Original Pipeline): {average_accuracy_original_pipeline:.2f}%\")\n",
    "print(f\"Average Accuracy (New Pipeline): {average_accuracy_new_pipeline:.2f}%\")\n",
    "print(f\"Average Accuracy (Combined When Missing): {average_accuracy_combined_when_missing:.2f}%\")"
   ],
   "id": "1ff8b8428271ab62",
   "outputs": [
    {
     "name": "stdout",
     "output_type": "stream",
     "text": [
      "Average Accuracy (Original Pipeline): 21.41%\n",
      "Average Accuracy (New Pipeline): 28.50%\n",
      "Average Accuracy (Combined When Missing): 48.40%\n"
     ]
    }
   ],
   "execution_count": 74
  },
  {
   "metadata": {
    "ExecuteTime": {
     "end_time": "2024-12-22T16:34:11.779232600Z",
     "start_time": "2024-12-19T12:27:09.228783Z"
    }
   },
   "cell_type": "code",
   "source": [
    "# Combine the 3 lists\n",
    "not_detected = not_detected_both + not_detected_left + not_detected_right\n",
    "not_detected"
   ],
   "id": "5ee37d43f2ae92e1",
   "outputs": [
    {
     "data": {
      "text/plain": [
       "['42_IMG20241127102854.jpg',\n",
       " '70_IMG20241127103904.jpg',\n",
       " '73_IMG20241127103945.jpg',\n",
       " '75_IMG20241127104020.jpg',\n",
       " '75_IMG20241127104020.jpg',\n",
       " '78_IMG20241127105250.jpg',\n",
       " '29_IMG20241127102051.jpg',\n",
       " '30_IMG20241127102058.jpg',\n",
       " '57_IMG20241127103455.jpg',\n",
       " '71_IMG20241127103908.jpg',\n",
       " '74_IMG20241127104014.jpg',\n",
       " '3_IMG20241127100408.jpg',\n",
       " '14_IMG20241127101019.jpg',\n",
       " '38_IMG20241127102643.jpg',\n",
       " '40_IMG20241127102805.jpg',\n",
       " '41_IMG20241127102811.jpg',\n",
       " '79_IMG20241127105256.jpg',\n",
       " '80_IMG20241127105346.jpg']"
      ]
     },
     "execution_count": 362,
     "metadata": {},
     "output_type": "execute_result"
    }
   ],
   "execution_count": 362
  },
  {
   "metadata": {},
   "cell_type": "code",
   "outputs": [],
   "execution_count": null,
   "source": "",
   "id": "d74a1ffb8501b1a0"
  },
  {
   "metadata": {},
   "cell_type": "markdown",
   "source": "## Collecting Statistics",
   "id": "647e33d4fa6f9d12"
  },
  {
   "metadata": {
    "ExecuteTime": {
     "end_time": "2024-12-09T14:48:16.344454Z",
     "start_time": "2024-12-09T14:48:16.313203Z"
    }
   },
   "cell_type": "code",
   "source": [
    "def calculate_change_in_number_of_detected_hands(ground_truth_directory, ground_truth_filename, image_directory):\n",
    "    originally_detected_hands = 0\n",
    "    transformed_detected_hands = 0\n",
    "    total_number_of_hands_on_images = 0\n",
    "    \n",
    "    json_file_path = os.path.join(ground_truth_directory, ground_truth_filename)\n",
    "        \n",
    "    with open(json_file_path, 'r') as f:\n",
    "        ground_truth_data = json.load(f)\n",
    "        \n",
    "    for entry in ground_truth_data:\n",
    "        image_name = entry[\"image\"]\n",
    "        image_path = f\"{image_directory}/{image_name}\"\n",
    "        image = mp.Image.create_from_file(image_path)\n",
    "        \n",
    "        total_number_of_hands_on_images += 2\n",
    "        \n",
    "        original_results = landmark_detector.detect(image)\n",
    "        \n",
    "        if not original_results.hand_landmarks or len(original_results.hand_landmarks) == 0:\n",
    "            print(f\"No hands detected for original {image_path}\")\n",
    "        else:\n",
    "            if len(original_results.hand_landmarks) == 1:\n",
    "                originally_detected_hands += 1\n",
    "            else:\n",
    "                originally_detected_hands += 2\n",
    "            \n",
    "        transformed_image_path = execute_transformation_pipeline(image_path, image_name)\n",
    "        transformed_image = mp.Image.create_from_file(transformed_image_path)\n",
    "        \n",
    "        transformed_results = landmark_detector.detect(transformed_image)   \n",
    "        \n",
    "        if not transformed_results.hand_landmarks or len(transformed_results.hand_landmarks) == 0:\n",
    "            print(f\"No hands detected for transformed {transformed_image_path}\")\n",
    "        else:\n",
    "            if len(transformed_results.hand_landmarks) == 1:   \n",
    "                transformed_detected_hands += 1\n",
    "            else:\n",
    "                transformed_detected_hands += 2\n",
    "            \n",
    "    return originally_detected_hands, transformed_detected_hands, total_number_of_hands_on_images"
   ],
   "id": "eab18947c677d173",
   "outputs": [],
   "execution_count": 95
  },
  {
   "metadata": {
    "ExecuteTime": {
     "end_time": "2024-12-09T14:50:17.473123Z",
     "start_time": "2024-12-09T14:48:16.376136Z"
    }
   },
   "cell_type": "code",
   "source": [
    "original_hands_p1, transformed_hands_p1, total_images_p1 = calculate_change_in_number_of_detected_hands(IR_ground_truth_directory, \"landmarks_normalized_1.json\", IR_image_directory)    # Zosia\n",
    "original_hands_p2, transformed_hands_p2, total_images_p2 = calculate_change_in_number_of_detected_hands(IR_ground_truth_directory, \"landmarks_normalized2.json\", IR_image_directory)    # Daan\n",
    "original_hands_p3, transformed_hands_p3, total_images_p3 = calculate_change_in_number_of_detected_hands(IR_ground_truth_directory, \"marek_ir_landmarks_normalized.json\", IR_image_directory)    # Marek\n",
    "total_original_hands = original_hands_p1 + original_hands_p2 + original_hands_p3\n",
    "total_transformed_hands = transformed_hands_p1 + transformed_hands_p2 + transformed_hands_p3\n",
    "total_images = total_images_p1 + total_images_p2 + total_images_p3"
   ],
   "id": "8f8048cf7a9a1830",
   "outputs": [
    {
     "name": "stdout",
     "output_type": "stream",
     "text": [
      "Saved colorized image at ../../resources/stylized-pictures/siggraph17/1.jpg_siggraph17.png\n",
      "No hands detected for original ../../resources/evaluation_dataset/IR_JPG/10.jpg\n",
      "Saved colorized image at ../../resources/stylized-pictures/siggraph17/10.jpg_siggraph17.png\n",
      "No hands detected for original ../../resources/evaluation_dataset/IR_JPG/11.jpg\n",
      "Saved colorized image at ../../resources/stylized-pictures/siggraph17/11.jpg_siggraph17.png\n",
      "No hands detected for original ../../resources/evaluation_dataset/IR_JPG/12.jpg\n",
      "Saved colorized image at ../../resources/stylized-pictures/siggraph17/12.jpg_siggraph17.png\n",
      "No hands detected for original ../../resources/evaluation_dataset/IR_JPG/13.jpg\n",
      "Saved colorized image at ../../resources/stylized-pictures/siggraph17/13.jpg_siggraph17.png\n",
      "No hands detected for original ../../resources/evaluation_dataset/IR_JPG/14.jpg\n",
      "Saved colorized image at ../../resources/stylized-pictures/siggraph17/14.jpg_siggraph17.png\n",
      "Saved colorized image at ../../resources/stylized-pictures/siggraph17/2.jpg_siggraph17.png\n",
      "No hands detected for original ../../resources/evaluation_dataset/IR_JPG/3.jpg\n",
      "Saved colorized image at ../../resources/stylized-pictures/siggraph17/3.jpg_siggraph17.png\n",
      "Saved colorized image at ../../resources/stylized-pictures/siggraph17/4.jpg_siggraph17.png\n",
      "No hands detected for original ../../resources/evaluation_dataset/IR_JPG/5.jpg\n",
      "Saved colorized image at ../../resources/stylized-pictures/siggraph17/5.jpg_siggraph17.png\n",
      "No hands detected for original ../../resources/evaluation_dataset/IR_JPG/6.jpg\n",
      "Saved colorized image at ../../resources/stylized-pictures/siggraph17/6.jpg_siggraph17.png\n",
      "Saved colorized image at ../../resources/stylized-pictures/siggraph17/7.jpg_siggraph17.png\n",
      "Saved colorized image at ../../resources/stylized-pictures/siggraph17/76.jpg_siggraph17.png\n",
      "Saved colorized image at ../../resources/stylized-pictures/siggraph17/77.jpg_siggraph17.png\n",
      "Saved colorized image at ../../resources/stylized-pictures/siggraph17/8.jpg_siggraph17.png\n",
      "Saved colorized image at ../../resources/stylized-pictures/siggraph17/9.jpg_siggraph17.png\n",
      "Saved colorized image at ../../resources/stylized-pictures/siggraph17/15.jpg_siggraph17.png\n",
      "Saved colorized image at ../../resources/stylized-pictures/siggraph17/16.jpg_siggraph17.png\n",
      "Saved colorized image at ../../resources/stylized-pictures/siggraph17/17.jpg_siggraph17.png\n",
      "Saved colorized image at ../../resources/stylized-pictures/siggraph17/18.jpg_siggraph17.png\n",
      "Saved colorized image at ../../resources/stylized-pictures/siggraph17/19.jpg_siggraph17.png\n",
      "Saved colorized image at ../../resources/stylized-pictures/siggraph17/20.jpg_siggraph17.png\n",
      "Saved colorized image at ../../resources/stylized-pictures/siggraph17/21.jpg_siggraph17.png\n",
      "Saved colorized image at ../../resources/stylized-pictures/siggraph17/22.jpg_siggraph17.png\n",
      "Saved colorized image at ../../resources/stylized-pictures/siggraph17/23.jpg_siggraph17.png\n",
      "Saved colorized image at ../../resources/stylized-pictures/siggraph17/24.jpg_siggraph17.png\n",
      "Saved colorized image at ../../resources/stylized-pictures/siggraph17/25.jpg_siggraph17.png\n",
      "Saved colorized image at ../../resources/stylized-pictures/siggraph17/26.jpg_siggraph17.png\n",
      "Saved colorized image at ../../resources/stylized-pictures/siggraph17/27.jpg_siggraph17.png\n",
      "Saved colorized image at ../../resources/stylized-pictures/siggraph17/28.jpg_siggraph17.png\n",
      "No hands detected for original ../../resources/evaluation_dataset/IR_JPG/29.jpg\n",
      "Saved colorized image at ../../resources/stylized-pictures/siggraph17/29.jpg_siggraph17.png\n",
      "Saved colorized image at ../../resources/stylized-pictures/siggraph17/30.jpg_siggraph17.png\n",
      "Saved colorized image at ../../resources/stylized-pictures/siggraph17/44.jpg_siggraph17.png\n",
      "No hands detected for original ../../resources/evaluation_dataset/IR_JPG/45.jpg\n",
      "Saved colorized image at ../../resources/stylized-pictures/siggraph17/45.jpg_siggraph17.png\n",
      "Saved colorized image at ../../resources/stylized-pictures/siggraph17/46.jpg_siggraph17.png\n",
      "Saved colorized image at ../../resources/stylized-pictures/siggraph17/47.jpg_siggraph17.png\n",
      "Saved colorized image at ../../resources/stylized-pictures/siggraph17/48.jpg_siggraph17.png\n",
      "No hands detected for original ../../resources/evaluation_dataset/IR_JPG/49.jpg\n",
      "Saved colorized image at ../../resources/stylized-pictures/siggraph17/49.jpg_siggraph17.png\n",
      "Saved colorized image at ../../resources/stylized-pictures/siggraph17/50.jpg_siggraph17.png\n",
      "Saved colorized image at ../../resources/stylized-pictures/siggraph17/51.jpg_siggraph17.png\n",
      "Saved colorized image at ../../resources/stylized-pictures/siggraph17/52.jpg_siggraph17.png\n",
      "Saved colorized image at ../../resources/stylized-pictures/siggraph17/53.jpg_siggraph17.png\n",
      "Saved colorized image at ../../resources/stylized-pictures/siggraph17/54.jpg_siggraph17.png\n",
      "Saved colorized image at ../../resources/stylized-pictures/siggraph17/55.jpg_siggraph17.png\n",
      "Saved colorized image at ../../resources/stylized-pictures/siggraph17/56.jpg_siggraph17.png\n",
      "No hands detected for original ../../resources/evaluation_dataset/IR_JPG/57.jpg\n",
      "Saved colorized image at ../../resources/stylized-pictures/siggraph17/57.jpg_siggraph17.png\n",
      "Saved colorized image at ../../resources/stylized-pictures/siggraph17/58.jpg_siggraph17.png\n",
      "No hands detected for original ../../resources/evaluation_dataset/IR_JPG/59.jpg\n",
      "Saved colorized image at ../../resources/stylized-pictures/siggraph17/59.jpg_siggraph17.png\n"
     ]
    }
   ],
   "execution_count": 96
  },
  {
   "metadata": {
    "ExecuteTime": {
     "end_time": "2024-12-09T14:50:17.508613Z",
     "start_time": "2024-12-09T14:50:17.492984Z"
    }
   },
   "cell_type": "code",
   "source": [
    "print('Original hands:', original_hands_p1, original_hands_p2, original_hands_p3)\n",
    "print('Transformed hands:', transformed_hands_p1, transformed_hands_p2, transformed_hands_p3)\n",
    "print('Total images:', total_images_p1, total_images_p2, total_images_p3)"
   ],
   "id": "71b6c7a128ad2510",
   "outputs": [
    {
     "name": "stdout",
     "output_type": "stream",
     "text": [
      "Original hands: 13 24 20\n",
      "Transformed hands: 30 30 31\n",
      "Total images: 32 32 32\n"
     ]
    }
   ],
   "execution_count": 97
  },
  {
   "metadata": {
    "ExecuteTime": {
     "end_time": "2024-12-09T14:50:17.555952Z",
     "start_time": "2024-12-09T14:50:17.540296Z"
    }
   },
   "cell_type": "code",
   "source": [
    "print(f\"Total number of detected hands in original images: {total_original_hands}\")\n",
    "print(f\"Total number of detected hands in transformed images: {total_transformed_hands}\")\n",
    "print(f\"Total number of images: {total_images}\")\n"
   ],
   "id": "adcc44bb8d16bfe8",
   "outputs": [
    {
     "name": "stdout",
     "output_type": "stream",
     "text": [
      "Total number of detected hands in original images: 57\n",
      "Total number of detected hands in transformed images: 91\n",
      "Total number of images: 96\n"
     ]
    }
   ],
   "execution_count": 98
  },
  {
   "metadata": {
    "ExecuteTime": {
     "end_time": "2024-12-09T14:50:17.749580Z",
     "start_time": "2024-12-09T14:50:17.602811Z"
    }
   },
   "cell_type": "code",
   "source": [
    "# Plot the change in the number of detected hands total, and then for each participant all on one plot\n",
    "\n",
    "import matplotlib.pyplot as plt\n",
    "\n",
    "participants = [\"Total\", \"Zosia\", \"Daan\", \"Marek\"]\n",
    "original_hands = [total_original_hands, original_hands_p1, original_hands_p2, original_hands_p3]\n",
    "transformed_hands = [total_transformed_hands, transformed_hands_p1, transformed_hands_p2, transformed_hands_p3]\n",
    "total_number_of_images = [total_images, total_images_p1, total_images_p2, total_images_p3]\n",
    "\n",
    "fig, ax = plt.subplots()\n",
    "\n",
    "bar_width = 0.35\n",
    "gap_size = 0.5\n",
    "\n",
    "# Create an index with gaps between participants\n",
    "index = np.arange(len(participants)) * (3 * bar_width + gap_size)\n",
    "\n",
    "bar1 = ax.bar(index, original_hands, bar_width, label='Original')\n",
    "bar2 = ax.bar(index + bar_width, transformed_hands, bar_width, label='Transformed')\n",
    "bar3 = ax.bar(index + 2*bar_width, total_number_of_images, bar_width, label='Total Number of Hands')\n",
    "\n",
    "ax.set_xlabel('Participants')\n",
    "ax.set_ylabel('Number of Detected Hands')\n",
    "ax.set_title('Change in Number of Detected Hands')\n",
    "ax.set_xticks(index + bar_width)\n",
    "ax.set_xticklabels(participants)\n",
    "ax.legend()\n",
    "\n",
    "plt.show()\n",
    "\n",
    "\n"
   ],
   "id": "add5cbc3f9d59da5",
   "outputs": [
    {
     "data": {
      "text/plain": [
       "<Figure size 640x480 with 1 Axes>"
      ],
      "image/png": "[encoded data removed]"
     },
     "metadata": {},
     "output_type": "display_data"
    }
   ],
   "execution_count": 99
  },
  {
   "metadata": {
    "ExecuteTime": {
     "end_time": "2024-12-09T14:50:55.140668Z",
     "start_time": "2024-12-09T14:50:54.845018Z"
    }
   },
   "cell_type": "code",
   "source": [
    "import matplotlib.pyplot as plt\n",
    "\n",
    "# Threshold for significant difference\n",
    "threshold = 0.01\n",
    "\n",
    "# Calculate counts\n",
    "decreased_count = sum(1 for orig, trans in zip(original_avg_distances, transformed_avg_distances) if orig - trans > threshold)\n",
    "increased_count = sum(1 for orig, trans in zip(original_avg_distances, transformed_avg_distances) if trans - orig > threshold)\n",
    "unchanged_count = len(original_avg_distances) - decreased_count - increased_count\n",
    "\n",
    "# Pie chart\n",
    "labels = ['Decreased', 'Increased', 'Unchanged']\n",
    "sizes = [decreased_count, increased_count, unchanged_count]\n",
    "colors = ['#66c2a5', '#fc8d62', '#8da0cb']\n",
    "\n",
    "plt.figure(figsize=(6, 6))\n",
    "plt.pie(sizes, labels=labels, autopct='%1.1f%%', startangle=140, colors=colors)\n",
    "plt.title('Percentage of Images with Decreased, Increased, and Unchanged Distances')\n",
    "plt.show()\n"
   ],
   "id": "c761bb10e7ecd5cb",
   "outputs": [
    {
     "ename": "ValueError",
     "evalue": "cannot convert float NaN to integer",
     "output_type": "error",
     "traceback": [
      "\u001B[1;31m---------------------------------------------------------------------------\u001B[0m",
      "\u001B[1;31mValueError\u001B[0m                                Traceback (most recent call last)",
      "Cell \u001B[1;32mIn[102], line 17\u001B[0m\n\u001B[0;32m     14\u001B[0m colors \u001B[38;5;241m=\u001B[39m [\u001B[38;5;124m'\u001B[39m\u001B[38;5;124m#66c2a5\u001B[39m\u001B[38;5;124m'\u001B[39m, \u001B[38;5;124m'\u001B[39m\u001B[38;5;124m#fc8d62\u001B[39m\u001B[38;5;124m'\u001B[39m, \u001B[38;5;124m'\u001B[39m\u001B[38;5;124m#8da0cb\u001B[39m\u001B[38;5;124m'\u001B[39m]\n\u001B[0;32m     16\u001B[0m plt\u001B[38;5;241m.\u001B[39mfigure(figsize\u001B[38;5;241m=\u001B[39m(\u001B[38;5;241m6\u001B[39m, \u001B[38;5;241m6\u001B[39m))\n\u001B[1;32m---> 17\u001B[0m \u001B[43mplt\u001B[49m\u001B[38;5;241;43m.\u001B[39;49m\u001B[43mpie\u001B[49m\u001B[43m(\u001B[49m\u001B[43msizes\u001B[49m\u001B[43m,\u001B[49m\u001B[43m \u001B[49m\u001B[43mlabels\u001B[49m\u001B[38;5;241;43m=\u001B[39;49m\u001B[43mlabels\u001B[49m\u001B[43m,\u001B[49m\u001B[43m \u001B[49m\u001B[43mautopct\u001B[49m\u001B[38;5;241;43m=\u001B[39;49m\u001B[38;5;124;43m'\u001B[39;49m\u001B[38;5;132;43;01m%1.1f\u001B[39;49;00m\u001B[38;5;132;43;01m%%\u001B[39;49;00m\u001B[38;5;124;43m'\u001B[39;49m\u001B[43m,\u001B[49m\u001B[43m \u001B[49m\u001B[43mstartangle\u001B[49m\u001B[38;5;241;43m=\u001B[39;49m\u001B[38;5;241;43m140\u001B[39;49m\u001B[43m,\u001B[49m\u001B[43m \u001B[49m\u001B[43mcolors\u001B[49m\u001B[38;5;241;43m=\u001B[39;49m\u001B[43mcolors\u001B[49m\u001B[43m)\u001B[49m\n\u001B[0;32m     18\u001B[0m plt\u001B[38;5;241m.\u001B[39mtitle(\u001B[38;5;124m'\u001B[39m\u001B[38;5;124mPercentage of Images with Decreased, Increased, and Unchanged Distances\u001B[39m\u001B[38;5;124m'\u001B[39m)\n\u001B[0;32m     19\u001B[0m plt\u001B[38;5;241m.\u001B[39mshow()\n",
      "File \u001B[1;32m~\\Desktop\\Studies\\Research Project\\implementations-of-techniques\\.venv\\lib\\site-packages\\matplotlib\\pyplot.py:3762\u001B[0m, in \u001B[0;36mpie\u001B[1;34m(x, explode, labels, colors, autopct, pctdistance, shadow, labeldistance, startangle, radius, counterclock, wedgeprops, textprops, center, frame, rotatelabels, normalize, hatch, data)\u001B[0m\n\u001B[0;32m   3739\u001B[0m \u001B[38;5;129m@_copy_docstring_and_deprecators\u001B[39m(Axes\u001B[38;5;241m.\u001B[39mpie)\n\u001B[0;32m   3740\u001B[0m \u001B[38;5;28;01mdef\u001B[39;00m \u001B[38;5;21mpie\u001B[39m(\n\u001B[0;32m   3741\u001B[0m     x: ArrayLike,\n\u001B[1;32m   (...)\u001B[0m\n\u001B[0;32m   3760\u001B[0m     data\u001B[38;5;241m=\u001B[39m\u001B[38;5;28;01mNone\u001B[39;00m,\n\u001B[0;32m   3761\u001B[0m ) \u001B[38;5;241m-\u001B[39m\u001B[38;5;241m>\u001B[39m \u001B[38;5;28mtuple\u001B[39m[\u001B[38;5;28mlist\u001B[39m[Wedge], \u001B[38;5;28mlist\u001B[39m[Text]] \u001B[38;5;241m|\u001B[39m \u001B[38;5;28mtuple\u001B[39m[\u001B[38;5;28mlist\u001B[39m[Wedge], \u001B[38;5;28mlist\u001B[39m[Text], \u001B[38;5;28mlist\u001B[39m[Text]]:\n\u001B[1;32m-> 3762\u001B[0m     \u001B[38;5;28;01mreturn\u001B[39;00m gca()\u001B[38;5;241m.\u001B[39mpie(\n\u001B[0;32m   3763\u001B[0m         x,\n\u001B[0;32m   3764\u001B[0m         explode\u001B[38;5;241m=\u001B[39mexplode,\n\u001B[0;32m   3765\u001B[0m         labels\u001B[38;5;241m=\u001B[39mlabels,\n\u001B[0;32m   3766\u001B[0m         colors\u001B[38;5;241m=\u001B[39mcolors,\n\u001B[0;32m   3767\u001B[0m         autopct\u001B[38;5;241m=\u001B[39mautopct,\n\u001B[0;32m   3768\u001B[0m         pctdistance\u001B[38;5;241m=\u001B[39mpctdistance,\n\u001B[0;32m   3769\u001B[0m         shadow\u001B[38;5;241m=\u001B[39mshadow,\n\u001B[0;32m   3770\u001B[0m         labeldistance\u001B[38;5;241m=\u001B[39mlabeldistance,\n\u001B[0;32m   3771\u001B[0m         startangle\u001B[38;5;241m=\u001B[39mstartangle,\n\u001B[0;32m   3772\u001B[0m         radius\u001B[38;5;241m=\u001B[39mradius,\n\u001B[0;32m   3773\u001B[0m         counterclock\u001B[38;5;241m=\u001B[39mcounterclock,\n\u001B[0;32m   3774\u001B[0m         wedgeprops\u001B[38;5;241m=\u001B[39mwedgeprops,\n\u001B[0;32m   3775\u001B[0m         textprops\u001B[38;5;241m=\u001B[39mtextprops,\n\u001B[0;32m   3776\u001B[0m         center\u001B[38;5;241m=\u001B[39mcenter,\n\u001B[0;32m   3777\u001B[0m         frame\u001B[38;5;241m=\u001B[39mframe,\n\u001B[0;32m   3778\u001B[0m         rotatelabels\u001B[38;5;241m=\u001B[39mrotatelabels,\n\u001B[0;32m   3779\u001B[0m         normalize\u001B[38;5;241m=\u001B[39mnormalize,\n\u001B[0;32m   3780\u001B[0m         hatch\u001B[38;5;241m=\u001B[39mhatch,\n\u001B[0;32m   3781\u001B[0m         \u001B[38;5;241m*\u001B[39m\u001B[38;5;241m*\u001B[39m({\u001B[38;5;124m\"\u001B[39m\u001B[38;5;124mdata\u001B[39m\u001B[38;5;124m\"\u001B[39m: data} \u001B[38;5;28;01mif\u001B[39;00m data \u001B[38;5;129;01mis\u001B[39;00m \u001B[38;5;129;01mnot\u001B[39;00m \u001B[38;5;28;01mNone\u001B[39;00m \u001B[38;5;28;01melse\u001B[39;00m {}),\n\u001B[0;32m   3782\u001B[0m     )\n",
      "File \u001B[1;32m~\\Desktop\\Studies\\Research Project\\implementations-of-techniques\\.venv\\lib\\site-packages\\matplotlib\\__init__.py:1473\u001B[0m, in \u001B[0;36m_preprocess_data.<locals>.inner\u001B[1;34m(ax, data, *args, **kwargs)\u001B[0m\n\u001B[0;32m   1470\u001B[0m \u001B[38;5;129m@functools\u001B[39m\u001B[38;5;241m.\u001B[39mwraps(func)\n\u001B[0;32m   1471\u001B[0m \u001B[38;5;28;01mdef\u001B[39;00m \u001B[38;5;21minner\u001B[39m(ax, \u001B[38;5;241m*\u001B[39margs, data\u001B[38;5;241m=\u001B[39m\u001B[38;5;28;01mNone\u001B[39;00m, \u001B[38;5;241m*\u001B[39m\u001B[38;5;241m*\u001B[39mkwargs):\n\u001B[0;32m   1472\u001B[0m     \u001B[38;5;28;01mif\u001B[39;00m data \u001B[38;5;129;01mis\u001B[39;00m \u001B[38;5;28;01mNone\u001B[39;00m:\n\u001B[1;32m-> 1473\u001B[0m         \u001B[38;5;28;01mreturn\u001B[39;00m func(\n\u001B[0;32m   1474\u001B[0m             ax,\n\u001B[0;32m   1475\u001B[0m             \u001B[38;5;241m*\u001B[39m\u001B[38;5;28mmap\u001B[39m(sanitize_sequence, args),\n\u001B[0;32m   1476\u001B[0m             \u001B[38;5;241m*\u001B[39m\u001B[38;5;241m*\u001B[39m{k: sanitize_sequence(v) \u001B[38;5;28;01mfor\u001B[39;00m k, v \u001B[38;5;129;01min\u001B[39;00m kwargs\u001B[38;5;241m.\u001B[39mitems()})\n\u001B[0;32m   1478\u001B[0m     bound \u001B[38;5;241m=\u001B[39m new_sig\u001B[38;5;241m.\u001B[39mbind(ax, \u001B[38;5;241m*\u001B[39margs, \u001B[38;5;241m*\u001B[39m\u001B[38;5;241m*\u001B[39mkwargs)\n\u001B[0;32m   1479\u001B[0m     auto_label \u001B[38;5;241m=\u001B[39m (bound\u001B[38;5;241m.\u001B[39marguments\u001B[38;5;241m.\u001B[39mget(label_namer)\n\u001B[0;32m   1480\u001B[0m                   \u001B[38;5;129;01mor\u001B[39;00m bound\u001B[38;5;241m.\u001B[39mkwargs\u001B[38;5;241m.\u001B[39mget(label_namer))\n",
      "File \u001B[1;32m~\\Desktop\\Studies\\Research Project\\implementations-of-techniques\\.venv\\lib\\site-packages\\matplotlib\\axes\\_axes.py:3334\u001B[0m, in \u001B[0;36mAxes.pie\u001B[1;34m(self, x, explode, labels, colors, autopct, pctdistance, shadow, labeldistance, startangle, radius, counterclock, wedgeprops, textprops, center, frame, rotatelabels, normalize, hatch)\u001B[0m\n\u001B[0;32m   3331\u001B[0m x \u001B[38;5;241m+\u001B[39m\u001B[38;5;241m=\u001B[39m expl \u001B[38;5;241m*\u001B[39m math\u001B[38;5;241m.\u001B[39mcos(thetam)\n\u001B[0;32m   3332\u001B[0m y \u001B[38;5;241m+\u001B[39m\u001B[38;5;241m=\u001B[39m expl \u001B[38;5;241m*\u001B[39m math\u001B[38;5;241m.\u001B[39msin(thetam)\n\u001B[1;32m-> 3334\u001B[0m w \u001B[38;5;241m=\u001B[39m \u001B[43mmpatches\u001B[49m\u001B[38;5;241;43m.\u001B[39;49m\u001B[43mWedge\u001B[49m\u001B[43m(\u001B[49m\u001B[43m(\u001B[49m\u001B[43mx\u001B[49m\u001B[43m,\u001B[49m\u001B[43m \u001B[49m\u001B[43my\u001B[49m\u001B[43m)\u001B[49m\u001B[43m,\u001B[49m\u001B[43m \u001B[49m\u001B[43mradius\u001B[49m\u001B[43m,\u001B[49m\u001B[43m \u001B[49m\u001B[38;5;241;43m360.\u001B[39;49m\u001B[43m \u001B[49m\u001B[38;5;241;43m*\u001B[39;49m\u001B[43m \u001B[49m\u001B[38;5;28;43mmin\u001B[39;49m\u001B[43m(\u001B[49m\u001B[43mtheta1\u001B[49m\u001B[43m,\u001B[49m\u001B[43m \u001B[49m\u001B[43mtheta2\u001B[49m\u001B[43m)\u001B[49m\u001B[43m,\u001B[49m\n\u001B[0;32m   3335\u001B[0m \u001B[43m                   \u001B[49m\u001B[38;5;241;43m360.\u001B[39;49m\u001B[43m \u001B[49m\u001B[38;5;241;43m*\u001B[39;49m\u001B[43m \u001B[49m\u001B[38;5;28;43mmax\u001B[39;49m\u001B[43m(\u001B[49m\u001B[43mtheta1\u001B[49m\u001B[43m,\u001B[49m\u001B[43m \u001B[49m\u001B[43mtheta2\u001B[49m\u001B[43m)\u001B[49m\u001B[43m,\u001B[49m\n\u001B[0;32m   3336\u001B[0m \u001B[43m                   \u001B[49m\u001B[43mfacecolor\u001B[49m\u001B[38;5;241;43m=\u001B[39;49m\u001B[43mget_next_color\u001B[49m\u001B[43m(\u001B[49m\u001B[43m)\u001B[49m\u001B[43m,\u001B[49m\n\u001B[0;32m   3337\u001B[0m \u001B[43m                   \u001B[49m\u001B[43mhatch\u001B[49m\u001B[38;5;241;43m=\u001B[39;49m\u001B[38;5;28;43mnext\u001B[39;49m\u001B[43m(\u001B[49m\u001B[43mhatch_cycle\u001B[49m\u001B[43m)\u001B[49m\u001B[43m,\u001B[49m\n\u001B[0;32m   3338\u001B[0m \u001B[43m                   \u001B[49m\u001B[43mclip_on\u001B[49m\u001B[38;5;241;43m=\u001B[39;49m\u001B[38;5;28;43;01mFalse\u001B[39;49;00m\u001B[43m,\u001B[49m\n\u001B[0;32m   3339\u001B[0m \u001B[43m                   \u001B[49m\u001B[43mlabel\u001B[49m\u001B[38;5;241;43m=\u001B[39;49m\u001B[43mlabel\u001B[49m\u001B[43m)\u001B[49m\n\u001B[0;32m   3340\u001B[0m w\u001B[38;5;241m.\u001B[39mset(\u001B[38;5;241m*\u001B[39m\u001B[38;5;241m*\u001B[39mwedgeprops)\n\u001B[0;32m   3341\u001B[0m slices\u001B[38;5;241m.\u001B[39mappend(w)\n",
      "File \u001B[1;32m~\\Desktop\\Studies\\Research Project\\implementations-of-techniques\\.venv\\lib\\site-packages\\matplotlib\\patches.py:1242\u001B[0m, in \u001B[0;36mWedge.__init__\u001B[1;34m(self, center, r, theta1, theta2, width, **kwargs)\u001B[0m\n\u001B[0;32m   1240\u001B[0m \u001B[38;5;28mself\u001B[39m\u001B[38;5;241m.\u001B[39mtheta1, \u001B[38;5;28mself\u001B[39m\u001B[38;5;241m.\u001B[39mtheta2 \u001B[38;5;241m=\u001B[39m theta1, theta2\n\u001B[0;32m   1241\u001B[0m \u001B[38;5;28mself\u001B[39m\u001B[38;5;241m.\u001B[39m_patch_transform \u001B[38;5;241m=\u001B[39m transforms\u001B[38;5;241m.\u001B[39mIdentityTransform()\n\u001B[1;32m-> 1242\u001B[0m \u001B[38;5;28;43mself\u001B[39;49m\u001B[38;5;241;43m.\u001B[39;49m\u001B[43m_recompute_path\u001B[49m\u001B[43m(\u001B[49m\u001B[43m)\u001B[49m\n",
      "File \u001B[1;32m~\\Desktop\\Studies\\Research Project\\implementations-of-techniques\\.venv\\lib\\site-packages\\matplotlib\\patches.py:1254\u001B[0m, in \u001B[0;36mWedge._recompute_path\u001B[1;34m(self)\u001B[0m\n\u001B[0;32m   1251\u001B[0m     connector \u001B[38;5;241m=\u001B[39m Path\u001B[38;5;241m.\u001B[39mLINETO\n\u001B[0;32m   1253\u001B[0m \u001B[38;5;66;03m# Form the outer ring\u001B[39;00m\n\u001B[1;32m-> 1254\u001B[0m arc \u001B[38;5;241m=\u001B[39m \u001B[43mPath\u001B[49m\u001B[38;5;241;43m.\u001B[39;49m\u001B[43marc\u001B[49m\u001B[43m(\u001B[49m\u001B[43mtheta1\u001B[49m\u001B[43m,\u001B[49m\u001B[43m \u001B[49m\u001B[43mtheta2\u001B[49m\u001B[43m)\u001B[49m\n\u001B[0;32m   1256\u001B[0m \u001B[38;5;28;01mif\u001B[39;00m \u001B[38;5;28mself\u001B[39m\u001B[38;5;241m.\u001B[39mwidth \u001B[38;5;129;01mis\u001B[39;00m \u001B[38;5;129;01mnot\u001B[39;00m \u001B[38;5;28;01mNone\u001B[39;00m:\n\u001B[0;32m   1257\u001B[0m     \u001B[38;5;66;03m# Partial annulus needs to draw the outer ring\u001B[39;00m\n\u001B[0;32m   1258\u001B[0m     \u001B[38;5;66;03m# followed by a reversed and scaled inner ring\u001B[39;00m\n\u001B[0;32m   1259\u001B[0m     v1 \u001B[38;5;241m=\u001B[39m arc\u001B[38;5;241m.\u001B[39mvertices\n",
      "File \u001B[1;32m~\\Desktop\\Studies\\Research Project\\implementations-of-techniques\\.venv\\lib\\site-packages\\matplotlib\\path.py:961\u001B[0m, in \u001B[0;36mPath.arc\u001B[1;34m(cls, theta1, theta2, n, is_wedge)\u001B[0m\n\u001B[0;32m    959\u001B[0m \u001B[38;5;66;03m# number of curve segments to make\u001B[39;00m\n\u001B[0;32m    960\u001B[0m \u001B[38;5;28;01mif\u001B[39;00m n \u001B[38;5;129;01mis\u001B[39;00m \u001B[38;5;28;01mNone\u001B[39;00m:\n\u001B[1;32m--> 961\u001B[0m     n \u001B[38;5;241m=\u001B[39m \u001B[38;5;28;43mint\u001B[39;49m\u001B[43m(\u001B[49m\u001B[38;5;241;43m2\u001B[39;49m\u001B[43m \u001B[49m\u001B[38;5;241;43m*\u001B[39;49m\u001B[38;5;241;43m*\u001B[39;49m\u001B[43m \u001B[49m\u001B[43mnp\u001B[49m\u001B[38;5;241;43m.\u001B[39;49m\u001B[43mceil\u001B[49m\u001B[43m(\u001B[49m\u001B[43m(\u001B[49m\u001B[43meta2\u001B[49m\u001B[43m \u001B[49m\u001B[38;5;241;43m-\u001B[39;49m\u001B[43m \u001B[49m\u001B[43meta1\u001B[49m\u001B[43m)\u001B[49m\u001B[43m \u001B[49m\u001B[38;5;241;43m/\u001B[39;49m\u001B[43m \u001B[49m\u001B[43mhalfpi\u001B[49m\u001B[43m)\u001B[49m\u001B[43m)\u001B[49m\n\u001B[0;32m    962\u001B[0m \u001B[38;5;28;01mif\u001B[39;00m n \u001B[38;5;241m<\u001B[39m \u001B[38;5;241m1\u001B[39m:\n\u001B[0;32m    963\u001B[0m     \u001B[38;5;28;01mraise\u001B[39;00m \u001B[38;5;167;01mValueError\u001B[39;00m(\u001B[38;5;124m\"\u001B[39m\u001B[38;5;124mn must be >= 1 or None\u001B[39m\u001B[38;5;124m\"\u001B[39m)\n",
      "\u001B[1;31mValueError\u001B[0m: cannot convert float NaN to integer"
     ]
    },
    {
     "name": "stderr",
     "output_type": "stream",
     "text": [
      "posx and posy should be finite values\n",
      "posx and posy should be finite values\n",
      "posx and posy should be finite values\n",
      "posx and posy should be finite values\n"
     ]
    },
    {
     "ename": "ValueError",
     "evalue": "need at least one array to concatenate",
     "output_type": "error",
     "traceback": [
      "\u001B[1;31m---------------------------------------------------------------------------\u001B[0m",
      "\u001B[1;31mValueError\u001B[0m                                Traceback (most recent call last)",
      "File \u001B[1;32m~\\Desktop\\Studies\\Research Project\\implementations-of-techniques\\.venv\\lib\\site-packages\\IPython\\core\\formatters.py:343\u001B[0m, in \u001B[0;36mBaseFormatter.__call__\u001B[1;34m(self, obj)\u001B[0m\n\u001B[0;32m    341\u001B[0m     \u001B[38;5;28;01mpass\u001B[39;00m\n\u001B[0;32m    342\u001B[0m \u001B[38;5;28;01melse\u001B[39;00m:\n\u001B[1;32m--> 343\u001B[0m     \u001B[38;5;28;01mreturn\u001B[39;00m \u001B[43mprinter\u001B[49m\u001B[43m(\u001B[49m\u001B[43mobj\u001B[49m\u001B[43m)\u001B[49m\n\u001B[0;32m    344\u001B[0m \u001B[38;5;66;03m# Finally look for special method names\u001B[39;00m\n\u001B[0;32m    345\u001B[0m method \u001B[38;5;241m=\u001B[39m get_real_method(obj, \u001B[38;5;28mself\u001B[39m\u001B[38;5;241m.\u001B[39mprint_method)\n",
      "File \u001B[1;32m~\\Desktop\\Studies\\Research Project\\implementations-of-techniques\\.venv\\lib\\site-packages\\IPython\\core\\pylabtools.py:170\u001B[0m, in \u001B[0;36mprint_figure\u001B[1;34m(fig, fmt, bbox_inches, base64, **kwargs)\u001B[0m\n\u001B[0;32m    167\u001B[0m     \u001B[38;5;28;01mfrom\u001B[39;00m \u001B[38;5;21;01mmatplotlib\u001B[39;00m\u001B[38;5;21;01m.\u001B[39;00m\u001B[38;5;21;01mbackend_bases\u001B[39;00m \u001B[38;5;28;01mimport\u001B[39;00m FigureCanvasBase\n\u001B[0;32m    168\u001B[0m     FigureCanvasBase(fig)\n\u001B[1;32m--> 170\u001B[0m fig\u001B[38;5;241m.\u001B[39mcanvas\u001B[38;5;241m.\u001B[39mprint_figure(bytes_io, \u001B[38;5;241m*\u001B[39m\u001B[38;5;241m*\u001B[39mkw)\n\u001B[0;32m    171\u001B[0m data \u001B[38;5;241m=\u001B[39m bytes_io\u001B[38;5;241m.\u001B[39mgetvalue()\n\u001B[0;32m    172\u001B[0m \u001B[38;5;28;01mif\u001B[39;00m fmt \u001B[38;5;241m==\u001B[39m \u001B[38;5;124m'\u001B[39m\u001B[38;5;124msvg\u001B[39m\u001B[38;5;124m'\u001B[39m:\n",
      "File \u001B[1;32m~\\Desktop\\Studies\\Research Project\\implementations-of-techniques\\.venv\\lib\\site-packages\\matplotlib\\backend_bases.py:2178\u001B[0m, in \u001B[0;36mFigureCanvasBase.print_figure\u001B[1;34m(self, filename, dpi, facecolor, edgecolor, orientation, format, bbox_inches, pad_inches, bbox_extra_artists, backend, **kwargs)\u001B[0m\n\u001B[0;32m   2176\u001B[0m \u001B[38;5;28;01mif\u001B[39;00m bbox_inches:\n\u001B[0;32m   2177\u001B[0m     \u001B[38;5;28;01mif\u001B[39;00m bbox_inches \u001B[38;5;241m==\u001B[39m \u001B[38;5;124m\"\u001B[39m\u001B[38;5;124mtight\u001B[39m\u001B[38;5;124m\"\u001B[39m:\n\u001B[1;32m-> 2178\u001B[0m         bbox_inches \u001B[38;5;241m=\u001B[39m \u001B[38;5;28;43mself\u001B[39;49m\u001B[38;5;241;43m.\u001B[39;49m\u001B[43mfigure\u001B[49m\u001B[38;5;241;43m.\u001B[39;49m\u001B[43mget_tightbbox\u001B[49m\u001B[43m(\u001B[49m\n\u001B[0;32m   2179\u001B[0m \u001B[43m            \u001B[49m\u001B[43mrenderer\u001B[49m\u001B[43m,\u001B[49m\u001B[43m \u001B[49m\u001B[43mbbox_extra_artists\u001B[49m\u001B[38;5;241;43m=\u001B[39;49m\u001B[43mbbox_extra_artists\u001B[49m\u001B[43m)\u001B[49m\n\u001B[0;32m   2180\u001B[0m         \u001B[38;5;28;01mif\u001B[39;00m (\u001B[38;5;28misinstance\u001B[39m(layout_engine, ConstrainedLayoutEngine) \u001B[38;5;129;01mand\u001B[39;00m\n\u001B[0;32m   2181\u001B[0m                 pad_inches \u001B[38;5;241m==\u001B[39m \u001B[38;5;124m\"\u001B[39m\u001B[38;5;124mlayout\u001B[39m\u001B[38;5;124m\"\u001B[39m):\n\u001B[0;32m   2182\u001B[0m             h_pad \u001B[38;5;241m=\u001B[39m layout_engine\u001B[38;5;241m.\u001B[39mget()[\u001B[38;5;124m\"\u001B[39m\u001B[38;5;124mh_pad\u001B[39m\u001B[38;5;124m\"\u001B[39m]\n",
      "File \u001B[1;32m~\\Desktop\\Studies\\Research Project\\implementations-of-techniques\\.venv\\lib\\site-packages\\matplotlib\\_api\\deprecation.py:457\u001B[0m, in \u001B[0;36mmake_keyword_only.<locals>.wrapper\u001B[1;34m(*args, **kwargs)\u001B[0m\n\u001B[0;32m    451\u001B[0m \u001B[38;5;28;01mif\u001B[39;00m \u001B[38;5;28mlen\u001B[39m(args) \u001B[38;5;241m>\u001B[39m name_idx:\n\u001B[0;32m    452\u001B[0m     warn_deprecated(\n\u001B[0;32m    453\u001B[0m         since, message\u001B[38;5;241m=\u001B[39m\u001B[38;5;124m\"\u001B[39m\u001B[38;5;124mPassing the \u001B[39m\u001B[38;5;132;01m%(name)s\u001B[39;00m\u001B[38;5;124m \u001B[39m\u001B[38;5;132;01m%(obj_type)s\u001B[39;00m\u001B[38;5;124m \u001B[39m\u001B[38;5;124m\"\u001B[39m\n\u001B[0;32m    454\u001B[0m         \u001B[38;5;124m\"\u001B[39m\u001B[38;5;124mpositionally is deprecated since Matplotlib \u001B[39m\u001B[38;5;132;01m%(since)s\u001B[39;00m\u001B[38;5;124m; the \u001B[39m\u001B[38;5;124m\"\u001B[39m\n\u001B[0;32m    455\u001B[0m         \u001B[38;5;124m\"\u001B[39m\u001B[38;5;124mparameter will become keyword-only \u001B[39m\u001B[38;5;132;01m%(removal)s\u001B[39;00m\u001B[38;5;124m.\u001B[39m\u001B[38;5;124m\"\u001B[39m,\n\u001B[0;32m    456\u001B[0m         name\u001B[38;5;241m=\u001B[39mname, obj_type\u001B[38;5;241m=\u001B[39m\u001B[38;5;124mf\u001B[39m\u001B[38;5;124m\"\u001B[39m\u001B[38;5;124mparameter of \u001B[39m\u001B[38;5;132;01m{\u001B[39;00mfunc\u001B[38;5;241m.\u001B[39m\u001B[38;5;18m__name__\u001B[39m\u001B[38;5;132;01m}\u001B[39;00m\u001B[38;5;124m()\u001B[39m\u001B[38;5;124m\"\u001B[39m)\n\u001B[1;32m--> 457\u001B[0m \u001B[38;5;28;01mreturn\u001B[39;00m func(\u001B[38;5;241m*\u001B[39margs, \u001B[38;5;241m*\u001B[39m\u001B[38;5;241m*\u001B[39mkwargs)\n",
      "File \u001B[1;32m~\\Desktop\\Studies\\Research Project\\implementations-of-techniques\\.venv\\lib\\site-packages\\matplotlib\\figure.py:1787\u001B[0m, in \u001B[0;36mFigureBase.get_tightbbox\u001B[1;34m(self, renderer, bbox_extra_artists)\u001B[0m\n\u001B[0;32m   1783\u001B[0m \u001B[38;5;28;01mif\u001B[39;00m ax\u001B[38;5;241m.\u001B[39mget_visible():\n\u001B[0;32m   1784\u001B[0m     \u001B[38;5;66;03m# some Axes don't take the bbox_extra_artists kwarg so we\u001B[39;00m\n\u001B[0;32m   1785\u001B[0m     \u001B[38;5;66;03m# need this conditional....\u001B[39;00m\n\u001B[0;32m   1786\u001B[0m     \u001B[38;5;28;01mtry\u001B[39;00m:\n\u001B[1;32m-> 1787\u001B[0m         bbox \u001B[38;5;241m=\u001B[39m \u001B[43max\u001B[49m\u001B[38;5;241;43m.\u001B[39;49m\u001B[43mget_tightbbox\u001B[49m\u001B[43m(\u001B[49m\n\u001B[0;32m   1788\u001B[0m \u001B[43m            \u001B[49m\u001B[43mrenderer\u001B[49m\u001B[43m,\u001B[49m\u001B[43m \u001B[49m\u001B[43mbbox_extra_artists\u001B[49m\u001B[38;5;241;43m=\u001B[39;49m\u001B[43mbbox_extra_artists\u001B[49m\u001B[43m)\u001B[49m\n\u001B[0;32m   1789\u001B[0m     \u001B[38;5;28;01mexcept\u001B[39;00m \u001B[38;5;167;01mTypeError\u001B[39;00m:\n\u001B[0;32m   1790\u001B[0m         bbox \u001B[38;5;241m=\u001B[39m ax\u001B[38;5;241m.\u001B[39mget_tightbbox(renderer)\n",
      "File \u001B[1;32m~\\Desktop\\Studies\\Research Project\\implementations-of-techniques\\.venv\\lib\\site-packages\\matplotlib\\_api\\deprecation.py:457\u001B[0m, in \u001B[0;36mmake_keyword_only.<locals>.wrapper\u001B[1;34m(*args, **kwargs)\u001B[0m\n\u001B[0;32m    451\u001B[0m \u001B[38;5;28;01mif\u001B[39;00m \u001B[38;5;28mlen\u001B[39m(args) \u001B[38;5;241m>\u001B[39m name_idx:\n\u001B[0;32m    452\u001B[0m     warn_deprecated(\n\u001B[0;32m    453\u001B[0m         since, message\u001B[38;5;241m=\u001B[39m\u001B[38;5;124m\"\u001B[39m\u001B[38;5;124mPassing the \u001B[39m\u001B[38;5;132;01m%(name)s\u001B[39;00m\u001B[38;5;124m \u001B[39m\u001B[38;5;132;01m%(obj_type)s\u001B[39;00m\u001B[38;5;124m \u001B[39m\u001B[38;5;124m\"\u001B[39m\n\u001B[0;32m    454\u001B[0m         \u001B[38;5;124m\"\u001B[39m\u001B[38;5;124mpositionally is deprecated since Matplotlib \u001B[39m\u001B[38;5;132;01m%(since)s\u001B[39;00m\u001B[38;5;124m; the \u001B[39m\u001B[38;5;124m\"\u001B[39m\n\u001B[0;32m    455\u001B[0m         \u001B[38;5;124m\"\u001B[39m\u001B[38;5;124mparameter will become keyword-only \u001B[39m\u001B[38;5;132;01m%(removal)s\u001B[39;00m\u001B[38;5;124m.\u001B[39m\u001B[38;5;124m\"\u001B[39m,\n\u001B[0;32m    456\u001B[0m         name\u001B[38;5;241m=\u001B[39mname, obj_type\u001B[38;5;241m=\u001B[39m\u001B[38;5;124mf\u001B[39m\u001B[38;5;124m\"\u001B[39m\u001B[38;5;124mparameter of \u001B[39m\u001B[38;5;132;01m{\u001B[39;00mfunc\u001B[38;5;241m.\u001B[39m\u001B[38;5;18m__name__\u001B[39m\u001B[38;5;132;01m}\u001B[39;00m\u001B[38;5;124m()\u001B[39m\u001B[38;5;124m\"\u001B[39m)\n\u001B[1;32m--> 457\u001B[0m \u001B[38;5;28;01mreturn\u001B[39;00m func(\u001B[38;5;241m*\u001B[39margs, \u001B[38;5;241m*\u001B[39m\u001B[38;5;241m*\u001B[39mkwargs)\n",
      "File \u001B[1;32m~\\Desktop\\Studies\\Research Project\\implementations-of-techniques\\.venv\\lib\\site-packages\\matplotlib\\axes\\_base.py:4499\u001B[0m, in \u001B[0;36m_AxesBase.get_tightbbox\u001B[1;34m(self, renderer, call_axes_locator, bbox_extra_artists, for_layout_only)\u001B[0m\n\u001B[0;32m   4496\u001B[0m     bbox_artists \u001B[38;5;241m=\u001B[39m \u001B[38;5;28mself\u001B[39m\u001B[38;5;241m.\u001B[39mget_default_bbox_extra_artists()\n\u001B[0;32m   4498\u001B[0m \u001B[38;5;28;01mfor\u001B[39;00m a \u001B[38;5;129;01min\u001B[39;00m bbox_artists:\n\u001B[1;32m-> 4499\u001B[0m     bbox \u001B[38;5;241m=\u001B[39m \u001B[43ma\u001B[49m\u001B[38;5;241;43m.\u001B[39;49m\u001B[43mget_tightbbox\u001B[49m\u001B[43m(\u001B[49m\u001B[43mrenderer\u001B[49m\u001B[43m)\u001B[49m\n\u001B[0;32m   4500\u001B[0m     \u001B[38;5;28;01mif\u001B[39;00m (bbox \u001B[38;5;129;01mis\u001B[39;00m \u001B[38;5;129;01mnot\u001B[39;00m \u001B[38;5;28;01mNone\u001B[39;00m\n\u001B[0;32m   4501\u001B[0m             \u001B[38;5;129;01mand\u001B[39;00m \u001B[38;5;241m0\u001B[39m \u001B[38;5;241m<\u001B[39m bbox\u001B[38;5;241m.\u001B[39mwidth \u001B[38;5;241m<\u001B[39m np\u001B[38;5;241m.\u001B[39minf\n\u001B[0;32m   4502\u001B[0m             \u001B[38;5;129;01mand\u001B[39;00m \u001B[38;5;241m0\u001B[39m \u001B[38;5;241m<\u001B[39m bbox\u001B[38;5;241m.\u001B[39mheight \u001B[38;5;241m<\u001B[39m np\u001B[38;5;241m.\u001B[39minf):\n\u001B[0;32m   4503\u001B[0m         bb\u001B[38;5;241m.\u001B[39mappend(bbox)\n",
      "File \u001B[1;32m~\\Desktop\\Studies\\Research Project\\implementations-of-techniques\\.venv\\lib\\site-packages\\matplotlib\\artist.py:365\u001B[0m, in \u001B[0;36mArtist.get_tightbbox\u001B[1;34m(self, renderer)\u001B[0m\n\u001B[0;32m    349\u001B[0m \u001B[38;5;28;01mdef\u001B[39;00m \u001B[38;5;21mget_tightbbox\u001B[39m(\u001B[38;5;28mself\u001B[39m, renderer\u001B[38;5;241m=\u001B[39m\u001B[38;5;28;01mNone\u001B[39;00m):\n\u001B[0;32m    350\u001B[0m \u001B[38;5;250m    \u001B[39m\u001B[38;5;124;03m\"\"\"\u001B[39;00m\n\u001B[0;32m    351\u001B[0m \u001B[38;5;124;03m    Like `.Artist.get_window_extent`, but includes any clipping.\u001B[39;00m\n\u001B[0;32m    352\u001B[0m \n\u001B[1;32m   (...)\u001B[0m\n\u001B[0;32m    363\u001B[0m \u001B[38;5;124;03m        Returns None if clipping results in no intersection.\u001B[39;00m\n\u001B[0;32m    364\u001B[0m \u001B[38;5;124;03m    \"\"\"\u001B[39;00m\n\u001B[1;32m--> 365\u001B[0m     bbox \u001B[38;5;241m=\u001B[39m \u001B[38;5;28;43mself\u001B[39;49m\u001B[38;5;241;43m.\u001B[39;49m\u001B[43mget_window_extent\u001B[49m\u001B[43m(\u001B[49m\u001B[43mrenderer\u001B[49m\u001B[43m)\u001B[49m\n\u001B[0;32m    366\u001B[0m     \u001B[38;5;28;01mif\u001B[39;00m \u001B[38;5;28mself\u001B[39m\u001B[38;5;241m.\u001B[39mget_clip_on():\n\u001B[0;32m    367\u001B[0m         clip_box \u001B[38;5;241m=\u001B[39m \u001B[38;5;28mself\u001B[39m\u001B[38;5;241m.\u001B[39mget_clip_box()\n",
      "File \u001B[1;32m~\\Desktop\\Studies\\Research Project\\implementations-of-techniques\\.venv\\lib\\site-packages\\matplotlib\\patches.py:645\u001B[0m, in \u001B[0;36mPatch.get_window_extent\u001B[1;34m(self, renderer)\u001B[0m\n\u001B[0;32m    644\u001B[0m \u001B[38;5;28;01mdef\u001B[39;00m \u001B[38;5;21mget_window_extent\u001B[39m(\u001B[38;5;28mself\u001B[39m, renderer\u001B[38;5;241m=\u001B[39m\u001B[38;5;28;01mNone\u001B[39;00m):\n\u001B[1;32m--> 645\u001B[0m     \u001B[38;5;28;01mreturn\u001B[39;00m \u001B[38;5;28;43mself\u001B[39;49m\u001B[38;5;241;43m.\u001B[39;49m\u001B[43mget_path\u001B[49m\u001B[43m(\u001B[49m\u001B[43m)\u001B[49m\u001B[38;5;241;43m.\u001B[39;49m\u001B[43mget_extents\u001B[49m\u001B[43m(\u001B[49m\u001B[38;5;28;43mself\u001B[39;49m\u001B[38;5;241;43m.\u001B[39;49m\u001B[43mget_transform\u001B[49m\u001B[43m(\u001B[49m\u001B[43m)\u001B[49m\u001B[43m)\u001B[49m\n",
      "File \u001B[1;32m~\\Desktop\\Studies\\Research Project\\implementations-of-techniques\\.venv\\lib\\site-packages\\matplotlib\\path.py:642\u001B[0m, in \u001B[0;36mPath.get_extents\u001B[1;34m(self, transform, **kwargs)\u001B[0m\n\u001B[0;32m    640\u001B[0m         \u001B[38;5;66;03m# as can the ends of the curve\u001B[39;00m\n\u001B[0;32m    641\u001B[0m         xys\u001B[38;5;241m.\u001B[39mappend(curve([\u001B[38;5;241m0\u001B[39m, \u001B[38;5;241m*\u001B[39mdzeros, \u001B[38;5;241m1\u001B[39m]))\n\u001B[1;32m--> 642\u001B[0m     xys \u001B[38;5;241m=\u001B[39m \u001B[43mnp\u001B[49m\u001B[38;5;241;43m.\u001B[39;49m\u001B[43mconcatenate\u001B[49m\u001B[43m(\u001B[49m\u001B[43mxys\u001B[49m\u001B[43m)\u001B[49m\n\u001B[0;32m    643\u001B[0m \u001B[38;5;28;01mif\u001B[39;00m \u001B[38;5;28mlen\u001B[39m(xys):\n\u001B[0;32m    644\u001B[0m     \u001B[38;5;28;01mreturn\u001B[39;00m Bbox([xys\u001B[38;5;241m.\u001B[39mmin(axis\u001B[38;5;241m=\u001B[39m\u001B[38;5;241m0\u001B[39m), xys\u001B[38;5;241m.\u001B[39mmax(axis\u001B[38;5;241m=\u001B[39m\u001B[38;5;241m0\u001B[39m)])\n",
      "\u001B[1;31mValueError\u001B[0m: need at least one array to concatenate"
     ]
    },
    {
     "data": {
      "text/plain": [
       "<Figure size 600x600 with 1 Axes>"
      ]
     },
     "metadata": {},
     "output_type": "display_data"
    }
   ],
   "execution_count": 102
  },
  {
   "metadata": {
    "ExecuteTime": {
     "end_time": "2024-12-09T14:50:57.735238Z",
     "start_time": "2024-12-09T14:50:57.719551Z"
    }
   },
   "cell_type": "code",
   "source": "upper_bound_accuracy",
   "id": "74d438f4234c6f49",
   "outputs": [
    {
     "data": {
      "text/plain": [
       "82.07609386112142"
      ]
     },
     "execution_count": 103,
     "metadata": {},
     "output_type": "execute_result"
    }
   ],
   "execution_count": 103
  },
  {
   "metadata": {
    "ExecuteTime": {
     "end_time": "2024-12-09T15:27:26.664153Z",
     "start_time": "2024-12-09T15:27:26.473063Z"
    }
   },
   "cell_type": "code",
   "source": [
    "import matplotlib.pyplot as plt\n",
    "import numpy as np  # Don't forget to import numpy if not already done\n",
    "\n",
    "participants = [\"Lower Bound\", \"ECCV16\", \"SIGGRAPH17\", \"Upper Bound\"]\n",
    "accuracies = [lower_bound_accuracy, transformed_accuracy_eccv16, transformed_accuracy_siggraph17, upper_bound_accuracy]\n",
    "\n",
    "# Plot setup\n",
    "fig, ax = plt.subplots()\n",
    "\n",
    "bar_width = 0.35\n",
    "gap_size = 0.5\n",
    "\n",
    "# Create an index with gaps between participants\n",
    "index = np.arange(len(participants)) * (3 * bar_width + gap_size)\n",
    "\n",
    "# Define colors for the bars\n",
    "# colors = [\"blue\" if i in [0, 3] else \"orange\" for i in range(len(participants))]\n",
    "\n",
    "# Create the bars\n",
    "bars = ax.bar(index, accuracies, bar_width)\n",
    "\n",
    "# Add accuracy values above the bars\n",
    "for i, bar in enumerate(bars):\n",
    "    ax.text(\n",
    "        bar.get_x() + bar.get_width() / 2,  # x-coordinate: center of the bar\n",
    "        bar.get_height() + 1,               # y-coordinate: slightly above the bar\n",
    "        f\"{accuracies[i]:.2f}%\",               # Text to display\n",
    "        ha=\"center\", va=\"bottom\", fontsize=10  # Alignment and font size\n",
    "    )\n",
    "\n",
    "# Set labels and title\n",
    "ax.set_ylabel('Accuracy (%)')\n",
    "ax.set_title('Comparison of Accuracy with Threshold Value 0.05')\n",
    "\n",
    "# Set x-axis ticks and labels\n",
    "ax.set_xticks(index)\n",
    "ax.set_xticklabels(participants)\n",
    "\n",
    "# Show plot\n",
    "plt.tight_layout()\n",
    "plt.show()\n"
   ],
   "id": "84d363567ebc7ccf",
   "outputs": [
    {
     "data": {
      "text/plain": [
       "<Figure size 640x480 with 1 Axes>"
      ],
      "image/png": "[encoded data removed]"
     },
     "metadata": {},
     "output_type": "display_data"
    }
   ],
   "execution_count": 159
  },
  {
   "metadata": {
    "ExecuteTime": {
     "end_time": "2024-12-09T15:08:49.087824Z",
     "start_time": "2024-12-09T15:08:49.054481Z"
    }
   },
   "cell_type": "code",
   "source": [
    "import os\n",
    "import json\n",
    "\n",
    "def calculate_bound_distances(image_directory, ground_truth_directory):\n",
    "    total_bound = []\n",
    "    for file_name in os.listdir(ground_truth_directory):\n",
    "        if file_name.endswith('.json'):\n",
    "            json_file_path = os.path.join(ground_truth_directory, file_name)\n",
    "            \n",
    "            with open(json_file_path, 'r') as f:\n",
    "                ground_truth_data = json.load(f)\n",
    "                \n",
    "            for entry in ground_truth_data:\n",
    "                image_name = entry[\"image\"]\n",
    "                ground_truth_landmarks = entry[\"landmarks\"]\n",
    "                image_path = os.path.join(image_directory, image_name)\n",
    "    \n",
    "                distances = calculate_distances_for_image(image_path, ground_truth_landmarks)\n",
    "                total_bound.append(distances)\n",
    "            \n",
    "    return total_bound"
   ],
   "id": "b70544d39ca00689",
   "outputs": [],
   "execution_count": 114
  },
  {
   "metadata": {
    "ExecuteTime": {
     "end_time": "2024-12-09T15:09:00.980060Z",
     "start_time": "2024-12-09T15:08:49.870713Z"
    }
   },
   "cell_type": "code",
   "source": [
    "lower_bound_distances = calculate_bound_distances(IR_image_directory, IR_ground_truth_directory)\n",
    "upper_bound_distances = calculate_bound_distances(RGB_image_directory, RGB_ground_truth_directory)"
   ],
   "id": "90ce8034b1f077b8",
   "outputs": [
    {
     "name": "stdout",
     "output_type": "stream",
     "text": [
      "Only one hand detected\n",
      "Only one hand detected\n",
      "Only one hand detected\n",
      "Only one hand detected\n",
      "Only one hand detected\n",
      "Only one hand detected\n",
      "Only one hand detected\n",
      "Only one hand detected\n",
      "Only one hand detected\n",
      "Only one hand detected\n",
      "Only one hand detected\n",
      "Only one hand detected\n",
      "Only one hand detected\n"
     ]
    }
   ],
   "execution_count": 115
  },
  {
   "metadata": {
    "ExecuteTime": {
     "end_time": "2024-12-09T15:10:29.965581Z",
     "start_time": "2024-12-09T15:10:29.949495Z"
    }
   },
   "cell_type": "code",
   "source": [
    "def compute_statistics(distance_data, penalty_value=None):\n",
    "    # Flatten the list of lists\n",
    "    all_distances = [dist for image in distance_data for dist in image]\n",
    "    \n",
    "    # Filter out penalty values if provided\n",
    "    valid_distances = all_distances if penalty_value is None else [dist for dist in all_distances if dist != penalty_value]\n",
    "    \n",
    "    # Compute statistics\n",
    "    mean = np.mean(valid_distances)\n",
    "    median = np.median(valid_distances)\n",
    "    std_dev = np.std(valid_distances)\n",
    "    min_dist = np.min(valid_distances)\n",
    "    max_dist = np.max(valid_distances)\n",
    "    \n",
    "    return mean, median, std_dev, min_dist, max_dist"
   ],
   "id": "cdff6f63e9dbec5f",
   "outputs": [],
   "execution_count": 119
  },
  {
   "metadata": {
    "ExecuteTime": {
     "end_time": "2024-12-09T15:24:39.533564Z",
     "start_time": "2024-12-09T15:24:39.521047Z"
    }
   },
   "cell_type": "code",
   "source": [
    "datasets = {\n",
    "    \"Lower Bound\": lower_bound_distances,\n",
    "    \"SIGGRAPH17\": total_distances_siggaph17,\n",
    "    \"ECCV16\": total_distances_siggaph17,\n",
    "    \"Upper Bound\": upper_bound_distances\n",
    "}"
   ],
   "id": "c5e3e238e5bd5a88",
   "outputs": [],
   "execution_count": 151
  },
  {
   "metadata": {
    "ExecuteTime": {
     "end_time": "2024-12-09T15:24:39.951720Z",
     "start_time": "2024-12-09T15:24:39.940213Z"
    }
   },
   "cell_type": "code",
   "source": "penalty_value = None",
   "id": "f9f74d0dfce1bcc7",
   "outputs": [],
   "execution_count": 152
  },
  {
   "metadata": {
    "ExecuteTime": {
     "end_time": "2024-12-09T15:24:40.423637Z",
     "start_time": "2024-12-09T15:24:40.391957Z"
    }
   },
   "cell_type": "code",
   "source": [
    "statistics = {\n",
    "    name: compute_statistics(data)\n",
    "    for name, data in datasets.items()\n",
    "}"
   ],
   "id": "8240d5f93cdc6d3a",
   "outputs": [],
   "execution_count": 153
  },
  {
   "metadata": {
    "ExecuteTime": {
     "end_time": "2024-12-09T15:24:41.044472Z",
     "start_time": "2024-12-09T15:24:41.028804Z"
    }
   },
   "cell_type": "code",
   "source": [
    "for name, stats in statistics.items():\n",
    "    print(f\"{name}:\")\n",
    "    print(f\"  Mean: {stats[0]:.3f}\")\n",
    "    print(f\"  Median: {stats[1]:.3f}\")\n",
    "    print(f\"  Std Dev: {stats[2]:.3f}\")\n",
    "    print(f\"  Min: {stats[3]:.3f}\")\n",
    "    print(f\"  Max: {stats[4]:.3f}\")\n",
    "    print()"
   ],
   "id": "a43a91377208377d",
   "outputs": [
    {
     "name": "stdout",
     "output_type": "stream",
     "text": [
      "Lower Bound:\n",
      "  Mean: 0.416\n",
      "  Median: 0.024\n",
      "  Std Dev: 0.483\n",
      "  Min: 0.000\n",
      "  Max: 1.000\n",
      "\n",
      "SIGGRAPH17:\n",
      "  Mean: 0.068\n",
      "  Median: 0.012\n",
      "  Std Dev: 0.219\n",
      "  Min: 0.000\n",
      "  Max: 1.000\n",
      "\n",
      "ECCV16:\n",
      "  Mean: 0.068\n",
      "  Median: 0.012\n",
      "  Std Dev: 0.219\n",
      "  Min: 0.000\n",
      "  Max: 1.000\n",
      "\n",
      "Upper Bound:\n",
      "  Mean: 0.009\n",
      "  Median: 0.007\n",
      "  Std Dev: 0.007\n",
      "  Min: 0.000\n",
      "  Max: 0.047\n",
      "\n"
     ]
    }
   ],
   "execution_count": 154
  },
  {
   "metadata": {
    "ExecuteTime": {
     "end_time": "2024-12-09T15:24:48.724970Z",
     "start_time": "2024-12-09T15:24:48.709336Z"
    }
   },
   "cell_type": "code",
   "source": [
    "# Visualize statistics\n",
    "means = [stats[0] for stats in statistics.values()]\n",
    "medians = [stats[1] for stats in statistics.values()]\n",
    "std_devs = [stats[2] for stats in statistics.values()]\n",
    "categories = list(statistics.keys())\n"
   ],
   "id": "4a866c31fea5c174",
   "outputs": [],
   "execution_count": 155
  },
  {
   "metadata": {
    "ExecuteTime": {
     "end_time": "2024-12-09T15:24:49.639870Z",
     "start_time": "2024-12-09T15:24:49.369504Z"
    }
   },
   "cell_type": "code",
   "source": [
    "x = np.arange(len(categories))  # X-axis positions\n",
    "width = 0.25  # Width of the bars\n",
    "\n",
    "# Create subplots\n",
    "fig, ax = plt.subplots(1, 2, figsize=(12, 5))\n",
    "\n",
    "# Plot means and standard deviations\n",
    "ax[0].bar(x - width/2, means, width, label='Mean')\n",
    "ax[0].bar(x + width/2, medians, width, label='Median')\n",
    "ax[0].set_title(\"Mean and Median Distances\")\n",
    "ax[0].set_xticks(x)\n",
    "ax[0].set_xticklabels(categories)\n",
    "ax[0].set_ylabel(\"Distance\")\n",
    "ax[0].legend()\n",
    "\n",
    "# Plot standard deviation\n",
    "ax[1].bar(x, std_devs, width, label='Standard Deviation')\n",
    "ax[1].set_title(\"Standard Deviation of Distances\")\n",
    "ax[1].set_xticks(x)\n",
    "ax[1].set_xticklabels(categories)\n",
    "ax[1].set_ylabel(\"Standard Deviation\")\n",
    "ax[1].legend()\n",
    "\n",
    "# Improve layout\n",
    "plt.tight_layout()\n",
    "\n",
    "# Show plots\n",
    "plt.show()"
   ],
   "id": "6fa496b1168aac74",
   "outputs": [
    {
     "data": {
      "text/plain": [
       "<Figure size 1200x500 with 2 Axes>"
      ],
      "image/png": "[encoded data removed]"
     },
     "metadata": {},
     "output_type": "display_data"
    }
   ],
   "execution_count": 156
  },
  {
   "metadata": {
    "ExecuteTime": {
     "end_time": "2024-12-09T15:41:41.629450Z",
     "start_time": "2024-12-09T15:41:41.614080Z"
    }
   },
   "cell_type": "code",
   "source": "zosia_results[\"accuracy_siggaph17\"][\"Left\"]",
   "id": "4b6e214960805bea",
   "outputs": [
    {
     "data": {
      "text/plain": [
       "[69.47171187749174,\n",
       " 73.67109228030837,\n",
       " 78.70217977389488,\n",
       " 86.05006476772343,\n",
       " 76.7705076685402,\n",
       " 64.51007916159372,\n",
       " 71.12015651003743,\n",
       " 63.845244091870754,\n",
       " 85.60615018944945,\n",
       " 60.18223239208227,\n",
       " 55.33503773932824,\n",
       " 37.01655251385484,\n",
       " 74.39035526109362,\n",
       " 40.49089234054682,\n",
       " 90.92891802134467,\n",
       " 58.303274756241166,\n",
       " 87.68882414318601,\n",
       " 84.66301361965667,\n",
       " 95.87186015077133,\n",
       " 84.45316033236632,\n",
       " 90.38246332626595,\n",
       " 64.98199254886966,\n",
       " 88.96103385814213,\n",
       " 92.56504912131004,\n",
       " 92.29444759957424,\n",
       " 90.60739970454131,\n",
       " 76.8571745741797,\n",
       " 73.40523143179338,\n",
       " 66.85149063854384,\n",
       " 99.24567737414128,\n",
       " 80.84702755866485,\n",
       " 53.69706034432713,\n",
       " 45.350375804373165,\n",
       " 95.85854793462939,\n",
       " 69.58143867795053,\n",
       " 89.16850007416743,\n",
       " 83.02599777777291,\n",
       " 85.30037394583486,\n",
       " 68.99139929380547,\n",
       " 90.93862035282532,\n",
       " 91.34717160936748,\n",
       " 84.9052015453263,\n",
       " 83.81444683005273,\n",
       " 78.0162754420415,\n",
       " 87.51015015563735,\n",
       " 84.8448654936026,\n",
       " 85.10731834241449,\n",
       " 95.77016909540103,\n",
       " 53.18246919358609,\n",
       " 66.31484134388094,\n",
       " 93.17766670689613,\n",
       " 84.60888911121812,\n",
       " 48.99846512729916,\n",
       " 51.325946419638576,\n",
       " 89.11899518305249,\n",
       " 78.64439418313897,\n",
       " 85.30322585698264,\n",
       " 96.58685210272766,\n",
       " 93.24823942884186,\n",
       " 84.20975161632784,\n",
       " 84.80723584422714,\n",
       " 78.55840831674035,\n",
       " 94.23461274969122,\n",
       " 57.20717322077633,\n",
       " 44.070678328540424,\n",
       " 81.4545272860127,\n",
       " 87.46812077719648,\n",
       " 87.86906908723014,\n",
       " 86.5198389593032,\n",
       " 78.9961597539368,\n",
       " 78.38280267383534,\n",
       " 90.05283843266152,\n",
       " 96.49868466215511,\n",
       " 60.4290329730789,\n",
       " 64.13592261485917,\n",
       " 92.12944131115952,\n",
       " 95.7405667602319,\n",
       " 82.24172799746489,\n",
       " 85.92733069016707,\n",
       " 81.17751110049069,\n",
       " 87.66419674388534,\n",
       " 75.55709943534175,\n",
       " 80.89117750196492,\n",
       " 85.17155422036068,\n",
       " 71.0963017186351,\n",
       " 76.53836971840838,\n",
       " 86.28159185692385,\n",
       " 88.53970601093572,\n",
       " 84.29396581523635,\n",
       " 93.6744531170725,\n",
       " 55.001441322292166,\n",
       " 55.01092230794784,\n",
       " 97.14054044222237,\n",
       " 86.25577581821021,\n",
       " 74.76709417034937,\n",
       " 74.52964303094245,\n",
       " 95.63277937771514,\n",
       " 66.34866179914896,\n",
       " 72.69446261006405,\n",
       " 84.80963924172048,\n",
       " 88.93246735432405,\n",
       " 85.06091166373719,\n",
       " 81.26164485258329,\n",
       " 69.03534557841856,\n",
       " 91.27789260494951,\n",
       " 13.046315773464501,\n",
       " 1.7548520842459725,\n",
       " 48.598502995210424,\n",
       " 87.52130517772602,\n",
       " 56.232429099328904,\n",
       " 88.66461525862542,\n",
       " 77.2252108238434,\n",
       " 85.67491765271899,\n",
       " 80.80403655525859,\n",
       " 87.98348523570334,\n",
       " 63.13273141232004,\n",
       " 70.16962136627896,\n",
       " 91.14045267959374,\n",
       " 85.6375115410853,\n",
       " 86.62478560738386,\n",
       " 87.2266252174633,\n",
       " 89.33591045254528,\n",
       " 84.44161991429705,\n",
       " 76.65832947354929,\n",
       " 80.99846542521409,\n",
       " 91.58538174824673,\n",
       " 79.12347735414865,\n",
       " 78.79307788948368,\n",
       " 46.622705977599644,\n",
       " 61.40127428268245,\n",
       " 61.78956397434584,\n",
       " 83.19276098749498,\n",
       " 78.52725887676597,\n",
       " 80.31446714792003,\n",
       " 67.40092385513663,\n",
       " 61.954719865788775,\n",
       " 76.55815334259489,\n",
       " 80.51016783506594,\n",
       " 84.59703541696909,\n",
       " 73.94010092991256,\n",
       " 95.00549642609964,\n",
       " 90.65912551596074,\n",
       " 70.77382106166527,\n",
       " 97.01893094167265,\n",
       " 70.17985631,\n",
       " 75.43420772049588,\n",
       " 78.31067392228421,\n",
       " 58.16321101233688,\n",
       " 59.21842823482275,\n",
       " 42.893654089207324,\n",
       " 18.378906797374196,\n",
       " 0,\n",
       " 58.806527915402505,\n",
       " 93.52051863177408,\n",
       " 81.42233369198041,\n",
       " 93.69088910764492,\n",
       " 60.17361471437938,\n",
       " 94.34379230184369,\n",
       " 81.11456430350302,\n",
       " 59.30892724621548,\n",
       " 56.79379832836605,\n",
       " 82.4142453641961,\n",
       " 83.30330994302764,\n",
       " 74.4296132807529,\n",
       " 82.45501318792597,\n",
       " 73.83177122527546,\n",
       " 91.41413493352981,\n",
       " 84.0783837683867,\n",
       " 78.85192385587357,\n",
       " 54.75722379486243,\n",
       " 65.3938779361145,\n",
       " 58.93659931983174,\n",
       " 60.46606736874125,\n",
       " 60.57963362683439,\n",
       " 88.16695841517715,\n",
       " 73.34673876350736,\n",
       " 87.7796853064952,\n",
       " 51.75977415640798,\n",
       " 78.28894337314924,\n",
       " 56.27578804986354,\n",
       " 92.1129172921575,\n",
       " 57.049505604352916,\n",
       " 93.53886460760621,\n",
       " 83.04014026317267,\n",
       " 94.89025107551846,\n",
       " 83.96477795540224,\n",
       " 90.2207226104448,\n",
       " 79.67417482704646,\n",
       " 89.60814382061497,\n",
       " 77.16688185663544,\n",
       " 90.67808562359575,\n",
       " 76.16120735514393,\n",
       " 75.95733386387967,\n",
       " 85.04227217360582,\n",
       " 61.430071190220225,\n",
       " 86.44342874485274,\n",
       " 79.32279335336301,\n",
       " 90.4281739854626,\n",
       " 54.75734543797635,\n",
       " 92.3868463932344,\n",
       " 78.89632762893709,\n",
       " 93.62192672972016,\n",
       " 52.74594891459164,\n",
       " 93.05960356890235,\n",
       " 83.51872053473804,\n",
       " 90.37453104038238,\n",
       " 73.50780854239531,\n",
       " 88.35599462701083,\n",
       " 93.17510313191228,\n",
       " 81.4070338609727,\n",
       " 69.43990670523932,\n",
       " 80.02936016926809,\n",
       " 65.23060404212585,\n",
       " 68.18820270295448,\n",
       " 76.56505215818864,\n",
       " 80.98187949173752,\n",
       " 77.96584475039981,\n",
       " 80.52922861376216,\n",
       " 89.65794223700986,\n",
       " 58.478173247861754,\n",
       " 93.03056232047786,\n",
       " 80.05598324898538,\n",
       " 92.56605410033971,\n",
       " 56.81576843010756,\n",
       " 94.93320282868744,\n",
       " 86.51583517368839,\n",
       " 92.50669966307771,\n",
       " 70.97869541446366,\n",
       " 94.6992781251426,\n",
       " 95.66589345312607,\n",
       " 95.54954095909295,\n",
       " 87.57265087719536,\n",
       " 60.41830059008013,\n",
       " 88.85121646929906,\n",
       " 89.05438744193418,\n",
       " 90.69345278334994,\n",
       " 79.47752238929884,\n",
       " 58.37194430060485,\n",
       " 57.182878712832476,\n",
       " 81.8531076884542,\n",
       " 67.52952611234512,\n",
       " 71.76667348937991,\n",
       " 68.81726664162726,\n",
       " 91.06544116523825,\n",
       " 77.38848860117072,\n",
       " 97.45912412296849,\n",
       " 78.23341575113261,\n",
       " 98.48347616883206,\n",
       " 84.3616892017365,\n",
       " 90.67249745328415,\n",
       " 90.08028804641573,\n",
       " 79.02070558577249,\n",
       " 60.711299138636846,\n",
       " 77.28553587220838,\n",
       " 93.11381802272912,\n",
       " 93.42513188567455,\n",
       " 78.34250139562998,\n",
       " 58.471918820952574,\n",
       " 92.42418684886577,\n",
       " 99.1068534955928,\n",
       " 84.66108621313178,\n",
       " 49.91588008494025,\n",
       " 70.76806311534915,\n",
       " 66.39735361664863,\n",
       " 92.85593949257614,\n",
       " 55.21301741350237,\n",
       " 87.56549277848501,\n",
       " 89.0289678822087,\n",
       " 89.4364059018897,\n",
       " 77.92724555589231,\n",
       " 89.02177808271425,\n",
       " 90.61783441545455,\n",
       " 93.29463261548847,\n",
       " 86.52251853044862,\n",
       " 80.7599395179881,\n",
       " 71.09696810425415,\n",
       " 87.3121480860537,\n",
       " 87.67461753185603,\n",
       " 68.35675729270207,\n",
       " 65.10562816657112,\n",
       " 66.44385369347276,\n",
       " 89.85552694763346,\n",
       " 68.92591725770583,\n",
       " 72.94295097986416,\n",
       " 74.13685551757867,\n",
       " 82.85163255790947,\n",
       " 68.84271880058282,\n",
       " 95.43344159743482,\n",
       " 97.23444881367026,\n",
       " 81.62109044101744,\n",
       " 90.38535443940407,\n",
       " 92.70684503340779,\n",
       " 89.74778980128023,\n",
       " 92.66286219006936,\n",
       " 81.0069489554778,\n",
       " 60.57007537168232,\n",
       " 71.16731799647911,\n",
       " 61.72529036377134,\n",
       " 72.86390934044815,\n",
       " 72.88721363966792,\n",
       " 89.87849811896119,\n",
       " 90.91228421514445,\n",
       " 80.97488664933917,\n",
       " 80.07779928579733,\n",
       " 72.89131812627025,\n",
       " 56.428303722160386,\n",
       " 92.37388899461261,\n",
       " 76.24707402399386,\n",
       " 80.75540500333977,\n",
       " 73.40326158913167,\n",
       " 92.59504912610103,\n",
       " 91.20192128875624,\n",
       " 95.06544756408876,\n",
       " 98.6752493849721,\n",
       " 98.7091304643167,\n",
       " 57.528645045826664,\n",
       " 75.85616536847088,\n",
       " 40.89977490129484,\n",
       " 72.11677572556616,\n",
       " 82.05022232480914,\n",
       " 72.80710560485932,\n",
       " 79.35793204628794,\n",
       " 85.39011625982786,\n",
       " 82.94644860914036,\n",
       " 78.37433694133601,\n",
       " 62.44820522968574,\n",
       " 55.26189104610375,\n",
       " 85.71043879781415,\n",
       " 76.99138287194229,\n",
       " 84.4314226716428,\n",
       " 75.87549475205415,\n",
       " 86.69239359107041,\n",
       " 77.16637304583836,\n",
       " 93.2795733543846,\n",
       " 89.22125256297099,\n",
       " 91.16918672516145]"
      ]
     },
     "execution_count": 167,
     "metadata": {},
     "output_type": "execute_result"
    }
   ],
   "execution_count": 167
  },
  {
   "metadata": {
    "ExecuteTime": {
     "end_time": "2024-12-09T15:42:17.715410Z",
     "start_time": "2024-12-09T15:42:17.683766Z"
    }
   },
   "cell_type": "code",
   "source": [
    "zosia_transformed_accuracy_siggraph17 = calculate_final_accuracy(zosia_results[\"accuracy_siggaph17\"])\n",
    "zosia_transformed_accuracy_eccv16 = calculate_final_accuracy(zosia_results[\"accuracy_eccv16\"])\n",
    "daan_transformed_accuracy_siggraph17 = calculate_final_accuracy(daan_results[\"accuracy_siggaph17\"])\n",
    "daan_transformed_accuracy_eccv16 = calculate_final_accuracy(daan_results[\"accuracy_eccv16\"])\n",
    "marek_transformed_accuracy_siggraph17 = calculate_final_accuracy(marek_results[\"accuracy_siggaph17\"])\n",
    "marek_transformed_accuracy_eccv16 = calculate_final_accuracy(marek_results[\"accuracy_eccv16\"])"
   ],
   "id": "e48f2f1be9faef57",
   "outputs": [],
   "execution_count": 168
  },
  {
   "metadata": {
    "ExecuteTime": {
     "end_time": "2024-12-09T15:43:53.850719Z",
     "start_time": "2024-12-09T15:43:53.637614Z"
    }
   },
   "cell_type": "code",
   "source": [
    "# Data for plotting\n",
    "participants = [\"Zosia\", \"Daan\", \"Marek\"]\n",
    "siggraph17_accuracies = [\n",
    "    zosia_transformed_accuracy_siggraph17,\n",
    "    daan_transformed_accuracy_siggraph17,\n",
    "    marek_transformed_accuracy_siggraph17,\n",
    "]\n",
    "eccv16_accuracies = [\n",
    "    zosia_transformed_accuracy_eccv16,\n",
    "    daan_transformed_accuracy_eccv16,\n",
    "    marek_transformed_accuracy_eccv16,\n",
    "]\n",
    "\n",
    "x = np.arange(len(participants))  # X-axis positions\n",
    "width = 0.35  # Bar width\n",
    "\n",
    "# Create the plot\n",
    "fig, ax = plt.subplots(figsize=(8, 5))\n",
    "\n",
    "# Plot bars for SIGGRAPH17 and ECCV16\n",
    "bar1 = ax.bar(x - width/2, siggraph17_accuracies, width, label=\"SIGGRAPH17\", color=\"blue\", alpha=0.7)\n",
    "bar2 = ax.bar(x + width/2, eccv16_accuracies, width, label=\"ECCV16\", color=\"orange\", alpha=0.7)\n",
    "\n",
    "# Add labels, title, and legend\n",
    "ax.set_xlabel(\"Participants\")\n",
    "ax.set_ylabel(\"Accuracy (%)\")\n",
    "ax.set_title(\"Accuracy Comparison for SIGGRAPH17 and ECCV16\")\n",
    "ax.set_xticks(x)\n",
    "ax.set_xticklabels(participants)\n",
    "ax.legend()\n",
    "\n",
    "# Annotate values above the bars\n",
    "for bar in bar1 + bar2:\n",
    "    height = bar.get_height()\n",
    "    ax.text(bar.get_x() + bar.get_width() / 2, height + 0.5, f\"{height:.1f}%\", ha=\"center\", va=\"bottom\", fontsize=9)\n",
    "\n",
    "plt.tight_layout()\n",
    "plt.show()"
   ],
   "id": "681e4e42af8adfb0",
   "outputs": [
    {
     "data": {
      "text/plain": [
       "<Figure size 800x500 with 1 Axes>"
      ],
      "image/png": "[encoded data removed]"
     },
     "metadata": {},
     "output_type": "display_data"
    }
   ],
   "execution_count": 169
  },
  {
   "metadata": {
    "ExecuteTime": {
     "end_time": "2024-12-09T16:05:15.935557Z",
     "start_time": "2024-12-09T16:05:15.922149Z"
    }
   },
   "cell_type": "code",
   "source": [
    "# Average distances per model per participant\n",
    "zosia_siggraph17_avg = np.mean(zosia_results[\"distance_siggaph17\"])\n",
    "daan_siggraph17_avg = np.mean(daan_results[\"distance_siggaph17\"])\n",
    "marek_siggraph17_avg = np.mean(marek_results[\"distance_siggaph17\"])\n",
    "\n",
    "zosia_eccv16_avg = np.mean(zosia_results[\"distance_eccv16\"])\n",
    "daan_eccv16_avg = np.mean(daan_results[\"distance_eccv16\"])\n",
    "marek_eccv16_avg = np.mean(marek_results[\"distance_eccv16\"])"
   ],
   "id": "224a10f39fc87be8",
   "outputs": [],
   "execution_count": 170
  },
  {
   "metadata": {
    "ExecuteTime": {
     "end_time": "2024-12-09T16:06:44.118899Z",
     "start_time": "2024-12-09T16:06:43.995795Z"
    }
   },
   "cell_type": "code",
   "source": [
    "# Plot the distances\n",
    "\n",
    "# Data for plotting\n",
    "participants = [\"Zosia\", \"Daan\", \"Marek\"]\n",
    "siggraph17_avg_distances = [zosia_siggraph17_avg, daan_siggraph17_avg, marek_siggraph17_avg]\n",
    "eccv16_avg_distances = [zosia_eccv16_avg, daan_eccv16_avg, marek_eccv16_avg]\n",
    "\n",
    "x = np.arange(len(participants))  # X-axis positions\n",
    "width = 0.35  # Bar width\n",
    "\n",
    "# Create the plot\n",
    "fig, ax = plt.subplots(figsize=(8, 5))\n",
    "\n",
    "# Plot bars for SIGGRAPH17 and ECCV16\n",
    "bar1 = ax.bar(x - width/2, siggraph17_avg_distances, width, label=\"SIGGRAPH17\", alpha=0.7)\n",
    "bar2 = ax.bar(x + width/2, eccv16_avg_distances, width, label=\"ECCV16\", alpha=0.7)\n",
    "\n",
    "# Add labels, title, and legend \n",
    "ax.set_xlabel(\"Participants\")\n",
    "ax.set_ylabel(\"Average Distance\")\n",
    "ax.set_title(\"Average Distance Comparison for SIGGRAPH17 and ECCV16\")\n",
    "ax.set_xticks(x)\n",
    "ax.set_xticklabels(participants)\n",
    "ax.legend()\n",
    "\n",
    "plt.tight_layout()\n",
    "plt.show()\n"
   ],
   "id": "c39b3c6361154db5",
   "outputs": [
    {
     "data": {
      "text/plain": [
       "<Figure size 800x500 with 1 Axes>"
      ],
      "image/png": "[encoded data removed]"
     },
     "metadata": {},
     "output_type": "display_data"
    }
   ],
   "execution_count": 171
  },
  {
   "metadata": {
    "ExecuteTime": {
     "end_time": "2024-12-16T17:09:21.855511Z",
     "start_time": "2024-12-16T17:09:21.651839Z"
    }
   },
   "cell_type": "code",
   "source": [
    "# Plot lower bound, upper bound, transformed ECCV16, and transformed SIGGRAPH17 accuracies\n",
    "participants = [\"Lower Bound\", \"Inverted Colors\", \"Upper Bound\",]\n",
    "accuracies = [lower_bound_accuracy, inverted_accuracy, upper_bound_accuracy]\n",
    "\n",
    "# Plot setup\n",
    "fig, ax = plt.subplots()\n",
    "\n",
    "bar_width = 0.35\n",
    "gap_size = 0.5\n",
    "\n",
    "# Create an index with gaps between participants\n",
    "index = np.arange(len(participants)) * (3 * bar_width + gap_size)\n",
    "\n",
    "# Create the bars\n",
    "bars = ax.bar(index, accuracies, bar_width)\n",
    "\n",
    "# Add accuracy values above the bars\n",
    "for i, bar in enumerate(bars):\n",
    "    ax.text(\n",
    "        bar.get_x() + bar.get_width() / 2,  # x-coordinate: center of the bar\n",
    "        bar.get_height() + 1,               # y-coordinate: slightly above the bar\n",
    "        f\"{accuracies[i]:.2f}%\",               # Text to display\n",
    "        ha=\"center\", va=\"bottom\", fontsize=10  # Alignment and font size\n",
    "    )\n",
    "    \n",
    "# Set labels and title\n",
    "ax.set_ylabel('Accuracy (%)')\n",
    "ax.set_title('Comparison of Accuracy with Threshold Value 0.05')\n",
    "\n",
    "# Set x-axis ticks and labels\n",
    "ax.set_xticks(index)\n",
    "ax.set_xticklabels(participants)\n",
    "\n",
    "# Show plot\n",
    "plt.tight_layout()\n",
    "plt.show()"
   ],
   "id": "fe35bebe688ead32",
   "outputs": [
    {
     "data": {
      "text/plain": [
       "<Figure size 640x480 with 1 Axes>"
      ],
      "image/png": "[encoded data removed]"
     },
     "metadata": {},
     "output_type": "display_data"
    }
   ],
   "execution_count": 112
  },
  {
   "metadata": {},
   "cell_type": "code",
   "outputs": [],
   "execution_count": null,
   "source": "",
   "id": "e5e8553bc2585c8a"
  }
 ],
 "metadata": {
  "kernelspec": {
   "display_name": "Python 3",
   "language": "python",
   "name": "python3"
  },
  "language_info": {
   "codemirror_mode": {
    "name": "ipython",
    "version": 2
   },
   "file_extension": ".py",
   "mimetype": "text/x-python",
   "name": "python",
   "nbconvert_exporter": "python",
   "pygments_lexer": "ipython2",
   "version": "2.7.6"
  }
 },
 "nbformat": 4,
 "nbformat_minor": 5
}
